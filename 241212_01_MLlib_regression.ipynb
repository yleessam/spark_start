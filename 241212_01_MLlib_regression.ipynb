{
 "cells": [
  {
   "cell_type": "code",
   "execution_count": 1,
   "id": "1c7a8ccb-3b70-4857-86ce-e27810b01f42",
   "metadata": {},
   "outputs": [
    {
     "name": "stderr",
     "output_type": "stream",
     "text": [
      "24/12/13 10:15:49 WARN NativeCodeLoader: Unable to load native-hadoop library for your platform... using builtin-java classes where applicable\n",
      "Using Spark's default log4j profile: org/apache/spark/log4j-defaults.properties\n",
      "Setting default log level to \"WARN\".\n",
      "To adjust logging level use sc.setLogLevel(newLevel). For SparkR, use setLogLevel(newLevel).\n"
     ]
    }
   ],
   "source": [
    "from pyspark.sql import SparkSession\n",
    "\n",
    "spark = SparkSession.builder.appName(\"241212_01_MLlib_regression\").getOrCreate()"
   ]
  },
  {
   "cell_type": "markdown",
   "id": "b20efe79-dab9-481f-8573-ac659821a0f9",
   "metadata": {},
   "source": [
    "# data load"
   ]
  },
  {
   "cell_type": "code",
   "execution_count": 2,
   "id": "a9f49d75-743c-454c-aa28-a2cb02be9baa",
   "metadata": {},
   "outputs": [
    {
     "name": "stderr",
     "output_type": "stream",
     "text": [
      "                                                                                \r"
     ]
    }
   ],
   "source": [
    "train_df = spark.read.format(\"csv\")\\\n",
    "    .option(\"header\", 'true')\\\n",
    "    .option('inferSchema', 'true')\\\n",
    "    .load('data/house_train.csv')"
   ]
  },
  {
   "cell_type": "code",
   "execution_count": 3,
   "id": "066e1408-b8d3-4a5d-9709-f769753861bd",
   "metadata": {},
   "outputs": [],
   "source": [
    "test_df = spark.read.format(\"csv\")\\\n",
    "    .option(\"header\", 'true')\\\n",
    "    .option('inferSchema', 'true')\\\n",
    "    .load('data/house_test.csv')"
   ]
  },
  {
   "cell_type": "code",
   "execution_count": null,
   "id": "38267450-e0b0-4ba0-8a37-8b79619dc4a4",
   "metadata": {},
   "outputs": [],
   "source": []
  },
  {
   "cell_type": "code",
   "execution_count": null,
   "id": "4f35d6f8-f092-4d46-b2fa-d388fbc41ef4",
   "metadata": {},
   "outputs": [],
   "source": [
    "# sale price : label\n",
    "# features : ????"
   ]
  },
  {
   "cell_type": "code",
   "execution_count": 5,
   "id": "703120e5-6fd9-4f6d-9051-6cf578830a4e",
   "metadata": {
    "scrolled": true
   },
   "outputs": [
    {
     "name": "stdout",
     "output_type": "stream",
     "text": [
      "root\n",
      " |-- Id: integer (nullable = true)\n",
      " |-- MSSubClass: integer (nullable = true)\n",
      " |-- MSZoning: string (nullable = true)\n",
      " |-- LotFrontage: string (nullable = true)\n",
      " |-- LotArea: integer (nullable = true)\n",
      " |-- Street: string (nullable = true)\n",
      " |-- Alley: string (nullable = true)\n",
      " |-- LotShape: string (nullable = true)\n",
      " |-- LandContour: string (nullable = true)\n",
      " |-- Utilities: string (nullable = true)\n",
      " |-- LotConfig: string (nullable = true)\n",
      " |-- LandSlope: string (nullable = true)\n",
      " |-- Neighborhood: string (nullable = true)\n",
      " |-- Condition1: string (nullable = true)\n",
      " |-- Condition2: string (nullable = true)\n",
      " |-- BldgType: string (nullable = true)\n",
      " |-- HouseStyle: string (nullable = true)\n",
      " |-- OverallQual: integer (nullable = true)\n",
      " |-- OverallCond: integer (nullable = true)\n",
      " |-- YearBuilt: integer (nullable = true)\n",
      " |-- YearRemodAdd: integer (nullable = true)\n",
      " |-- RoofStyle: string (nullable = true)\n",
      " |-- RoofMatl: string (nullable = true)\n",
      " |-- Exterior1st: string (nullable = true)\n",
      " |-- Exterior2nd: string (nullable = true)\n",
      " |-- MasVnrType: string (nullable = true)\n",
      " |-- MasVnrArea: string (nullable = true)\n",
      " |-- ExterQual: string (nullable = true)\n",
      " |-- ExterCond: string (nullable = true)\n",
      " |-- Foundation: string (nullable = true)\n",
      " |-- BsmtQual: string (nullable = true)\n",
      " |-- BsmtCond: string (nullable = true)\n",
      " |-- BsmtExposure: string (nullable = true)\n",
      " |-- BsmtFinType1: string (nullable = true)\n",
      " |-- BsmtFinSF1: integer (nullable = true)\n",
      " |-- BsmtFinType2: string (nullable = true)\n",
      " |-- BsmtFinSF2: integer (nullable = true)\n",
      " |-- BsmtUnfSF: integer (nullable = true)\n",
      " |-- TotalBsmtSF: integer (nullable = true)\n",
      " |-- Heating: string (nullable = true)\n",
      " |-- HeatingQC: string (nullable = true)\n",
      " |-- CentralAir: string (nullable = true)\n",
      " |-- Electrical: string (nullable = true)\n",
      " |-- 1stFlrSF: integer (nullable = true)\n",
      " |-- 2ndFlrSF: integer (nullable = true)\n",
      " |-- LowQualFinSF: integer (nullable = true)\n",
      " |-- GrLivArea: integer (nullable = true)\n",
      " |-- BsmtFullBath: integer (nullable = true)\n",
      " |-- BsmtHalfBath: integer (nullable = true)\n",
      " |-- FullBath: integer (nullable = true)\n",
      " |-- HalfBath: integer (nullable = true)\n",
      " |-- BedroomAbvGr: integer (nullable = true)\n",
      " |-- KitchenAbvGr: integer (nullable = true)\n",
      " |-- KitchenQual: string (nullable = true)\n",
      " |-- TotRmsAbvGrd: integer (nullable = true)\n",
      " |-- Functional: string (nullable = true)\n",
      " |-- Fireplaces: integer (nullable = true)\n",
      " |-- FireplaceQu: string (nullable = true)\n",
      " |-- GarageType: string (nullable = true)\n",
      " |-- GarageYrBlt: string (nullable = true)\n",
      " |-- GarageFinish: string (nullable = true)\n",
      " |-- GarageCars: integer (nullable = true)\n",
      " |-- GarageArea: integer (nullable = true)\n",
      " |-- GarageQual: string (nullable = true)\n",
      " |-- GarageCond: string (nullable = true)\n",
      " |-- PavedDrive: string (nullable = true)\n",
      " |-- WoodDeckSF: integer (nullable = true)\n",
      " |-- OpenPorchSF: integer (nullable = true)\n",
      " |-- EnclosedPorch: integer (nullable = true)\n",
      " |-- 3SsnPorch: integer (nullable = true)\n",
      " |-- ScreenPorch: integer (nullable = true)\n",
      " |-- PoolArea: integer (nullable = true)\n",
      " |-- PoolQC: string (nullable = true)\n",
      " |-- Fence: string (nullable = true)\n",
      " |-- MiscFeature: string (nullable = true)\n",
      " |-- MiscVal: integer (nullable = true)\n",
      " |-- MoSold: integer (nullable = true)\n",
      " |-- YrSold: integer (nullable = true)\n",
      " |-- SaleType: string (nullable = true)\n",
      " |-- SaleCondition: string (nullable = true)\n",
      " |-- SalePrice: integer (nullable = true)\n",
      "\n"
     ]
    }
   ],
   "source": [
    "train_df.printSchema()"
   ]
  },
  {
   "cell_type": "code",
   "execution_count": 5,
   "id": "53604213-b589-4f0b-adc0-5e9b58384255",
   "metadata": {},
   "outputs": [
    {
     "name": "stdout",
     "output_type": "stream",
     "text": [
      "root\n",
      " |-- Id: integer (nullable = true)\n",
      " |-- MSSubClass: integer (nullable = true)\n",
      " |-- MSZoning: string (nullable = true)\n",
      " |-- LotFrontage: string (nullable = true)\n",
      " |-- LotArea: integer (nullable = true)\n",
      " |-- Street: string (nullable = true)\n",
      " |-- Alley: string (nullable = true)\n",
      " |-- LotShape: string (nullable = true)\n",
      " |-- LandContour: string (nullable = true)\n",
      " |-- Utilities: string (nullable = true)\n",
      " |-- LotConfig: string (nullable = true)\n",
      " |-- LandSlope: string (nullable = true)\n",
      " |-- Neighborhood: string (nullable = true)\n",
      " |-- Condition1: string (nullable = true)\n",
      " |-- Condition2: string (nullable = true)\n",
      " |-- BldgType: string (nullable = true)\n",
      " |-- HouseStyle: string (nullable = true)\n",
      " |-- OverallQual: integer (nullable = true)\n",
      " |-- OverallCond: integer (nullable = true)\n",
      " |-- YearBuilt: integer (nullable = true)\n",
      " |-- YearRemodAdd: integer (nullable = true)\n",
      " |-- RoofStyle: string (nullable = true)\n",
      " |-- RoofMatl: string (nullable = true)\n",
      " |-- Exterior1st: string (nullable = true)\n",
      " |-- Exterior2nd: string (nullable = true)\n",
      " |-- MasVnrType: string (nullable = true)\n",
      " |-- MasVnrArea: string (nullable = true)\n",
      " |-- ExterQual: string (nullable = true)\n",
      " |-- ExterCond: string (nullable = true)\n",
      " |-- Foundation: string (nullable = true)\n",
      " |-- BsmtQual: string (nullable = true)\n",
      " |-- BsmtCond: string (nullable = true)\n",
      " |-- BsmtExposure: string (nullable = true)\n",
      " |-- BsmtFinType1: string (nullable = true)\n",
      " |-- BsmtFinSF1: string (nullable = true)\n",
      " |-- BsmtFinType2: string (nullable = true)\n",
      " |-- BsmtFinSF2: string (nullable = true)\n",
      " |-- BsmtUnfSF: string (nullable = true)\n",
      " |-- TotalBsmtSF: string (nullable = true)\n",
      " |-- Heating: string (nullable = true)\n",
      " |-- HeatingQC: string (nullable = true)\n",
      " |-- CentralAir: string (nullable = true)\n",
      " |-- Electrical: string (nullable = true)\n",
      " |-- 1stFlrSF: integer (nullable = true)\n",
      " |-- 2ndFlrSF: integer (nullable = true)\n",
      " |-- LowQualFinSF: integer (nullable = true)\n",
      " |-- GrLivArea: integer (nullable = true)\n",
      " |-- BsmtFullBath: string (nullable = true)\n",
      " |-- BsmtHalfBath: string (nullable = true)\n",
      " |-- FullBath: integer (nullable = true)\n",
      " |-- HalfBath: integer (nullable = true)\n",
      " |-- BedroomAbvGr: integer (nullable = true)\n",
      " |-- KitchenAbvGr: integer (nullable = true)\n",
      " |-- KitchenQual: string (nullable = true)\n",
      " |-- TotRmsAbvGrd: integer (nullable = true)\n",
      " |-- Functional: string (nullable = true)\n",
      " |-- Fireplaces: integer (nullable = true)\n",
      " |-- FireplaceQu: string (nullable = true)\n",
      " |-- GarageType: string (nullable = true)\n",
      " |-- GarageYrBlt: string (nullable = true)\n",
      " |-- GarageFinish: string (nullable = true)\n",
      " |-- GarageCars: string (nullable = true)\n",
      " |-- GarageArea: string (nullable = true)\n",
      " |-- GarageQual: string (nullable = true)\n",
      " |-- GarageCond: string (nullable = true)\n",
      " |-- PavedDrive: string (nullable = true)\n",
      " |-- WoodDeckSF: integer (nullable = true)\n",
      " |-- OpenPorchSF: integer (nullable = true)\n",
      " |-- EnclosedPorch: integer (nullable = true)\n",
      " |-- 3SsnPorch: integer (nullable = true)\n",
      " |-- ScreenPorch: integer (nullable = true)\n",
      " |-- PoolArea: integer (nullable = true)\n",
      " |-- PoolQC: string (nullable = true)\n",
      " |-- Fence: string (nullable = true)\n",
      " |-- MiscFeature: string (nullable = true)\n",
      " |-- MiscVal: integer (nullable = true)\n",
      " |-- MoSold: integer (nullable = true)\n",
      " |-- YrSold: integer (nullable = true)\n",
      " |-- SaleType: string (nullable = true)\n",
      " |-- SaleCondition: string (nullable = true)\n",
      "\n"
     ]
    }
   ],
   "source": [
    "test_df.printSchema()"
   ]
  },
  {
   "cell_type": "code",
   "execution_count": null,
   "id": "79daad1d-2937-47a0-b4da-07bdac16ea80",
   "metadata": {},
   "outputs": [],
   "source": []
  },
  {
   "cell_type": "markdown",
   "id": "49d5610f-9111-47dc-b253-5c1af85e9538",
   "metadata": {},
   "source": [
    "# 전처리 \n",
    "\n",
    "타입 변환"
   ]
  },
  {
   "cell_type": "code",
   "execution_count": null,
   "id": "deb1882e-d651-42cd-a274-e0799be1e653",
   "metadata": {},
   "outputs": [],
   "source": [
    "#GarageArea, GarageCars integer로 캐스트"
   ]
  },
  {
   "cell_type": "code",
   "execution_count": 10,
   "id": "b0789710-2c4f-458d-86cb-e0d1577d8a7e",
   "metadata": {
    "scrolled": true
   },
   "outputs": [],
   "source": [
    "train_df = train_df.withColumn( \"GarageArea\", train_df[\"GarageArea\"].cast(\"integer\") )\n",
    "test_df = test_df.withColumn( \"GarageArea\",  test_df[\"GarageArea\"].cast(\"integer\") )"
   ]
  },
  {
   "cell_type": "code",
   "execution_count": 11,
   "id": "e0bf7e7a-6deb-40b6-820a-2d5bac75846b",
   "metadata": {},
   "outputs": [],
   "source": [
    "train_df = train_df.withColumn( \"GarageCars\", train_df[\"GarageCars\"].cast(\"integer\") )\n",
    "test_df = test_df.withColumn( \"GarageCars\",  test_df[\"GarageCars\"].cast(\"integer\") )"
   ]
  },
  {
   "cell_type": "code",
   "execution_count": 12,
   "id": "739487da-ffc5-4560-8347-cf9dd33863a0",
   "metadata": {
    "scrolled": true
   },
   "outputs": [
    {
     "name": "stdout",
     "output_type": "stream",
     "text": [
      "root\n",
      " |-- Id: integer (nullable = true)\n",
      " |-- MSSubClass: integer (nullable = true)\n",
      " |-- MSZoning: string (nullable = true)\n",
      " |-- LotFrontage: string (nullable = true)\n",
      " |-- LotArea: integer (nullable = true)\n",
      " |-- Street: string (nullable = true)\n",
      " |-- Alley: string (nullable = true)\n",
      " |-- LotShape: string (nullable = true)\n",
      " |-- LandContour: string (nullable = true)\n",
      " |-- Utilities: string (nullable = true)\n",
      " |-- LotConfig: string (nullable = true)\n",
      " |-- LandSlope: string (nullable = true)\n",
      " |-- Neighborhood: string (nullable = true)\n",
      " |-- Condition1: string (nullable = true)\n",
      " |-- Condition2: string (nullable = true)\n",
      " |-- BldgType: string (nullable = true)\n",
      " |-- HouseStyle: string (nullable = true)\n",
      " |-- OverallQual: integer (nullable = true)\n",
      " |-- OverallCond: integer (nullable = true)\n",
      " |-- YearBuilt: integer (nullable = true)\n",
      " |-- YearRemodAdd: integer (nullable = true)\n",
      " |-- RoofStyle: string (nullable = true)\n",
      " |-- RoofMatl: string (nullable = true)\n",
      " |-- Exterior1st: string (nullable = true)\n",
      " |-- Exterior2nd: string (nullable = true)\n",
      " |-- MasVnrType: string (nullable = true)\n",
      " |-- MasVnrArea: string (nullable = true)\n",
      " |-- ExterQual: string (nullable = true)\n",
      " |-- ExterCond: string (nullable = true)\n",
      " |-- Foundation: string (nullable = true)\n",
      " |-- BsmtQual: string (nullable = true)\n",
      " |-- BsmtCond: string (nullable = true)\n",
      " |-- BsmtExposure: string (nullable = true)\n",
      " |-- BsmtFinType1: string (nullable = true)\n",
      " |-- BsmtFinSF1: integer (nullable = true)\n",
      " |-- BsmtFinType2: string (nullable = true)\n",
      " |-- BsmtFinSF2: integer (nullable = true)\n",
      " |-- BsmtUnfSF: integer (nullable = true)\n",
      " |-- TotalBsmtSF: integer (nullable = true)\n",
      " |-- Heating: string (nullable = true)\n",
      " |-- HeatingQC: string (nullable = true)\n",
      " |-- CentralAir: string (nullable = true)\n",
      " |-- Electrical: string (nullable = true)\n",
      " |-- 1stFlrSF: integer (nullable = true)\n",
      " |-- 2ndFlrSF: integer (nullable = true)\n",
      " |-- LowQualFinSF: integer (nullable = true)\n",
      " |-- GrLivArea: integer (nullable = true)\n",
      " |-- BsmtFullBath: integer (nullable = true)\n",
      " |-- BsmtHalfBath: integer (nullable = true)\n",
      " |-- FullBath: integer (nullable = true)\n",
      " |-- HalfBath: integer (nullable = true)\n",
      " |-- BedroomAbvGr: integer (nullable = true)\n",
      " |-- KitchenAbvGr: integer (nullable = true)\n",
      " |-- KitchenQual: string (nullable = true)\n",
      " |-- TotRmsAbvGrd: integer (nullable = true)\n",
      " |-- Functional: string (nullable = true)\n",
      " |-- Fireplaces: integer (nullable = true)\n",
      " |-- FireplaceQu: string (nullable = true)\n",
      " |-- GarageType: string (nullable = true)\n",
      " |-- GarageYrBlt: string (nullable = true)\n",
      " |-- GarageFinish: string (nullable = true)\n",
      " |-- GarageCars: integer (nullable = true)\n",
      " |-- GarageArea: integer (nullable = true)\n",
      " |-- GarageQual: string (nullable = true)\n",
      " |-- GarageCond: string (nullable = true)\n",
      " |-- PavedDrive: string (nullable = true)\n",
      " |-- WoodDeckSF: integer (nullable = true)\n",
      " |-- OpenPorchSF: integer (nullable = true)\n",
      " |-- EnclosedPorch: integer (nullable = true)\n",
      " |-- 3SsnPorch: integer (nullable = true)\n",
      " |-- ScreenPorch: integer (nullable = true)\n",
      " |-- PoolArea: integer (nullable = true)\n",
      " |-- PoolQC: string (nullable = true)\n",
      " |-- Fence: string (nullable = true)\n",
      " |-- MiscFeature: string (nullable = true)\n",
      " |-- MiscVal: integer (nullable = true)\n",
      " |-- MoSold: integer (nullable = true)\n",
      " |-- YrSold: integer (nullable = true)\n",
      " |-- SaleType: string (nullable = true)\n",
      " |-- SaleCondition: string (nullable = true)\n",
      " |-- SalePrice: integer (nullable = true)\n",
      "\n"
     ]
    }
   ],
   "source": [
    "train_df.printSchema()"
   ]
  },
  {
   "cell_type": "markdown",
   "id": "39255860-5a6a-485f-b00a-c4e93845d7b4",
   "metadata": {},
   "source": [
    "\n",
    "missing value = 0 으로 "
   ]
  },
  {
   "cell_type": "code",
   "execution_count": 13,
   "id": "8fe6434b-8b72-44ea-9e6d-86b57944f10e",
   "metadata": {},
   "outputs": [],
   "source": [
    "# 결측치 0\n",
    "train_df = train_df.fillna(0)\n",
    "test_df = test_df.fillna(0)\n"
   ]
  },
  {
   "cell_type": "markdown",
   "id": "dc30e99a-384e-4211-b09d-13545a9e929f",
   "metadata": {},
   "source": [
    "# 인코딩 \n",
    "\n",
    "문자형 > 숫자형 1,2,3,4 "
   ]
  },
  {
   "cell_type": "code",
   "execution_count": 14,
   "id": "7127c502-c2cf-412a-af19-206cb410762b",
   "metadata": {},
   "outputs": [],
   "source": [
    "from pyspark.ml.feature import StringIndexer, VectorAssembler, OneHotEncoder"
   ]
  },
  {
   "cell_type": "code",
   "execution_count": 15,
   "id": "b50667fc-60eb-4102-90e3-c84f1caaad24",
   "metadata": {},
   "outputs": [],
   "source": [
    "string_columns = ['Neighborhood']\n",
    "# 1,2,3,4 로 값을 단순화\n",
    "indexers = [StringIndexer(inputCol=col, outputCol=col+\"_index\")   for col in string_columns]"
   ]
  },
  {
   "cell_type": "code",
   "execution_count": 16,
   "id": "469e44e6-d17a-4a42-b6dc-019563467e84",
   "metadata": {},
   "outputs": [],
   "source": [
    "# onehotencoding : 범주형변수 1,2,3,4, -> 1로 바꾸는 인코딩\n",
    "# 모두 1로 바꾼다.\n",
    "encoders = [OneHotEncoder(inputCol=col+\"_index\", outputCol=col+\"_encoded\")   for col in string_columns]"
   ]
  },
  {
   "cell_type": "markdown",
   "id": "108e15be-b19c-48e8-8aa5-0aa95e9757b0",
   "metadata": {},
   "source": [
    "# features selection"
   ]
  },
  {
   "cell_type": "code",
   "execution_count": 17,
   "id": "7eb2b5da-43aa-469b-a465-2da55587a27d",
   "metadata": {},
   "outputs": [],
   "source": [
    "numeric_columns = [\"LotArea\", \"OverallQual\", \"OverallCond\", \"YearBuilt\", \"YearRemodAdd\", \n",
    "    \"1stFlrSF\", \"2ndFlrSF\", \"GrLivArea\", \"GarageCars\", \"GarageArea\"]"
   ]
  },
  {
   "cell_type": "code",
   "execution_count": 19,
   "id": "1ae29729-8db2-43af-93b6-736b52f875f7",
   "metadata": {},
   "outputs": [],
   "source": [
    "#문자형(인코딩) + 숫자형 피처를 결합한 모델입력 생성\n",
    "assembler_inputs = [col+\"_encoded\" for col in string_columns] + numeric_columns"
   ]
  },
  {
   "cell_type": "code",
   "execution_count": null,
   "id": "5e49019a-b0e6-4d41-a7ea-4a1c4753aa36",
   "metadata": {},
   "outputs": [],
   "source": []
  },
  {
   "cell_type": "markdown",
   "id": "141c474b-1bf8-46c4-9b03-ddecd9065f5b",
   "metadata": {},
   "source": [
    "# assembler "
   ]
  },
  {
   "cell_type": "code",
   "execution_count": 20,
   "id": "48c69d15-f433-45a2-b943-ba7a01b13172",
   "metadata": {},
   "outputs": [],
   "source": [
    "assembler = VectorAssembler(inputCols=assembler_inputs, outputCol=\"features\")"
   ]
  },
  {
   "cell_type": "markdown",
   "id": "a9570e5b-5549-4320-b937-f805f8ca832d",
   "metadata": {},
   "source": [
    "# label selection"
   ]
  },
  {
   "cell_type": "code",
   "execution_count": 21,
   "id": "97cfee62-6a00-42c6-bfad-1961d70821b2",
   "metadata": {},
   "outputs": [],
   "source": [
    "train_df = train_df.withColumnRenamed(\"SalePrice\", \"label\")"
   ]
  },
  {
   "cell_type": "code",
   "execution_count": null,
   "id": "75a2107a-7f37-4fdf-aeb8-2fe87f2a36fd",
   "metadata": {},
   "outputs": [],
   "source": []
  },
  {
   "cell_type": "markdown",
   "id": "32d0b66f-c77e-4121-a8dc-d3cf232e2ea1",
   "metadata": {},
   "source": [
    "# pipeline 설정"
   ]
  },
  {
   "cell_type": "markdown",
   "id": "2c867789-6c14-44d7-9636-71009f7609a7",
   "metadata": {},
   "source": [
    "StringIndex + OnehotEncoder + Assembler >> 하나의 SparkML Pipeline 으로 결합"
   ]
  },
  {
   "cell_type": "code",
   "execution_count": 22,
   "id": "e6fed48a-d523-4f31-827e-e373ab267b47",
   "metadata": {},
   "outputs": [],
   "source": [
    "from pyspark.ml import Pipeline"
   ]
  },
  {
   "cell_type": "code",
   "execution_count": 23,
   "id": "01e747e4-411d-4945-8abd-fe6461315d9a",
   "metadata": {},
   "outputs": [],
   "source": [
    "pipeline = Pipeline(stages = indexers+encoders+[assembler])"
   ]
  },
  {
   "cell_type": "code",
   "execution_count": 22,
   "id": "52a597f5-8596-466a-b76a-b6892b091008",
   "metadata": {},
   "outputs": [],
   "source": [
    "# pipeline 실행 1"
   ]
  },
  {
   "cell_type": "code",
   "execution_count": 24,
   "id": "c7f3d5f7-81cd-4c60-91a3-b78bb44bd381",
   "metadata": {},
   "outputs": [
    {
     "name": "stderr",
     "output_type": "stream",
     "text": [
      "                                                                                \r"
     ]
    }
   ],
   "source": [
    "pipeline_model = pipeline.fit( train_df )"
   ]
  },
  {
   "cell_type": "code",
   "execution_count": 25,
   "id": "1e8d44c9-cf0a-4e97-90dd-acf4151a5109",
   "metadata": {},
   "outputs": [],
   "source": [
    "train_transformed = pipeline_model.transform( train_df )"
   ]
  },
  {
   "cell_type": "code",
   "execution_count": null,
   "id": "e8e01198-5d78-46c9-b380-1c28c5b5a583",
   "metadata": {},
   "outputs": [],
   "source": []
  },
  {
   "cell_type": "markdown",
   "id": "021e72fb-be89-42a3-95f4-f1a06db60636",
   "metadata": {},
   "source": [
    "# 모델 생성 :: 회귀 모델 학습 > 평가 > 예측"
   ]
  },
  {
   "cell_type": "code",
   "execution_count": 26,
   "id": "98f86b5c-5037-427a-9590-4cd3cc1efc73",
   "metadata": {},
   "outputs": [],
   "source": [
    "from pyspark.ml.regression import LinearRegression"
   ]
  },
  {
   "cell_type": "code",
   "execution_count": 27,
   "id": "04a7f470-637d-49d6-b34e-30e4ad6d9a69",
   "metadata": {
    "scrolled": true
   },
   "outputs": [
    {
     "name": "stderr",
     "output_type": "stream",
     "text": [
      "24/12/13 10:27:15 WARN Instrumentation: [b3fc0dd9] regParam is zero, which might cause numerical instability and overfitting.\n",
      "24/12/13 10:27:16 WARN BLAS: Failed to load implementation from: com.github.fommil.netlib.NativeSystemBLAS\n",
      "24/12/13 10:27:16 WARN BLAS: Failed to load implementation from: com.github.fommil.netlib.NativeRefBLAS\n",
      "24/12/13 10:27:16 WARN LAPACK: Failed to load implementation from: com.github.fommil.netlib.NativeSystemLAPACK\n",
      "24/12/13 10:27:16 WARN LAPACK: Failed to load implementation from: com.github.fommil.netlib.NativeRefLAPACK\n"
     ]
    }
   ],
   "source": [
    "lr = LinearRegression(featuresCol=\"features\", labelCol=\"label\")\n",
    "lr_model = lr.fit(train_transformed)"
   ]
  },
  {
   "cell_type": "markdown",
   "id": "9899f130-ac4b-4a02-8a2b-9f6ae32f0471",
   "metadata": {},
   "source": [
    "numeric_columns 의 2개 컬럼이 string임. > 형변환 수행하기\n",
    "\n",
    "IllegalArgumentException: Data type string of column GarageCars is not supported.\n",
    "Data type string of column GarageArea is not supported. "
   ]
  },
  {
   "cell_type": "code",
   "execution_count": 28,
   "id": "30969931-bf3a-41a7-8d4f-34c2f5872f0b",
   "metadata": {
    "scrolled": true
   },
   "outputs": [],
   "source": [
    "# 평가 데이터 를 이용한 평가> FIT - 모델 맞춤 과정, 테스트 데이터에 의해 규칙이 변화\n",
    "\n",
    "test_transformed = pipeline_model.transform( test_df )\n",
    "predictions = lr_model.transform(test_transformed)"
   ]
  },
  {
   "cell_type": "code",
   "execution_count": 52,
   "id": "0b4cb124-f746-4179-b8f0-19c877299c26",
   "metadata": {
    "scrolled": true
   },
   "outputs": [
    {
     "ename": "AnalysisException",
     "evalue": "cannot resolve '`label`' given input columns: [1stFlrSF, 2ndFlrSF, 3SsnPorch, Alley, BedroomAbvGr, BldgType, BsmtCond, BsmtExposure, BsmtFinSF1, BsmtFinSF2, BsmtFinType1, BsmtFinType2, BsmtFullBath, BsmtHalfBath, BsmtQual, BsmtUnfSF, CentralAir, Condition1, Condition2, Electrical, EnclosedPorch, ExterCond, ExterQual, Exterior1st, Exterior2nd, Fence, FireplaceQu, Fireplaces, Foundation, FullBath, Functional, GarageArea, GarageCars, GarageCond, GarageFinish, GarageQual, GarageType, GarageYrBlt, GrLivArea, HalfBath, Heating, HeatingQC, HouseStyle, Id, KitchenAbvGr, KitchenQual, LandContour, LandSlope, LotArea, LotConfig, LotFrontage, LotShape, LowQualFinSF, MSSubClass, MSZoning, MasVnrArea, MasVnrType, MiscFeature, MiscVal, MoSold, Neighborhood, Neighborhood_encoded, Neighborhood_index, OpenPorchSF, OverallCond, OverallQual, PavedDrive, PoolArea, PoolQC, RoofMatl, RoofStyle, SaleCondition, SaleType, ScreenPorch, Street, TotRmsAbvGrd, TotalBsmtSF, Utilities, WoodDeckSF, YearBuilt, YearRemodAdd, YrSold, features, prediction];\n'Project [id#1749, features#2817, 'label, prediction#2903]\n+- Project [Id#1749, MSSubClass#1750, MSZoning#196, LotFrontage#197, LotArea#1751, Street#199, Alley#200, LotShape#201, LandContour#202, Utilities#203, LotConfig#204, LandSlope#205, Neighborhood#206, Condition1#207, Condition2#208, BldgType#209, HouseStyle#210, OverallQual#1752, OverallCond#1753, YearBuilt#1754, YearRemodAdd#1755, RoofStyle#215, RoofMatl#216, Exterior1st#217, ... 60 more fields]\n   +- Project [Id#1749, MSSubClass#1750, MSZoning#196, LotFrontage#197, LotArea#1751, Street#199, Alley#200, LotShape#201, LandContour#202, Utilities#203, LotConfig#204, LandSlope#205, Neighborhood#206, Condition1#207, Condition2#208, BldgType#209, HouseStyle#210, OverallQual#1752, OverallCond#1753, YearBuilt#1754, YearRemodAdd#1755, RoofStyle#215, RoofMatl#216, Exterior1st#217, ... 59 more fields]\n      +- Project [Id#1749, MSSubClass#1750, MSZoning#196, LotFrontage#197, LotArea#1751, Street#199, Alley#200, LotShape#201, LandContour#202, Utilities#203, LotConfig#204, LandSlope#205, Neighborhood#206, Condition1#207, Condition2#208, BldgType#209, HouseStyle#210, OverallQual#1752, OverallCond#1753, YearBuilt#1754, YearRemodAdd#1755, RoofStyle#215, RoofMatl#216, Exterior1st#217, ... 58 more fields]\n         +- Project [Id#1749, MSSubClass#1750, MSZoning#196, LotFrontage#197, LotArea#1751, Street#199, Alley#200, LotShape#201, LandContour#202, Utilities#203, LotConfig#204, LandSlope#205, Neighborhood#206, Condition1#207, Condition2#208, BldgType#209, HouseStyle#210, OverallQual#1752, OverallCond#1753, YearBuilt#1754, YearRemodAdd#1755, RoofStyle#215, RoofMatl#216, Exterior1st#217, ... 57 more fields]\n            +- Project [coalesce(Id#631, cast(0.0 as int)) AS Id#1749, coalesce(MSSubClass#632, cast(0.0 as int)) AS MSSubClass#1750, MSZoning#196, LotFrontage#197, coalesce(LotArea#633, cast(0.0 as int)) AS LotArea#1751, Street#199, Alley#200, LotShape#201, LandContour#202, Utilities#203, LotConfig#204, LandSlope#205, Neighborhood#206, Condition1#207, Condition2#208, BldgType#209, HouseStyle#210, coalesce(OverallQual#634, cast(0.0 as int)) AS OverallQual#1752, coalesce(OverallCond#635, cast(0.0 as int)) AS OverallCond#1753, coalesce(YearBuilt#636, cast(0.0 as int)) AS YearBuilt#1754, coalesce(YearRemodAdd#637, cast(0.0 as int)) AS YearRemodAdd#1755, RoofStyle#215, RoofMatl#216, Exterior1st#217, ... 56 more fields]\n               +- Project [Id#631, MSSubClass#632, MSZoning#196, LotFrontage#197, LotArea#633, Street#199, Alley#200, LotShape#201, LandContour#202, Utilities#203, LotConfig#204, LandSlope#205, Neighborhood#206, Condition1#207, Condition2#208, BldgType#209, HouseStyle#210, OverallQual#634, OverallCond#635, YearBuilt#636, YearRemodAdd#637, RoofStyle#215, RoofMatl#216, Exterior1st#217, ... 56 more fields]\n                  +- Project [Id#631, MSSubClass#632, MSZoning#196, LotFrontage#197, LotArea#633, Street#199, Alley#200, LotShape#201, LandContour#202, Utilities#203, LotConfig#204, LandSlope#205, Neighborhood#206, Condition1#207, Condition2#208, BldgType#209, HouseStyle#210, OverallQual#634, OverallCond#635, YearBuilt#636, YearRemodAdd#637, RoofStyle#215, RoofMatl#216, Exterior1st#217, ... 56 more fields]\n                     +- Project [coalesce(Id#194, cast(0.0 as int)) AS Id#631, coalesce(MSSubClass#195, cast(0.0 as int)) AS MSSubClass#632, MSZoning#196, LotFrontage#197, coalesce(LotArea#198, cast(0.0 as int)) AS LotArea#633, Street#199, Alley#200, LotShape#201, LandContour#202, Utilities#203, LotConfig#204, LandSlope#205, Neighborhood#206, Condition1#207, Condition2#208, BldgType#209, HouseStyle#210, coalesce(OverallQual#211, cast(0.0 as int)) AS OverallQual#634, coalesce(OverallCond#212, cast(0.0 as int)) AS OverallCond#635, coalesce(YearBuilt#213, cast(0.0 as int)) AS YearBuilt#636, coalesce(YearRemodAdd#214, cast(0.0 as int)) AS YearRemodAdd#637, RoofStyle#215, RoofMatl#216, Exterior1st#217, ... 56 more fields]\n                        +- Relation[Id#194,MSSubClass#195,MSZoning#196,LotFrontage#197,LotArea#198,Street#199,Alley#200,LotShape#201,LandContour#202,Utilities#203,LotConfig#204,LandSlope#205,Neighborhood#206,Condition1#207,Condition2#208,BldgType#209,HouseStyle#210,OverallQual#211,OverallCond#212,YearBuilt#213,YearRemodAdd#214,RoofStyle#215,RoofMatl#216,Exterior1st#217,... 56 more fields] csv\n",
     "output_type": "error",
     "traceback": [
      "\u001b[0;31m---------------------------------------------------------------------------\u001b[0m",
      "\u001b[0;31mAnalysisException\u001b[0m                         Traceback (most recent call last)",
      "Cell \u001b[0;32mIn[52], line 3\u001b[0m\n\u001b[1;32m      1\u001b[0m \u001b[38;5;66;03m# 예측값 확인\u001b[39;00m\n\u001b[0;32m----> 3\u001b[0m \u001b[43mpredictions\u001b[49m\u001b[38;5;241;43m.\u001b[39;49m\u001b[43mselect\u001b[49m\u001b[43m(\u001b[49m\u001b[38;5;124;43m\"\u001b[39;49m\u001b[38;5;124;43mid\u001b[39;49m\u001b[38;5;124;43m\"\u001b[39;49m\u001b[43m,\u001b[49m\u001b[43m \u001b[49m\u001b[38;5;124;43m\"\u001b[39;49m\u001b[38;5;124;43mfeatures\u001b[39;49m\u001b[38;5;124;43m\"\u001b[39;49m\u001b[43m,\u001b[49m\u001b[43m \u001b[49m\u001b[38;5;124;43m\"\u001b[39;49m\u001b[38;5;124;43mlabel\u001b[39;49m\u001b[38;5;124;43m\"\u001b[39;49m\u001b[43m,\u001b[49m\u001b[43m \u001b[49m\u001b[38;5;124;43m\"\u001b[39;49m\u001b[38;5;124;43mprediction\u001b[39;49m\u001b[38;5;124;43m\"\u001b[39;49m\u001b[43m)\u001b[49m\u001b[38;5;241m.\u001b[39mshow(\u001b[38;5;241m10\u001b[39m, truncate\u001b[38;5;241m=\u001b[39m\u001b[38;5;28;01mFalse\u001b[39;00m)\n",
      "File \u001b[0;32m/opt/spark/python/pyspark/sql/dataframe.py:1669\u001b[0m, in \u001b[0;36mDataFrame.select\u001b[0;34m(self, *cols)\u001b[0m\n\u001b[1;32m   1648\u001b[0m \u001b[38;5;28;01mdef\u001b[39;00m \u001b[38;5;21mselect\u001b[39m(\u001b[38;5;28mself\u001b[39m, \u001b[38;5;241m*\u001b[39mcols):\n\u001b[1;32m   1649\u001b[0m \u001b[38;5;250m    \u001b[39m\u001b[38;5;124;03m\"\"\"Projects a set of expressions and returns a new :class:`DataFrame`.\u001b[39;00m\n\u001b[1;32m   1650\u001b[0m \n\u001b[1;32m   1651\u001b[0m \u001b[38;5;124;03m    .. versionadded:: 1.3.0\u001b[39;00m\n\u001b[0;32m   (...)\u001b[0m\n\u001b[1;32m   1667\u001b[0m \u001b[38;5;124;03m    [Row(name='Alice', age=12), Row(name='Bob', age=15)]\u001b[39;00m\n\u001b[1;32m   1668\u001b[0m \u001b[38;5;124;03m    \"\"\"\u001b[39;00m\n\u001b[0;32m-> 1669\u001b[0m     jdf \u001b[38;5;241m=\u001b[39m \u001b[38;5;28;43mself\u001b[39;49m\u001b[38;5;241;43m.\u001b[39;49m\u001b[43m_jdf\u001b[49m\u001b[38;5;241;43m.\u001b[39;49m\u001b[43mselect\u001b[49m\u001b[43m(\u001b[49m\u001b[38;5;28;43mself\u001b[39;49m\u001b[38;5;241;43m.\u001b[39;49m\u001b[43m_jcols\u001b[49m\u001b[43m(\u001b[49m\u001b[38;5;241;43m*\u001b[39;49m\u001b[43mcols\u001b[49m\u001b[43m)\u001b[49m\u001b[43m)\u001b[49m\n\u001b[1;32m   1670\u001b[0m     \u001b[38;5;28;01mreturn\u001b[39;00m DataFrame(jdf, \u001b[38;5;28mself\u001b[39m\u001b[38;5;241m.\u001b[39msql_ctx)\n",
      "File \u001b[0;32m/opt/spark/python/lib/py4j-0.10.9-src.zip/py4j/java_gateway.py:1304\u001b[0m, in \u001b[0;36mJavaMember.__call__\u001b[0;34m(self, *args)\u001b[0m\n\u001b[1;32m   1298\u001b[0m command \u001b[38;5;241m=\u001b[39m proto\u001b[38;5;241m.\u001b[39mCALL_COMMAND_NAME \u001b[38;5;241m+\u001b[39m\\\n\u001b[1;32m   1299\u001b[0m     \u001b[38;5;28mself\u001b[39m\u001b[38;5;241m.\u001b[39mcommand_header \u001b[38;5;241m+\u001b[39m\\\n\u001b[1;32m   1300\u001b[0m     args_command \u001b[38;5;241m+\u001b[39m\\\n\u001b[1;32m   1301\u001b[0m     proto\u001b[38;5;241m.\u001b[39mEND_COMMAND_PART\n\u001b[1;32m   1303\u001b[0m answer \u001b[38;5;241m=\u001b[39m \u001b[38;5;28mself\u001b[39m\u001b[38;5;241m.\u001b[39mgateway_client\u001b[38;5;241m.\u001b[39msend_command(command)\n\u001b[0;32m-> 1304\u001b[0m return_value \u001b[38;5;241m=\u001b[39m \u001b[43mget_return_value\u001b[49m\u001b[43m(\u001b[49m\n\u001b[1;32m   1305\u001b[0m \u001b[43m    \u001b[49m\u001b[43manswer\u001b[49m\u001b[43m,\u001b[49m\u001b[43m \u001b[49m\u001b[38;5;28;43mself\u001b[39;49m\u001b[38;5;241;43m.\u001b[39;49m\u001b[43mgateway_client\u001b[49m\u001b[43m,\u001b[49m\u001b[43m \u001b[49m\u001b[38;5;28;43mself\u001b[39;49m\u001b[38;5;241;43m.\u001b[39;49m\u001b[43mtarget_id\u001b[49m\u001b[43m,\u001b[49m\u001b[43m \u001b[49m\u001b[38;5;28;43mself\u001b[39;49m\u001b[38;5;241;43m.\u001b[39;49m\u001b[43mname\u001b[49m\u001b[43m)\u001b[49m\n\u001b[1;32m   1307\u001b[0m \u001b[38;5;28;01mfor\u001b[39;00m temp_arg \u001b[38;5;129;01min\u001b[39;00m temp_args:\n\u001b[1;32m   1308\u001b[0m     temp_arg\u001b[38;5;241m.\u001b[39m_detach()\n",
      "File \u001b[0;32m/opt/spark/python/pyspark/sql/utils.py:117\u001b[0m, in \u001b[0;36mcapture_sql_exception.<locals>.deco\u001b[0;34m(*a, **kw)\u001b[0m\n\u001b[1;32m    113\u001b[0m converted \u001b[38;5;241m=\u001b[39m convert_exception(e\u001b[38;5;241m.\u001b[39mjava_exception)\n\u001b[1;32m    114\u001b[0m \u001b[38;5;28;01mif\u001b[39;00m \u001b[38;5;129;01mnot\u001b[39;00m \u001b[38;5;28misinstance\u001b[39m(converted, UnknownException):\n\u001b[1;32m    115\u001b[0m     \u001b[38;5;66;03m# Hide where the exception came from that shows a non-Pythonic\u001b[39;00m\n\u001b[1;32m    116\u001b[0m     \u001b[38;5;66;03m# JVM exception message.\u001b[39;00m\n\u001b[0;32m--> 117\u001b[0m     \u001b[38;5;28;01mraise\u001b[39;00m converted \u001b[38;5;28;01mfrom\u001b[39;00m \u001b[38;5;28;01mNone\u001b[39;00m\n\u001b[1;32m    118\u001b[0m \u001b[38;5;28;01melse\u001b[39;00m:\n\u001b[1;32m    119\u001b[0m     \u001b[38;5;28;01mraise\u001b[39;00m\n",
      "\u001b[0;31mAnalysisException\u001b[0m: cannot resolve '`label`' given input columns: [1stFlrSF, 2ndFlrSF, 3SsnPorch, Alley, BedroomAbvGr, BldgType, BsmtCond, BsmtExposure, BsmtFinSF1, BsmtFinSF2, BsmtFinType1, BsmtFinType2, BsmtFullBath, BsmtHalfBath, BsmtQual, BsmtUnfSF, CentralAir, Condition1, Condition2, Electrical, EnclosedPorch, ExterCond, ExterQual, Exterior1st, Exterior2nd, Fence, FireplaceQu, Fireplaces, Foundation, FullBath, Functional, GarageArea, GarageCars, GarageCond, GarageFinish, GarageQual, GarageType, GarageYrBlt, GrLivArea, HalfBath, Heating, HeatingQC, HouseStyle, Id, KitchenAbvGr, KitchenQual, LandContour, LandSlope, LotArea, LotConfig, LotFrontage, LotShape, LowQualFinSF, MSSubClass, MSZoning, MasVnrArea, MasVnrType, MiscFeature, MiscVal, MoSold, Neighborhood, Neighborhood_encoded, Neighborhood_index, OpenPorchSF, OverallCond, OverallQual, PavedDrive, PoolArea, PoolQC, RoofMatl, RoofStyle, SaleCondition, SaleType, ScreenPorch, Street, TotRmsAbvGrd, TotalBsmtSF, Utilities, WoodDeckSF, YearBuilt, YearRemodAdd, YrSold, features, prediction];\n'Project [id#1749, features#2817, 'label, prediction#2903]\n+- Project [Id#1749, MSSubClass#1750, MSZoning#196, LotFrontage#197, LotArea#1751, Street#199, Alley#200, LotShape#201, LandContour#202, Utilities#203, LotConfig#204, LandSlope#205, Neighborhood#206, Condition1#207, Condition2#208, BldgType#209, HouseStyle#210, OverallQual#1752, OverallCond#1753, YearBuilt#1754, YearRemodAdd#1755, RoofStyle#215, RoofMatl#216, Exterior1st#217, ... 60 more fields]\n   +- Project [Id#1749, MSSubClass#1750, MSZoning#196, LotFrontage#197, LotArea#1751, Street#199, Alley#200, LotShape#201, LandContour#202, Utilities#203, LotConfig#204, LandSlope#205, Neighborhood#206, Condition1#207, Condition2#208, BldgType#209, HouseStyle#210, OverallQual#1752, OverallCond#1753, YearBuilt#1754, YearRemodAdd#1755, RoofStyle#215, RoofMatl#216, Exterior1st#217, ... 59 more fields]\n      +- Project [Id#1749, MSSubClass#1750, MSZoning#196, LotFrontage#197, LotArea#1751, Street#199, Alley#200, LotShape#201, LandContour#202, Utilities#203, LotConfig#204, LandSlope#205, Neighborhood#206, Condition1#207, Condition2#208, BldgType#209, HouseStyle#210, OverallQual#1752, OverallCond#1753, YearBuilt#1754, YearRemodAdd#1755, RoofStyle#215, RoofMatl#216, Exterior1st#217, ... 58 more fields]\n         +- Project [Id#1749, MSSubClass#1750, MSZoning#196, LotFrontage#197, LotArea#1751, Street#199, Alley#200, LotShape#201, LandContour#202, Utilities#203, LotConfig#204, LandSlope#205, Neighborhood#206, Condition1#207, Condition2#208, BldgType#209, HouseStyle#210, OverallQual#1752, OverallCond#1753, YearBuilt#1754, YearRemodAdd#1755, RoofStyle#215, RoofMatl#216, Exterior1st#217, ... 57 more fields]\n            +- Project [coalesce(Id#631, cast(0.0 as int)) AS Id#1749, coalesce(MSSubClass#632, cast(0.0 as int)) AS MSSubClass#1750, MSZoning#196, LotFrontage#197, coalesce(LotArea#633, cast(0.0 as int)) AS LotArea#1751, Street#199, Alley#200, LotShape#201, LandContour#202, Utilities#203, LotConfig#204, LandSlope#205, Neighborhood#206, Condition1#207, Condition2#208, BldgType#209, HouseStyle#210, coalesce(OverallQual#634, cast(0.0 as int)) AS OverallQual#1752, coalesce(OverallCond#635, cast(0.0 as int)) AS OverallCond#1753, coalesce(YearBuilt#636, cast(0.0 as int)) AS YearBuilt#1754, coalesce(YearRemodAdd#637, cast(0.0 as int)) AS YearRemodAdd#1755, RoofStyle#215, RoofMatl#216, Exterior1st#217, ... 56 more fields]\n               +- Project [Id#631, MSSubClass#632, MSZoning#196, LotFrontage#197, LotArea#633, Street#199, Alley#200, LotShape#201, LandContour#202, Utilities#203, LotConfig#204, LandSlope#205, Neighborhood#206, Condition1#207, Condition2#208, BldgType#209, HouseStyle#210, OverallQual#634, OverallCond#635, YearBuilt#636, YearRemodAdd#637, RoofStyle#215, RoofMatl#216, Exterior1st#217, ... 56 more fields]\n                  +- Project [Id#631, MSSubClass#632, MSZoning#196, LotFrontage#197, LotArea#633, Street#199, Alley#200, LotShape#201, LandContour#202, Utilities#203, LotConfig#204, LandSlope#205, Neighborhood#206, Condition1#207, Condition2#208, BldgType#209, HouseStyle#210, OverallQual#634, OverallCond#635, YearBuilt#636, YearRemodAdd#637, RoofStyle#215, RoofMatl#216, Exterior1st#217, ... 56 more fields]\n                     +- Project [coalesce(Id#194, cast(0.0 as int)) AS Id#631, coalesce(MSSubClass#195, cast(0.0 as int)) AS MSSubClass#632, MSZoning#196, LotFrontage#197, coalesce(LotArea#198, cast(0.0 as int)) AS LotArea#633, Street#199, Alley#200, LotShape#201, LandContour#202, Utilities#203, LotConfig#204, LandSlope#205, Neighborhood#206, Condition1#207, Condition2#208, BldgType#209, HouseStyle#210, coalesce(OverallQual#211, cast(0.0 as int)) AS OverallQual#634, coalesce(OverallCond#212, cast(0.0 as int)) AS OverallCond#635, coalesce(YearBuilt#213, cast(0.0 as int)) AS YearBuilt#636, coalesce(YearRemodAdd#214, cast(0.0 as int)) AS YearRemodAdd#637, RoofStyle#215, RoofMatl#216, Exterior1st#217, ... 56 more fields]\n                        +- Relation[Id#194,MSSubClass#195,MSZoning#196,LotFrontage#197,LotArea#198,Street#199,Alley#200,LotShape#201,LandContour#202,Utilities#203,LotConfig#204,LandSlope#205,Neighborhood#206,Condition1#207,Condition2#208,BldgType#209,HouseStyle#210,OverallQual#211,OverallCond#212,YearBuilt#213,YearRemodAdd#214,RoofStyle#215,RoofMatl#216,Exterior1st#217,... 56 more fields] csv\n"
     ]
    }
   ],
   "source": [
    "# 예측값 확인\n",
    "\n",
    "predictions.select(\"id\", \"features\", \"label\",\"SalePrice\", \"prediction\").show(10, truncate=False)"
   ]
  },
  {
   "cell_type": "code",
   "execution_count": 32,
   "id": "fa252756-b34e-4c54-98b0-1664eca8176c",
   "metadata": {
    "scrolled": true
   },
   "outputs": [],
   "source": [
    "# 예측 결과 저장\n",
    "predictions.select(\"id\", \"prediction\") \\\n",
    ".withColumnRenamed('prediction', 'SalePrice') \\\n",
    ".write.csv('data/output/house_prediction.csv', header=True, mode='overwrite')"
   ]
  },
  {
   "cell_type": "code",
   "execution_count": 33,
   "id": "5e62008a-3745-4ab3-863b-7a605845e758",
   "metadata": {},
   "outputs": [],
   "source": [
    "# 예측값 읽어서 분석"
   ]
  },
  {
   "cell_type": "code",
   "execution_count": null,
   "id": "0a9bf327-3af1-427a-a3c9-f912402e5b33",
   "metadata": {},
   "outputs": [],
   "source": []
  },
  {
   "cell_type": "code",
   "execution_count": null,
   "id": "c7243707-08d1-46f3-a94c-babf32275cdb",
   "metadata": {},
   "outputs": [],
   "source": []
  },
  {
   "cell_type": "markdown",
   "id": "5c60915b-9bfb-45e4-afb5-87114a400fd0",
   "metadata": {},
   "source": [
    "# 예측 모델의 활용\n",
    "1. 파이프라인 저장 > 로컬 data/output/ > 모델 저장소 에 저장\n",
    "2. 모델 저장 > 로컬 > 모델저장소에 저장"
   ]
  },
  {
   "cell_type": "code",
   "execution_count": 39,
   "id": "18659c59-970d-4fdc-8650-8943c0d803c7",
   "metadata": {},
   "outputs": [
    {
     "name": "stdout",
     "output_type": "stream",
     "text": [
      "model saved..\n"
     ]
    }
   ],
   "source": [
    "model_save_path = 'data/output/boston_housing_lr_model'\n",
    "pipeline_save_path = 'data/output/boston_housing_pipeline_model'\n",
    "\n",
    "#파이프라인모델 > 새로운 데이터를 변환하기 위해 저장\n",
    "pipeline_model.write().overwrite().save(pipeline_save_path)\n",
    "\n",
    "#선형회귀모델 > 새로운 데이터로 예측하기 위해 저장\n",
    "lr_model.write().overwrite().save(model_save_path)\n",
    "print('model saved..')"
   ]
  },
  {
   "cell_type": "markdown",
   "id": "22d12d6b-5bdb-4d28-8110-1dc65bb2a19c",
   "metadata": {},
   "source": [
    "# 모델, 파이프라인 로드"
   ]
  },
  {
   "cell_type": "code",
   "execution_count": 43,
   "id": "b1ca9e78-acb2-402a-9821-140b12e33a11",
   "metadata": {},
   "outputs": [],
   "source": [
    "from pyspark.ml import PipelineModel\n",
    "from pyspark.ml.regression import LinearRegressionModel\n"
   ]
  },
  {
   "cell_type": "code",
   "execution_count": 41,
   "id": "a19af981-5fbb-4f37-bba4-c68b9d5f4ff0",
   "metadata": {},
   "outputs": [
    {
     "data": {
      "text/plain": [
       "PipelineModel_847a5fd0d79a"
      ]
     },
     "execution_count": 41,
     "metadata": {},
     "output_type": "execute_result"
    }
   ],
   "source": [
    "loaded_pipeline = PipelineModel.load(pipeline_save_path)\n",
    "loaded_pipeline"
   ]
  },
  {
   "cell_type": "code",
   "execution_count": 44,
   "id": "c6337930-f6c7-4075-8445-133c20ba7567",
   "metadata": {},
   "outputs": [
    {
     "data": {
      "text/plain": [
       "LinearRegressionModel: uid=LinearRegression_87a3d963663a, numFeatures=34"
      ]
     },
     "execution_count": 44,
     "metadata": {},
     "output_type": "execute_result"
    }
   ],
   "source": [
    "loaded_model = LinearRegressionModel.load(model_save_path)\n",
    "loaded_model"
   ]
  },
  {
   "cell_type": "markdown",
   "id": "5297078d-8829-4913-a796-1f7f5e911304",
   "metadata": {},
   "source": [
    "# 새로운 데이터로 예측\n",
    "\n",
    "1. 새로운 데이터 >>> ???\n",
    "2. 파이프라인모델을 이용해서 변환\n",
    "3. 모델에 넣어 예측"
   ]
  },
  {
   "cell_type": "code",
   "execution_count": 45,
   "id": "b22b2fb8-74d5-438c-901d-a68ab3f1a35e",
   "metadata": {},
   "outputs": [],
   "source": [
    "import pandas as pd\n",
    "# 새로운 데이터 샘플 생성\n",
    "data = {\n",
    "    \"Id\": [1461],\n",
    "    \"MSSubClass\": [20],\n",
    "    \"MSZoning\": [\"RH\"],\n",
    "    \"LotFrontage\": [80],\n",
    "    \"LotArea\": [11622],\n",
    "    \"Street\": [\"Pave\"],\n",
    "    \"Alley\": [None],  # NA를 None으로 표현\n",
    "    \"LotShape\": [\"Reg\"],\n",
    "    \"LandContour\": [\"Lvl\"],\n",
    "    \"Utilities\": [\"AllPub\"],\n",
    "    \"LotConfig\": [\"Inside\"],\n",
    "    \"LandSlope\": [\"Gtl\"],\n",
    "    \"Neighborhood\": [\"NAmes\"],\n",
    "    \"Condition1\": [\"Feedr\"],\n",
    "    \"Condition2\": [\"Norm\"],\n",
    "    \"BldgType\": [\"1Fam\"],\n",
    "    \"HouseStyle\": [\"1Story\"],\n",
    "    \"OverallQual\": [5],\n",
    "    \"OverallCond\": [6],\n",
    "    \"YearBuilt\": [1961],\n",
    "    \"YearRemodAdd\": [1961],\n",
    "    \"RoofStyle\": [\"Gable\"],\n",
    "    \"RoofMatl\": [\"CompShg\"],\n",
    "    \"Exterior1st\": [\"VinylSd\"],\n",
    "    \"Exterior2nd\": [\"VinylSd\"],\n",
    "    \"MasVnrType\": [None],  # None은 NA를 의미\n",
    "    \"MasVnrArea\": [0],\n",
    "    \"ExterQual\": [\"TA\"],\n",
    "    \"ExterCond\": [\"TA\"],\n",
    "    \"Foundation\": [\"CBlock\"],\n",
    "    \"BsmtQual\": [\"TA\"],\n",
    "    \"BsmtCond\": [\"TA\"],\n",
    "    \"BsmtExposure\": [\"No\"],\n",
    "    \"BsmtFinType1\": [\"Rec\"],\n",
    "    \"BsmtFinSF1\": [468],\n",
    "    \"BsmtFinType2\": [\"LwQ\"],\n",
    "    \"BsmtFinSF2\": [144],\n",
    "    \"BsmtUnfSF\": [270],\n",
    "    \"TotalBsmtSF\": [882],\n",
    "    \"Heating\": [\"GasA\"],\n",
    "    \"HeatingQC\": [\"TA\"],\n",
    "    \"CentralAir\": [\"Y\"],\n",
    "    \"Electrical\": [\"SBrkr\"],\n",
    "    \"1stFlrSF\": [896],\n",
    "    \"2ndFlrSF\": [0],\n",
    "    \"LowQualFinSF\": [0],\n",
    "    \"GrLivArea\": [896],\n",
    "    \"BsmtFullBath\": [0],\n",
    "    \"BsmtHalfBath\": [0],\n",
    "    \"FullBath\": [1],\n",
    "    \"HalfBath\": [0],\n",
    "    \"BedroomAbvGr\": [2],\n",
    "    \"KitchenAbvGr\": [1],\n",
    "    \"KitchenQual\": [\"TA\"],\n",
    "    \"TotRmsAbvGrd\": [5],\n",
    "    \"Functional\": [\"Typ\"],\n",
    "    \"Fireplaces\": [0],\n",
    "    \"FireplaceQu\": [None],  # NA를 None으로 표현\n",
    "    \"GarageType\": [\"Attchd\"],\n",
    "    \"GarageYrBlt\": [1961],\n",
    "    \"GarageFinish\": [\"Unf\"],\n",
    "    \"GarageCars\": [1],\n",
    "    \"GarageArea\": [730],\n",
    "    \"GarageQual\": [\"TA\"],\n",
    "    \"GarageCond\": [\"TA\"],\n",
    "    \"PavedDrive\": [\"Y\"],\n",
    "    \"WoodDeckSF\": [140],\n",
    "    \"OpenPorchSF\": [0],\n",
    "    \"EnclosedPorch\": [0],\n",
    "    \"3SsnPorch\": [0],\n",
    "    \"ScreenPorch\": [120],\n",
    "    \"PoolArea\": [0],\n",
    "    \"PoolQC\": [None],  # NA를 None으로 표현\n",
    "    \"Fence\": [\"MnPrv\"],\n",
    "    \"MiscFeature\": [None],  # NA를 None으로 표현\n",
    "    \"MiscVal\": [0],\n",
    "    \"MoSold\": [6],\n",
    "    \"YrSold\": [2010],\n",
    "    \"SaleType\": [\"WD\"],\n",
    "    \"SaleCondition\":[\"Normal\"]\n",
    "}\n",
    "pd.DataFrame(data).to_csv('data/new_test_data.csv', index=False)"
   ]
  },
  {
   "cell_type": "code",
   "execution_count": 46,
   "id": "8319e883-9383-4590-b50e-92ba15ec9cc2",
   "metadata": {},
   "outputs": [],
   "source": [
    "new_test_data = spark.read.csv(\"data/new_test_data.csv\", header=True, inferSchema=True)"
   ]
  },
  {
   "cell_type": "code",
   "execution_count": 47,
   "id": "7006596c-14b1-4c8b-b954-476f36cec9a8",
   "metadata": {},
   "outputs": [],
   "source": [
    "# 필요한 특성만 선택 (파이프라인에서 사용된 특성들)\n",
    "# 수치형 컬럼 + 범주형 컬럼 정의\n",
    "selected_features = [\n",
    "    \"LotArea\", \"OverallQual\", \"OverallCond\", \"YearBuilt\", \"YearRemodAdd\", \n",
    "    \"1stFlrSF\", \"2ndFlrSF\", \"GrLivArea\", \"GarageCars\", \"GarageArea\", \"Neighborhood\"\n",
    "]"
   ]
  },
  {
   "cell_type": "code",
   "execution_count": 48,
   "id": "b430c4a8-aa3b-4742-bd4d-149a40d883fd",
   "metadata": {},
   "outputs": [],
   "source": [
    "# 데이터 타입 변환 및 필요한 특성 선택\n",
    "new_test_data = new_test_data.withColumn(\"GarageCars\", new_test_data[\"GarageCars\"].cast(\"integer\"))\n",
    "new_test_data = new_test_data.withColumn(\"GarageArea\", new_test_data[\"GarageArea\"].cast(\"integer\"))"
   ]
  },
  {
   "cell_type": "code",
   "execution_count": null,
   "id": "7f1962f7-0ae7-4474-85ed-44ad24cdc8ce",
   "metadata": {},
   "outputs": [],
   "source": []
  },
  {
   "cell_type": "code",
   "execution_count": null,
   "id": "9b715cd2-e43f-45b7-9356-f2b9de956e93",
   "metadata": {},
   "outputs": [],
   "source": [
    "# 파이프라인에 새로운 데이터를 넣어 준다."
   ]
  },
  {
   "cell_type": "code",
   "execution_count": 49,
   "id": "a433d82b-8eb1-4cc2-98f2-19623af543e4",
   "metadata": {},
   "outputs": [],
   "source": [
    "new_pipe_data = loaded_pipeline.transform(new_test_data)"
   ]
  },
  {
   "cell_type": "code",
   "execution_count": null,
   "id": "72066ae4-b86f-4026-9995-4581d1bd3dbe",
   "metadata": {},
   "outputs": [],
   "source": [
    "# 파이프라인이 변환한 데이터를 모델에 넣어 준다."
   ]
  },
  {
   "cell_type": "code",
   "execution_count": 50,
   "id": "23150597-ed4d-446b-91c9-669257c0590b",
   "metadata": {},
   "outputs": [],
   "source": [
    "new_pred = loaded_model.transform( new_pipe_data ) #1건"
   ]
  },
  {
   "cell_type": "code",
   "execution_count": null,
   "id": "a7fe036f-8d53-4073-85b1-d1e6492e5c49",
   "metadata": {},
   "outputs": [],
   "source": []
  },
  {
   "cell_type": "code",
   "execution_count": null,
   "id": "00ce82dc-1ef2-4f79-a083-5d413df73b57",
   "metadata": {},
   "outputs": [],
   "source": [
    "# 예측 수행"
   ]
  },
  {
   "cell_type": "code",
   "execution_count": 51,
   "id": "2eed0e01-2303-4554-8a95-e9b13e119cfa",
   "metadata": {},
   "outputs": [
    {
     "name": "stdout",
     "output_type": "stream",
     "text": [
      "+------------------+\n",
      "|        prediction|\n",
      "+------------------+\n",
      "|114113.60325331613|\n",
      "+------------------+\n",
      "\n"
     ]
    }
   ],
   "source": [
    "new_pred.select(\"prediction\").show()"
   ]
  },
  {
   "cell_type": "code",
   "execution_count": null,
   "id": "24bba754-080c-43f3-982f-4f2077f90498",
   "metadata": {},
   "outputs": [],
   "source": [
    "# csv 저장"
   ]
  },
  {
   "cell_type": "code",
   "execution_count": null,
   "id": "96818da2-18cf-4a8e-a4a2-af137dd30768",
   "metadata": {},
   "outputs": [],
   "source": [
    "# log 를 남긴다 - csv 저장, 데이터베이스에 저장 \"외부저장\" , 하둡 분산파일시스템 hdfs , kafka (streaming)"
   ]
  },
  {
   "cell_type": "code",
   "execution_count": null,
   "id": "523dbb5f-62e0-4404-a8dd-5e1486369d93",
   "metadata": {},
   "outputs": [],
   "source": [
    "#"
   ]
  },
  {
   "cell_type": "code",
   "execution_count": null,
   "id": "cf1cb456-0c96-4fd9-a44e-6ec996c56f81",
   "metadata": {},
   "outputs": [],
   "source": []
  },
  {
   "cell_type": "code",
   "execution_count": 54,
   "id": "69fcb0c9-58a3-405d-8462-c1c316084230",
   "metadata": {},
   "outputs": [],
   "source": [
    "spark.stop()"
   ]
  },
  {
   "cell_type": "code",
   "execution_count": null,
   "id": "50eefac7-0169-4de7-ad0d-02d2fd0ae291",
   "metadata": {},
   "outputs": [],
   "source": []
  },
  {
   "cell_type": "code",
   "execution_count": null,
   "id": "09e7831b-8c4c-4d39-874f-357daf7369f4",
   "metadata": {},
   "outputs": [],
   "source": []
  },
  {
   "cell_type": "code",
   "execution_count": null,
   "id": "7496aeac-0cf6-45a0-b82a-089e78a2a491",
   "metadata": {},
   "outputs": [],
   "source": []
  }
 ],
 "metadata": {
  "kernelspec": {
   "display_name": "Python(spark_start)",
   "language": "python",
   "name": "spark_start"
  },
  "language_info": {
   "codemirror_mode": {
    "name": "ipython",
    "version": 3
   },
   "file_extension": ".py",
   "mimetype": "text/x-python",
   "name": "python",
   "nbconvert_exporter": "python",
   "pygments_lexer": "ipython3",
   "version": "3.8.20"
  }
 },
 "nbformat": 4,
 "nbformat_minor": 5
}
