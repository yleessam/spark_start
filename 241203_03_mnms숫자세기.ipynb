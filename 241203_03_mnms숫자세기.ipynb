{
 "cells": [
  {
   "cell_type": "markdown",
   "id": "345238f4",
   "metadata": {},
   "source": [
    "1. 데이터 RDD 생성 map()\n",
    "2. collect()\n",
    "3. blue mnms만 꺼내기\n",
    "4. 전체 합계 구하기\n",
    "5. 도시별 합계 구하기"
   ]
  }
 ],
 "metadata": {
  "kernelspec": {
   "display_name": "Python(spark_start)",
   "language": "python",
   "name": "spark_start"
  },
  "language_info": {
   "codemirror_mode": {
    "name": "ipython",
    "version": 3
   },
   "file_extension": ".py",
   "mimetype": "text/x-python",
   "name": "python",
   "nbconvert_exporter": "python",
   "pygments_lexer": "ipython3",
   "version": "3.8.20"
  }
 },
 "nbformat": 4,
 "nbformat_minor": 5
}
