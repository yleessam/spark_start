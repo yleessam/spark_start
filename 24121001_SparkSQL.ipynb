{
 "cells": [
  {
   "cell_type": "code",
   "execution_count": 10,
   "id": "31d9fd85-32da-4306-8799-28e08c757bdc",
   "metadata": {},
   "outputs": [
    {
     "name": "stderr",
     "output_type": "stream",
     "text": [
      "24/12/10 13:28:10 WARN Utils: Service 'SparkUI' could not bind on port 4040. Attempting port 4041.\n"
     ]
    }
   ],
   "source": [
    "from pyspark import SparkConf, SparkContext\n",
    "conf = SparkConf().setMaster(\"local\").setAppName(\"spark_sql_basic1\")\n",
    "sc   = SparkContext(conf=conf)"
   ]
  },
  {
   "cell_type": "code",
   "execution_count": 2,
   "id": "b97cb44a-8fd2-4daa-8797-25efed21b362",
   "metadata": {},
   "outputs": [],
   "source": [
    "sc.stop()"
   ]
  },
  {
   "cell_type": "code",
   "execution_count": 11,
   "id": "052e32fc-de66-4d53-98de-3a97eceb91e8",
   "metadata": {},
   "outputs": [],
   "source": [
    "movies_rdd = sc.parallelize([\n",
    "    (1, (\"어벤져스\", \"마블\")),\n",
    "    (2, (\"슈퍼맨\", \"DC\")),\n",
    "    (3, (\"배트맨\", \"DC\")),\n",
    "    (4, (\"겨울왕국\", \"디즈니\")),\n",
    "    (5, (\"아이언맨\", \"마블\"))\n",
    "])\n",
    "\n",
    "\n",
    "attendances_rdd = sc.parallelize([\n",
    "    (1, (13934592, \"KR\")),\n",
    "    (2, (2182227,\"KR\")),\n",
    "    (3, (4226242, \"KR\")),\n",
    "    (4, (10303058, \"KR\")),\n",
    "    (5, (4300365, \"KR\"))\n",
    "])"
   ]
  },
  {
   "cell_type": "code",
   "execution_count": null,
   "id": "998d5b27-4940-47e8-95a5-24c39a09cc20",
   "metadata": {},
   "outputs": [],
   "source": [
    "#관객수가 500만 이상인 영화를 가져오기 \n",
    "1. 조인 > 필터 > 영화정보\n",
    "2. 필터 > 조인 > 영화정보"
   ]
  },
  {
   "cell_type": "code",
   "execution_count": 12,
   "id": "d629a71a-dc72-4e04-b8c4-92cf02fd51ac",
   "metadata": {},
   "outputs": [
    {
     "name": "stderr",
     "output_type": "stream",
     "text": [
      "                                                                                \r"
     ]
    },
    {
     "data": {
      "text/plain": [
       "[(4, (('겨울왕국', '디즈니'), (10303058, 'KR'))),\n",
       " (1, (('어벤져스', '마블'), (13934592, 'KR')))]"
      ]
     },
     "execution_count": 12,
     "metadata": {},
     "output_type": "execute_result"
    }
   ],
   "source": [
    "#1. 조인먼저\n",
    "movies_att = movies_rdd.join(attendances_rdd)\n",
    "movies_att.filter(\n",
    "    lambda x: x[1][1][0] > 5000000\n",
    ").collect()"
   ]
  },
  {
   "cell_type": "code",
   "execution_count": null,
   "id": "ef42c7de-d1da-4508-8438-50a498931662",
   "metadata": {},
   "outputs": [],
   "source": [
    "#2. 필터먼저"
   ]
  },
  {
   "cell_type": "code",
   "execution_count": 13,
   "id": "d59e5dc6-162f-4215-85ab-f5c918ecd1c4",
   "metadata": {},
   "outputs": [
    {
     "data": {
      "text/plain": [
       "[(4, (('겨울왕국', '디즈니'), (10303058, 'KR'))),\n",
       " (1, (('어벤져스', '마블'), (13934592, 'KR')))]"
      ]
     },
     "execution_count": 13,
     "metadata": {},
     "output_type": "execute_result"
    }
   ],
   "source": [
    "filtered_att = attendances_rdd.filter(lambda x: x[1][0]>5000000)\n",
    "movies_rdd.join(filtered_att).collect()"
   ]
  },
  {
   "cell_type": "code",
   "execution_count": null,
   "id": "6e705d5d-3668-44e1-85d1-6e8dd76472fc",
   "metadata": {},
   "outputs": [],
   "source": []
  },
  {
   "cell_type": "code",
   "execution_count": 14,
   "id": "84b29a85-2116-405b-a7fb-4ef42fd44c7d",
   "metadata": {},
   "outputs": [],
   "source": [
    "from pyspark.sql import SparkSession\n",
    "spark = SparkSession.builder.appName(\"spark_sql_basic\").getOrCreate()"
   ]
  },
  {
   "cell_type": "code",
   "execution_count": 15,
   "id": "8eb79305-8896-47c2-872f-3314d191c73c",
   "metadata": {},
   "outputs": [],
   "source": [
    "movies = [\n",
    "    (1, \"어벤져스\", \"마블\", 2012, 4, 26),\n",
    "    (2, \"슈퍼맨\", \"DC\", 2013, 6, 13),\n",
    "    (3, \"배트맨\", \"DC\", 2008, 8, 6),\n",
    "    (4, \"겨울왕국\", \"디즈니\", 2014, 1, 16),\n",
    "    (5, \"아이언맨\", \"마블\", 2008, 4, 30)\n",
    "]"
   ]
  },
  {
   "cell_type": "code",
   "execution_count": 16,
   "id": "2198408a-c6bd-4f90-8f05-3f5c89458329",
   "metadata": {},
   "outputs": [],
   "source": [
    "movie_schema = ['id', 'name', 'company', 'year', 'month', 'day']"
   ]
  },
  {
   "cell_type": "markdown",
   "id": "c9244f79-cf04-4a53-9d8a-b4fc8e6d8acd",
   "metadata": {},
   "source": [
    "# 1. DataFrame 만들기"
   ]
  },
  {
   "cell_type": "code",
   "execution_count": 18,
   "id": "756d1b83-7a64-457c-b95a-6e485b97d77b",
   "metadata": {},
   "outputs": [],
   "source": [
    "df = spark.createDataFrame(data=movies, schema= movie_schema)"
   ]
  },
  {
   "cell_type": "code",
   "execution_count": 20,
   "id": "63028653-6928-41c5-b4d7-3c8ace0a21b8",
   "metadata": {},
   "outputs": [
    {
     "data": {
      "text/plain": [
       "[('id', 'bigint'),\n",
       " ('name', 'string'),\n",
       " ('company', 'string'),\n",
       " ('year', 'bigint'),\n",
       " ('month', 'bigint'),\n",
       " ('day', 'bigint')]"
      ]
     },
     "execution_count": 20,
     "metadata": {},
     "output_type": "execute_result"
    }
   ],
   "source": [
    "df.dtypes"
   ]
  },
  {
   "cell_type": "code",
   "execution_count": 21,
   "id": "a9b5d69c-4c9e-49a9-8a98-ca54f475d560",
   "metadata": {},
   "outputs": [
    {
     "name": "stdout",
     "output_type": "stream",
     "text": [
      "+---+--------+-------+----+-----+---+\n",
      "| id|    name|company|year|month|day|\n",
      "+---+--------+-------+----+-----+---+\n",
      "|  1|어벤져스|   마블|2012|    4| 26|\n",
      "|  2|  슈퍼맨|     DC|2013|    6| 13|\n",
      "|  3|  배트맨|     DC|2008|    8|  6|\n",
      "|  4|겨울왕국| 디즈니|2014|    1| 16|\n",
      "|  5|아이언맨|   마블|2008|    4| 30|\n",
      "+---+--------+-------+----+-----+---+\n",
      "\n"
     ]
    }
   ],
   "source": [
    "df.show()"
   ]
  },
  {
   "cell_type": "code",
   "execution_count": 23,
   "id": "41743bc2-5115-45d1-a09a-ef1068c6a415",
   "metadata": {},
   "outputs": [
    {
     "name": "stdout",
     "output_type": "stream",
     "text": [
      "+--------+\n",
      "|    name|\n",
      "+--------+\n",
      "|어벤져스|\n",
      "|  슈퍼맨|\n",
      "|  배트맨|\n",
      "|겨울왕국|\n",
      "|아이언맨|\n",
      "+--------+\n",
      "\n"
     ]
    }
   ],
   "source": [
    "df.select('name').show()"
   ]
  },
  {
   "cell_type": "code",
   "execution_count": 24,
   "id": "5905dfd3-13fa-4ad0-b2d3-014266a0d3d6",
   "metadata": {},
   "outputs": [
    {
     "name": "stdout",
     "output_type": "stream",
     "text": [
      "+---+--------+-------+----+-----+---+\n",
      "| id|    name|company|year|month|day|\n",
      "+---+--------+-------+----+-----+---+\n",
      "|  1|어벤져스|   마블|2012|    4| 26|\n",
      "|  2|  슈퍼맨|     DC|2013|    6| 13|\n",
      "|  3|  배트맨|     DC|2008|    8|  6|\n",
      "|  4|겨울왕국| 디즈니|2014|    1| 16|\n",
      "|  5|아이언맨|   마블|2008|    4| 30|\n",
      "+---+--------+-------+----+-----+---+\n",
      "\n"
     ]
    }
   ],
   "source": [
    "df.filter(df.year>=2000).show() #col 객체"
   ]
  },
  {
   "cell_type": "markdown",
   "id": "9da80781-2c80-406f-97ef-4113ba29b45c",
   "metadata": {},
   "source": [
    "# SQL을 사용하기 위해서 View 등록"
   ]
  },
  {
   "cell_type": "code",
   "execution_count": 28,
   "id": "7d5e043e-fdb4-4621-a5e1-09ac11d173a3",
   "metadata": {},
   "outputs": [],
   "source": [
    "df.createOrReplaceTempView('movies')  #view name, table name"
   ]
  },
  {
   "cell_type": "code",
   "execution_count": 29,
   "id": "41b26620-c193-4033-992c-68b787b0ac33",
   "metadata": {},
   "outputs": [
    {
     "name": "stdout",
     "output_type": "stream",
     "text": [
      "+--------+\n",
      "|    name|\n",
      "+--------+\n",
      "|어벤져스|\n",
      "|  슈퍼맨|\n",
      "|  배트맨|\n",
      "|겨울왕국|\n",
      "|아이언맨|\n",
      "+--------+\n",
      "\n"
     ]
    }
   ],
   "source": [
    "#view 를 select projection하는 문장\n",
    "\n",
    "query = '''\n",
    "select name from movies\n",
    "'''\n",
    "\n",
    "spark.sql(query).show()\n"
   ]
  },
  {
   "cell_type": "code",
   "execution_count": 30,
   "id": "fb547536-1e2d-4cd6-8242-4eecaf5f1257",
   "metadata": {},
   "outputs": [],
   "source": [
    "#2010 년 이후 개봉한 영화 조회\n",
    "\n",
    "query = '''\n",
    "select name, company\n",
    "from movies\n",
    "where year>=2010\n",
    "'''"
   ]
  },
  {
   "cell_type": "code",
   "execution_count": 31,
   "id": "e0be2492-b6bb-4b11-8390-bd8fb0a20005",
   "metadata": {},
   "outputs": [
    {
     "name": "stdout",
     "output_type": "stream",
     "text": [
      "+--------+-------+\n",
      "|    name|company|\n",
      "+--------+-------+\n",
      "|어벤져스|   마블|\n",
      "|  슈퍼맨|     DC|\n",
      "|겨울왕국| 디즈니|\n",
      "+--------+-------+\n",
      "\n"
     ]
    }
   ],
   "source": [
    "spark.sql(query).show()"
   ]
  },
  {
   "cell_type": "code",
   "execution_count": null,
   "id": "2523cb66-a9a0-441a-af47-36f88d3bf55f",
   "metadata": {},
   "outputs": [],
   "source": [
    "#회사가 마블인 영화 목록\n",
    "where company = '마블'"
   ]
  },
  {
   "cell_type": "code",
   "execution_count": null,
   "id": "6efbe3be-1fe4-4fc6-8138-4b43df060001",
   "metadata": {},
   "outputs": [],
   "source": [
    "#~맨\n",
    "where name like '%맨'\n"
   ]
  },
  {
   "cell_type": "code",
   "execution_count": null,
   "id": "a177d90d-8e76-4738-a10f-ac25c3eebb4c",
   "metadata": {},
   "outputs": [],
   "source": [
    "# ~이~\n",
    "where name like '%이%'"
   ]
  },
  {
   "cell_type": "code",
   "execution_count": null,
   "id": "19ddafd1-8506-4b24-a1c2-834bbc0e1f28",
   "metadata": {},
   "outputs": [],
   "source": [
    "#개봉월이 4~8월 사이\n",
    "where month between 4 and 8"
   ]
  },
  {
   "cell_type": "code",
   "execution_count": null,
   "id": "cb12e42b-6dd4-4bef-b90b-91d54ede124c",
   "metadata": {},
   "outputs": [],
   "source": [
    "# and, or \n",
    "# ~맨, 개봉연도가 2010년 이하\n",
    "where name like '%맨' and\n",
    "year <= 2010"
   ]
  },
  {
   "cell_type": "code",
   "execution_count": null,
   "id": "2436e9f5-e0cf-4473-a7bf-88054bcff4fb",
   "metadata": {},
   "outputs": [],
   "source": [
    "#회사가 마블, dc 인 영화\n",
    "where company = '마블' or company = 'DC'\n",
    "where company in ('마블','DC')\n"
   ]
  },
  {
   "cell_type": "code",
   "execution_count": null,
   "id": "c73ffe50-8696-4d06-9d5a-33c86f80bdc6",
   "metadata": {},
   "outputs": [],
   "source": [
    "# 회사가 \"마\"로 시작을 하거나, \"니\"로 끝나는 영화\n",
    "where company like '마%' or company like '%니'"
   ]
  },
  {
   "cell_type": "code",
   "execution_count": null,
   "id": "55ceead7-d0d1-4e4f-a812-9d5a60c477ca",
   "metadata": {},
   "outputs": [],
   "source": [
    "# 회사가 \"마\"로 시작을 하거나, \"니\"로 끝나는 영화 중 2010년 이후로 개봉한 영화\n",
    "where (company like '마%' or company like '%니') \n",
    "and year >= 2010"
   ]
  },
  {
   "cell_type": "markdown",
   "id": "ff4563c3-238f-449a-851a-61b7058e602a",
   "metadata": {},
   "source": [
    "ASC : ascending 오름차순, default\n",
    "DESC : descending 내림차순"
   ]
  },
  {
   "cell_type": "code",
   "execution_count": null,
   "id": "b6cc6675-b350-4d94-a92e-d0003536b8f4",
   "metadata": {},
   "outputs": [],
   "source": [
    "# 개봉 연도 오름차순으로 확인\n",
    "from movies\n",
    "order by year ASC"
   ]
  },
  {
   "cell_type": "code",
   "execution_count": null,
   "id": "646d9fe3-d482-438b-bbd2-d171bf62c46c",
   "metadata": {},
   "outputs": [],
   "source": [
    "# count(*),  count(name)\n",
    "# mean, sum\n",
    "select count(*)"
   ]
  },
  {
   "cell_type": "code",
   "execution_count": 36,
   "id": "093a4251-6c75-4a18-a08c-f16d54eec2fe",
   "metadata": {},
   "outputs": [],
   "source": [
    "attendances = [\n",
    "    [1, 13934592., \"KR\"],\n",
    "    (2, 2182227.,\"KR\"),\n",
    "    (3, 4226242., \"KR\"),\n",
    "    (4, 10303058., \"KR\"),\n",
    "    (5, 4300365., \"KR\")\n",
    "]"
   ]
  },
  {
   "cell_type": "code",
   "execution_count": 37,
   "id": "2cbddd16-c0f8-44f8-8f8c-026f07047c0c",
   "metadata": {},
   "outputs": [],
   "source": [
    "from pyspark.sql.types import StringType, IntegerType, FloatType, StructType, StructField\n",
    "\n",
    "att_schema = StructType([ # 모든 컬럼의 타입을 통칭 - 컬럼 데이터의 집합\n",
    "    StructField(\"id\", IntegerType(), True), # StructField : 컬럼\n",
    "    StructField(\"att\", FloatType(), True),\n",
    "    StructField(\"theater_country\", StringType(), True)\n",
    "])"
   ]
  },
  {
   "cell_type": "code",
   "execution_count": 38,
   "id": "4cbc60c7-4054-44ac-8d7b-442e545d0c83",
   "metadata": {},
   "outputs": [
    {
     "data": {
      "text/plain": [
       "[('id', 'int'), ('att', 'float'), ('theater_country', 'string')]"
      ]
     },
     "execution_count": 38,
     "metadata": {},
     "output_type": "execute_result"
    }
   ],
   "source": [
    "att_df = spark.createDataFrame( data=attendances, schema = att_schema )\n",
    "att_df.dtypes"
   ]
  },
  {
   "cell_type": "code",
   "execution_count": 39,
   "id": "3ee5abba-83df-449a-a5e1-d6fdfd0f1d53",
   "metadata": {},
   "outputs": [
    {
     "name": "stdout",
     "output_type": "stream",
     "text": [
      "+---+-----------+---------------+\n",
      "| id|        att|theater_country|\n",
      "+---+-----------+---------------+\n",
      "|  1|1.3934592E7|             KR|\n",
      "|  2|  2182227.0|             KR|\n",
      "|  3|  4226242.0|             KR|\n",
      "|  4|1.0303058E7|             KR|\n",
      "|  5|  4300365.0|             KR|\n",
      "+---+-----------+---------------+\n",
      "\n"
     ]
    }
   ],
   "source": [
    "att_df.show()"
   ]
  },
  {
   "cell_type": "code",
   "execution_count": 40,
   "id": "03d5b0b2-510a-4fdd-8d0e-b6140a19a4de",
   "metadata": {},
   "outputs": [],
   "source": [
    "att_df.createOrReplaceTempView('att')"
   ]
  },
  {
   "cell_type": "code",
   "execution_count": 41,
   "id": "c47527a8-d0b4-47f2-9fb0-bf484c88cac1",
   "metadata": {},
   "outputs": [
    {
     "name": "stdout",
     "output_type": "stream",
     "text": [
      "+---+-----------+---------------+\n",
      "| id|        att|theater_country|\n",
      "+---+-----------+---------------+\n",
      "|  1|1.3934592E7|             KR|\n",
      "|  2|  2182227.0|             KR|\n",
      "|  3|  4226242.0|             KR|\n",
      "|  4|1.0303058E7|             KR|\n",
      "|  5|  4300365.0|             KR|\n",
      "+---+-----------+---------------+\n",
      "\n"
     ]
    }
   ],
   "source": [
    "att_df.select('*').show()"
   ]
  },
  {
   "cell_type": "code",
   "execution_count": 48,
   "id": "a4950491-75f1-48ba-8f94-db9afe89d847",
   "metadata": {},
   "outputs": [],
   "source": [
    "query = '''\n",
    "select movies.id, movies.name, movies.company, att.att, att.theater_country\n",
    "from movies JOIN att ON  movies.id = att.id\n",
    "'''"
   ]
  },
  {
   "cell_type": "code",
   "execution_count": 50,
   "id": "ac2bbd33-0cfe-4f98-9ecf-6218b1591d0b",
   "metadata": {},
   "outputs": [],
   "source": [
    "moviews_views = spark.sql(query)"
   ]
  },
  {
   "cell_type": "code",
   "execution_count": 51,
   "id": "24b5a151-3855-45a0-8d3f-22f23585ada2",
   "metadata": {},
   "outputs": [],
   "source": [
    "moviews_views.createOrReplaceTempView('movies_view')"
   ]
  },
  {
   "cell_type": "code",
   "execution_count": 52,
   "id": "afc6fc24-e8ec-4806-9b57-ac601d4c03f6",
   "metadata": {},
   "outputs": [],
   "source": [
    "query = '''\n",
    "select * from movies_view\n",
    "'''"
   ]
  },
  {
   "cell_type": "code",
   "execution_count": 53,
   "id": "a6f7095a-df36-4d39-a54b-2eda2dbac3f0",
   "metadata": {},
   "outputs": [
    {
     "name": "stderr",
     "output_type": "stream",
     "text": [
      "                                                                                \r"
     ]
    },
    {
     "name": "stdout",
     "output_type": "stream",
     "text": [
      "+---+--------+-------+-----------+---------------+\n",
      "| id|    name|company|        att|theater_country|\n",
      "+---+--------+-------+-----------+---------------+\n",
      "|  5|아이언맨|   마블|  4300365.0|             KR|\n",
      "|  1|어벤져스|   마블|1.3934592E7|             KR|\n",
      "|  3|  배트맨|     DC|  4226242.0|             KR|\n",
      "|  2|  슈퍼맨|     DC|  2182227.0|             KR|\n",
      "|  4|겨울왕국| 디즈니|1.0303058E7|             KR|\n",
      "+---+--------+-------+-----------+---------------+\n",
      "\n"
     ]
    }
   ],
   "source": [
    "spark.sql(query).show()"
   ]
  },
  {
   "cell_type": "code",
   "execution_count": null,
   "id": "90074e86-b229-45af-a188-aeb361eccc35",
   "metadata": {},
   "outputs": [],
   "source": [
    "query = '''\n",
    "select * \n",
    "from movies_view\n",
    "where company = \n",
    "\n",
    "'''"
   ]
  },
  {
   "cell_type": "code",
   "execution_count": null,
   "id": "e22914f1-c9e6-4635-9b95-43549e74bc77",
   "metadata": {},
   "outputs": [],
   "source": []
  },
  {
   "cell_type": "code",
   "execution_count": null,
   "id": "709374c1-6bfc-408b-89cf-47f393882c39",
   "metadata": {},
   "outputs": [],
   "source": []
  },
  {
   "cell_type": "code",
   "execution_count": null,
   "id": "be1235fa-1a8c-44f2-a06f-37fc4588bb1d",
   "metadata": {},
   "outputs": [],
   "source": []
  },
  {
   "cell_type": "code",
   "execution_count": null,
   "id": "edf02a28-e03d-4c16-a6be-c6e69fa73d06",
   "metadata": {},
   "outputs": [],
   "source": []
  },
  {
   "cell_type": "code",
   "execution_count": 54,
   "id": "db12dbf9-a53d-4286-932f-2d6858f43642",
   "metadata": {},
   "outputs": [],
   "source": [
    "spark.stop()"
   ]
  },
  {
   "cell_type": "code",
   "execution_count": null,
   "id": "7c4dd3d6-43d4-4dce-b9e2-560ca9603566",
   "metadata": {},
   "outputs": [],
   "source": []
  },
  {
   "cell_type": "code",
   "execution_count": null,
   "id": "81771f6a-2b71-426c-8f72-6032d5c009b3",
   "metadata": {},
   "outputs": [],
   "source": []
  },
  {
   "cell_type": "code",
   "execution_count": null,
   "id": "b8da6425-9a37-4bcd-af77-9cd318fe8d67",
   "metadata": {},
   "outputs": [],
   "source": []
  },
  {
   "cell_type": "code",
   "execution_count": null,
   "id": "aad33efd-f30a-4c53-a704-c63e74c81bf6",
   "metadata": {},
   "outputs": [],
   "source": []
  },
  {
   "cell_type": "code",
   "execution_count": null,
   "id": "9298081e-54fa-4020-a9ec-1251b98d212a",
   "metadata": {},
   "outputs": [],
   "source": []
  },
  {
   "cell_type": "code",
   "execution_count": null,
   "id": "d45a37ea-f389-4fc9-ae9f-fb6d5ad75c69",
   "metadata": {},
   "outputs": [],
   "source": []
  },
  {
   "cell_type": "code",
   "execution_count": null,
   "id": "619cb731-1d76-4242-8562-286fb0842396",
   "metadata": {},
   "outputs": [],
   "source": []
  },
  {
   "cell_type": "code",
   "execution_count": null,
   "id": "34c49446-a0a0-4ada-b1ea-d24d1c419e30",
   "metadata": {},
   "outputs": [],
   "source": []
  }
 ],
 "metadata": {
  "kernelspec": {
   "display_name": "Python(spark_start)",
   "language": "python",
   "name": "spark_start"
  },
  "language_info": {
   "codemirror_mode": {
    "name": "ipython",
    "version": 3
   },
   "file_extension": ".py",
   "mimetype": "text/x-python",
   "name": "python",
   "nbconvert_exporter": "python",
   "pygments_lexer": "ipython3",
   "version": "3.8.20"
  }
 },
 "nbformat": 4,
 "nbformat_minor": 5
}
