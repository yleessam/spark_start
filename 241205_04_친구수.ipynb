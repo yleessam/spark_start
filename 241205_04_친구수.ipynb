{
 "cells": [
  {
   "cell_type": "markdown",
   "id": "401feb2f-cddc-468c-9780-2fae40358696",
   "metadata": {},
   "source": [
    "##  fakefriends.csv\n",
    "\n",
    "user_id : 사용자 / ID name : 사용자이름 / age : 나이 / num_friends : 친구수\n",
    "1. 평균 친구수 구하기"
   ]
  },
  {
   "cell_type": "code",
   "execution_count": null,
   "id": "3cbb77f3-0ebc-4848-a27c-990f17d035c9",
   "metadata": {},
   "outputs": [],
   "source": []
  },
  {
   "cell_type": "code",
   "execution_count": null,
   "id": "5add4c59-ab79-4b8d-b6e8-b5e867d63d25",
   "metadata": {},
   "outputs": [],
   "source": []
  },
  {
   "cell_type": "code",
   "execution_count": null,
   "id": "a022a56d-3670-4be3-8f14-cb9f7a40601e",
   "metadata": {},
   "outputs": [],
   "source": []
  },
  {
   "cell_type": "code",
   "execution_count": null,
   "id": "395db951-9b3f-4512-aeb5-eebe76db0d25",
   "metadata": {},
   "outputs": [],
   "source": []
  },
  {
   "cell_type": "code",
   "execution_count": null,
   "id": "27d6e522-9141-40f4-8fa5-3b2f8a8c4842",
   "metadata": {},
   "outputs": [],
   "source": []
  },
  {
   "cell_type": "code",
   "execution_count": null,
   "id": "a7863ef6-f46f-41f6-b61b-3df5d39112df",
   "metadata": {},
   "outputs": [],
   "source": []
  },
  {
   "cell_type": "code",
   "execution_count": null,
   "id": "c502a4fd-0fed-4def-9857-06589dea4a5b",
   "metadata": {},
   "outputs": [],
   "source": []
  },
  {
   "cell_type": "code",
   "execution_count": null,
   "id": "56df42d1-0f44-4d44-a7c3-480461cdb100",
   "metadata": {},
   "outputs": [],
   "source": []
  },
  {
   "cell_type": "code",
   "execution_count": null,
   "id": "83d33283-1163-4865-9487-38b082b08649",
   "metadata": {},
   "outputs": [],
   "source": []
  }
 ],
 "metadata": {
  "kernelspec": {
   "display_name": "Python 3 (ipykernel)",
   "language": "python",
   "name": "python3"
  },
  "language_info": {
   "codemirror_mode": {
    "name": "ipython",
    "version": 3
   },
   "file_extension": ".py",
   "mimetype": "text/x-python",
   "name": "python",
   "nbconvert_exporter": "python",
   "pygments_lexer": "ipython3",
   "version": "3.8.20"
  }
 },
 "nbformat": 4,
 "nbformat_minor": 5
}
