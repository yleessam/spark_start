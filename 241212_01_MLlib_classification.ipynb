{
 "cells": [
  {
   "cell_type": "code",
   "execution_count": 2,
   "id": "f437f9d7-ddad-40a8-a78c-cfe8e0683af3",
   "metadata": {},
   "outputs": [
    {
     "name": "stderr",
     "output_type": "stream",
     "text": [
      "24/12/12 10:58:30 WARN NativeCodeLoader: Unable to load native-hadoop library for your platform... using builtin-java classes where applicable\n",
      "Using Spark's default log4j profile: org/apache/spark/log4j-defaults.properties\n",
      "Setting default log level to \"WARN\".\n",
      "To adjust logging level use sc.setLogLevel(newLevel). For SparkR, use setLogLevel(newLevel).\n",
      "24/12/12 10:58:32 WARN Utils: Service 'SparkUI' could not bind on port 4040. Attempting port 4041.\n"
     ]
    }
   ],
   "source": [
    "from pyspark.sql import SparkSession\n",
    "\n",
    "spark = SparkSession.builder.appName(\"241212_01_MLlib_classification\").getOrCreate()"
   ]
  },
  {
   "cell_type": "markdown",
   "id": "f295959f-c66b-4508-a46e-42ab6e24c174",
   "metadata": {},
   "source": [
    "# data load"
   ]
  },
  {
   "cell_type": "code",
   "execution_count": 3,
   "id": "3551ced0-e5b8-455f-9634-814743db8b4c",
   "metadata": {},
   "outputs": [
    {
     "name": "stderr",
     "output_type": "stream",
     "text": [
      "                                                                                \r"
     ]
    }
   ],
   "source": [
    "df = spark.read.format(\"csv\")\\\n",
    "    .option(\"header\", 'true')\\\n",
    "    .option('inferSchema', 'true')\\\n",
    "    .load('data/titanic.csv')"
   ]
  },
  {
   "cell_type": "code",
   "execution_count": 4,
   "id": "71210823-67a4-49d9-9e97-6392ba9f88ce",
   "metadata": {},
   "outputs": [
    {
     "name": "stdout",
     "output_type": "stream",
     "text": [
      "+--------+------+------+----+-----+-----+-------+-----------+\n",
      "|survived|pclass|   sex| age|sibsp|parch|   fare|embark_town|\n",
      "+--------+------+------+----+-----+-----+-------+-----------+\n",
      "|       0|     3|  male|22.0|    1|    0|   7.25|Southampton|\n",
      "|       1|     1|female|38.0|    1|    0|71.2833|  Cherbourg|\n",
      "|       1|     3|female|26.0|    0|    0|  7.925|Southampton|\n",
      "|       1|     1|female|35.0|    1|    0|   53.1|Southampton|\n",
      "|       0|     3|  male|35.0|    0|    0|   8.05|Southampton|\n",
      "|       0|     3|  male|null|    0|    0| 8.4583| Queenstown|\n",
      "|       0|     1|  male|54.0|    0|    0|51.8625|Southampton|\n",
      "|       0|     3|  male| 2.0|    3|    1| 21.075|Southampton|\n",
      "|       1|     3|female|27.0|    0|    2|11.1333|Southampton|\n",
      "|       1|     2|female|14.0|    1|    0|30.0708|  Cherbourg|\n",
      "+--------+------+------+----+-----+-----+-------+-----------+\n",
      "only showing top 10 rows\n",
      "\n"
     ]
    }
   ],
   "source": [
    "df.show(10)"
   ]
  },
  {
   "cell_type": "markdown",
   "id": "41f33a8b-f114-4e26-afb4-e1f855b24806",
   "metadata": {},
   "source": [
    "# missing value"
   ]
  },
  {
   "cell_type": "code",
   "execution_count": 10,
   "id": "b6bfcabf-39ae-4eaf-ab99-cd2db1df2126",
   "metadata": {},
   "outputs": [
    {
     "name": "stdout",
     "output_type": "stream",
     "text": [
      "+--------+------+---+---+-----+-----+----+-----------+\n",
      "|survived|pclass|sex|age|sibsp|parch|fare|embark_town|\n",
      "+--------+------+---+---+-----+-----+----+-----------+\n",
      "|       0|     0|  0|177|    0|    0|   0|          2|\n",
      "+--------+------+---+---+-----+-----+----+-----------+\n",
      "\n"
     ]
    }
   ],
   "source": [
    "from pyspark.sql.functions import col, sum, isnan, when\n",
    "\n",
    "null_counts = df.select(\n",
    "    [\n",
    "        sum(when(col(c).isNull() | isnan(c), 1).otherwise(0)).alias(c)  for c in df.columns\n",
    "    ]\n",
    ")\n",
    "null_counts.show()"
   ]
  },
  {
   "cell_type": "markdown",
   "id": "7d95ab7b-36da-4432-a09d-c36e5606e76b",
   "metadata": {},
   "source": [
    "# feature selection"
   ]
  },
  {
   "cell_type": "code",
   "execution_count": 11,
   "id": "4a31de2c-4ea5-4701-b7cd-c7036ebc642d",
   "metadata": {},
   "outputs": [
    {
     "name": "stdout",
     "output_type": "stream",
     "text": [
      "+--------+------+------+----+-----+-----+-------+\n",
      "|survived|pclass|   sex| age|sibsp|parch|   fare|\n",
      "+--------+------+------+----+-----+-----+-------+\n",
      "|       0|     3|  male|22.0|    1|    0|   7.25|\n",
      "|       1|     1|female|38.0|    1|    0|71.2833|\n",
      "|       1|     3|female|26.0|    0|    0|  7.925|\n",
      "|       1|     1|female|35.0|    1|    0|   53.1|\n",
      "|       0|     3|  male|35.0|    0|    0|   8.05|\n",
      "+--------+------+------+----+-----+-----+-------+\n",
      "only showing top 5 rows\n",
      "\n"
     ]
    }
   ],
   "source": [
    "# feature - ?? , target - survived\n",
    "data = df.select(\"survived\", \"pclass\", \"sex\", \"age\", \"sibsp\", \"parch\", \"fare\")\n",
    "data.show(5)"
   ]
  },
  {
   "cell_type": "code",
   "execution_count": 15,
   "id": "5e1ab63e-1313-4729-a50f-81aa2702d059",
   "metadata": {},
   "outputs": [
    {
     "data": {
      "text/plain": [
       "29.69911764705882"
      ]
     },
     "execution_count": 15,
     "metadata": {},
     "output_type": "execute_result"
    }
   ],
   "source": [
    "#평균값으로 대체\n",
    "mean_age = data.select(\"age\").agg({\"age\" : \"mean\" }).collect()[0][0]\n",
    "mean_age"
   ]
  },
  {
   "cell_type": "code",
   "execution_count": 17,
   "id": "417a6bc1-e76b-4b45-866a-c8f5d861caaf",
   "metadata": {},
   "outputs": [
    {
     "name": "stdout",
     "output_type": "stream",
     "text": [
      "+--------+------+------+-----------------+-----+-----+-------+\n",
      "|survived|pclass|   sex|              age|sibsp|parch|   fare|\n",
      "+--------+------+------+-----------------+-----+-----+-------+\n",
      "|       0|     3|  male|             22.0|    1|    0|   7.25|\n",
      "|       1|     1|female|             38.0|    1|    0|71.2833|\n",
      "|       1|     3|female|             26.0|    0|    0|  7.925|\n",
      "|       1|     1|female|             35.0|    1|    0|   53.1|\n",
      "|       0|     3|  male|             35.0|    0|    0|   8.05|\n",
      "|       0|     3|  male|29.69911764705882|    0|    0| 8.4583|\n",
      "|       0|     1|  male|             54.0|    0|    0|51.8625|\n",
      "|       0|     3|  male|              2.0|    3|    1| 21.075|\n",
      "|       1|     3|female|             27.0|    0|    2|11.1333|\n",
      "|       1|     2|female|             14.0|    1|    0|30.0708|\n",
      "+--------+------+------+-----------------+-----+-----+-------+\n",
      "only showing top 10 rows\n",
      "\n"
     ]
    }
   ],
   "source": [
    "data = data.fillna( { \"age\" : mean_age })\n",
    "data.show(10)"
   ]
  },
  {
   "cell_type": "markdown",
   "id": "a4cd7938-3ce5-4603-98af-d92d6f542c78",
   "metadata": {},
   "source": [
    "# encoding  :: \n",
    "\n",
    "category type -> numeric "
   ]
  },
  {
   "cell_type": "code",
   "execution_count": 20,
   "id": "2e1d0b97-c57f-4b2f-9c56-38426f371f30",
   "metadata": {},
   "outputs": [],
   "source": [
    "from pyspark.ml.feature import StringIndexer, VectorAssembler"
   ]
  },
  {
   "cell_type": "code",
   "execution_count": 21,
   "id": "d65e1973-43c8-4af0-9e0d-aac4551d734c",
   "metadata": {},
   "outputs": [
    {
     "name": "stdout",
     "output_type": "stream",
     "text": [
      "+--------+------+------+----+-----+-----+-------+--------+\n",
      "|survived|pclass|   sex| age|sibsp|parch|   fare|SexIndex|\n",
      "+--------+------+------+----+-----+-----+-------+--------+\n",
      "|       0|     3|  male|22.0|    1|    0|   7.25|     0.0|\n",
      "|       1|     1|female|38.0|    1|    0|71.2833|     1.0|\n",
      "|       1|     3|female|26.0|    0|    0|  7.925|     1.0|\n",
      "|       1|     1|female|35.0|    1|    0|   53.1|     1.0|\n",
      "|       0|     3|  male|35.0|    0|    0|   8.05|     0.0|\n",
      "+--------+------+------+----+-----+-----+-------+--------+\n",
      "only showing top 5 rows\n",
      "\n"
     ]
    }
   ],
   "source": [
    "indexer = StringIndexer(inputCol=\"sex\", outputCol=\"SexIndex\")\n",
    "data = indexer.fit(data).transform(data)\n",
    "data.show(5)"
   ]
  },
  {
   "cell_type": "markdown",
   "id": "fae84a7e-ae43-4cbb-b881-12061a39c460",
   "metadata": {},
   "source": [
    "# feature vector"
   ]
  },
  {
   "cell_type": "code",
   "execution_count": 22,
   "id": "222f92e1-0dc4-478c-8e3b-61e13c3caf0c",
   "metadata": {},
   "outputs": [
    {
     "data": {
      "text/plain": [
       "DataFrame[survived: int, pclass: int, sex: string, age: double, sibsp: int, parch: int, fare: double, SexIndex: double, features: vector]"
      ]
     },
     "execution_count": 22,
     "metadata": {},
     "output_type": "execute_result"
    }
   ],
   "source": [
    "#target 을 제외한 학습을 위한 피처를 \"features\" 라는 이름으로 어셈블한다.\n",
    "assembler = VectorAssembler(\n",
    "    inputCols=[\"pclass\", \"SexIndex\", \"age\", \"sibsp\", \"parch\", \"fare\"],\n",
    "    outputCol=\"features\"\n",
    ")\n",
    "data = assembler.transform(data)\n",
    "data"
   ]
  },
  {
   "cell_type": "code",
   "execution_count": 23,
   "id": "0486b31c-72d4-4680-b6f8-b9dfb66517b7",
   "metadata": {},
   "outputs": [
    {
     "name": "stdout",
     "output_type": "stream",
     "text": [
      "+--------+--------------------+\n",
      "|survived|            features|\n",
      "+--------+--------------------+\n",
      "|       0|[3.0,0.0,22.0,1.0...|\n",
      "|       1|[1.0,1.0,38.0,1.0...|\n",
      "|       1|[3.0,1.0,26.0,0.0...|\n",
      "|       1|[1.0,1.0,35.0,1.0...|\n",
      "|       0|[3.0,0.0,35.0,0.0...|\n",
      "+--------+--------------------+\n",
      "only showing top 5 rows\n",
      "\n"
     ]
    }
   ],
   "source": [
    "#지도학습, 분류모델을 학습시키기 위한 데이터\n",
    "data.select(\"survived\", \"features\").show(5)"
   ]
  },
  {
   "cell_type": "markdown",
   "id": "5aa962c3-0c08-4d3a-a667-95212a412dc7",
   "metadata": {},
   "source": [
    "ML 모델 : 데이터 학습 > 평가 > 모델 완성"
   ]
  },
  {
   "cell_type": "markdown",
   "id": "ded677db-d0b9-4be9-aa32-130d23bd5de4",
   "metadata": {},
   "source": [
    "# dataset 분할"
   ]
  },
  {
   "cell_type": "code",
   "execution_count": 26,
   "id": "870a94a0-f9e4-4bda-8782-257530e7a1f2",
   "metadata": {},
   "outputs": [],
   "source": [
    "train_data, test_data = data.randomSplit([0.8, 0.2], seed = 42 )  #리턴한값목록1 , 목록2"
   ]
  },
  {
   "cell_type": "code",
   "execution_count": 27,
   "id": "a16975d1-36bb-4191-a5a1-6ef59f278e89",
   "metadata": {},
   "outputs": [
    {
     "name": "stdout",
     "output_type": "stream",
     "text": [
      "+--------+------+------+----+-----+-----+------+--------+--------------------+\n",
      "|survived|pclass|   sex| age|sibsp|parch|  fare|SexIndex|            features|\n",
      "+--------+------+------+----+-----+-----+------+--------+--------------------+\n",
      "|       0|     1|female| 2.0|    1|    2|151.55|     1.0|[1.0,1.0,2.0,1.0,...|\n",
      "|       0|     1|female|25.0|    1|    2|151.55|     1.0|[1.0,1.0,25.0,1.0...|\n",
      "|       0|     1|  male|18.0|    1|    0| 108.9|     0.0|[1.0,0.0,18.0,1.0...|\n",
      "|       0|     1|  male|19.0|    1|    0|  53.1|     0.0|[1.0,0.0,19.0,1.0...|\n",
      "|       0|     1|  male|19.0|    3|    2| 263.0|     0.0|[1.0,0.0,19.0,3.0...|\n",
      "+--------+------+------+----+-----+-----+------+--------+--------------------+\n",
      "only showing top 5 rows\n",
      "\n",
      "+--------+------+------+-----------------+-----+-----+-------+--------+--------------------+\n",
      "|survived|pclass|   sex|              age|sibsp|parch|   fare|SexIndex|            features|\n",
      "+--------+------+------+-----------------+-----+-----+-------+--------+--------------------+\n",
      "|       0|     1|female|             50.0|    0|    0|28.7125|     1.0|[1.0,1.0,50.0,0.0...|\n",
      "|       0|     1|  male|             21.0|    0|    1|77.2875|     0.0|[1.0,0.0,21.0,0.0...|\n",
      "|       0|     1|  male|             24.0|    0|    0|   79.2|     0.0|[1.0,0.0,24.0,0.0...|\n",
      "|       0|     1|  male|             29.0|    0|    0|   30.0|     0.0|[1.0,0.0,29.0,0.0...|\n",
      "|       0|     1|  male|29.69911764705882|    0|    0|  26.55|     0.0|[1.0,0.0,29.69911...|\n",
      "+--------+------+------+-----------------+-----+-----+-------+--------+--------------------+\n",
      "only showing top 5 rows\n",
      "\n"
     ]
    },
    {
     "data": {
      "text/plain": [
       "(None, None)"
      ]
     },
     "execution_count": 27,
     "metadata": {},
     "output_type": "execute_result"
    }
   ],
   "source": [
    "train_data.show(5), test_data.show(5)"
   ]
  },
  {
   "cell_type": "markdown",
   "id": "060369b6-2473-479b-8ffb-7984f774d119",
   "metadata": {},
   "source": [
    "# 분류 예측 model 생성 - 로지스틱 회귀\n",
    "\n",
    "분류모델 : 라벨(타겟), 피처"
   ]
  },
  {
   "cell_type": "code",
   "execution_count": 29,
   "id": "2d8e61a5-9b86-4351-b071-3c523abc8bbc",
   "metadata": {},
   "outputs": [],
   "source": [
    "from pyspark.ml.classification import LogisticRegression"
   ]
  },
  {
   "cell_type": "code",
   "execution_count": 30,
   "id": "29882e90-949f-446d-a3bb-232cd2fc0612",
   "metadata": {},
   "outputs": [],
   "source": [
    "#로지스틱 회귀 모델 생성\n",
    "lr = LogisticRegression(featuresCol=\"features\", labelCol=\"survived\")"
   ]
  },
  {
   "cell_type": "code",
   "execution_count": 32,
   "id": "aaa4b75a-d0ad-400f-890d-86eb548928f6",
   "metadata": {},
   "outputs": [
    {
     "name": "stderr",
     "output_type": "stream",
     "text": [
      "24/12/12 14:20:57 WARN BLAS: Failed to load implementation from: com.github.fommil.netlib.NativeSystemBLAS\n",
      "24/12/12 14:20:57 WARN BLAS: Failed to load implementation from: com.github.fommil.netlib.NativeRefBLAS\n"
     ]
    }
   ],
   "source": [
    "#모델 학습\n",
    "lr_model = lr.fit( train_data )  #80% data > y(라벨, 타켓) 값을 결정할 수 있도록 매개변수를 확정"
   ]
  },
  {
   "cell_type": "code",
   "execution_count": 33,
   "id": "e739eb57-1004-444d-a283-a8a3fb820183",
   "metadata": {},
   "outputs": [
    {
     "name": "stdout",
     "output_type": "stream",
     "text": [
      "+--------+------+------+-----------------+-----+-----+-------+--------+--------------------+--------------------+--------------------+----------+\n",
      "|survived|pclass|   sex|              age|sibsp|parch|   fare|SexIndex|            features|       rawPrediction|         probability|prediction|\n",
      "+--------+------+------+-----------------+-----+-----+-------+--------+--------------------+--------------------+--------------------+----------+\n",
      "|       0|     1|female|             50.0|    0|    0|28.7125|     1.0|[1.0,1.0,50.0,0.0...|[-1.9520246347246...|[0.12433276014445...|       1.0|\n",
      "|       0|     1|  male|             21.0|    0|    1|77.2875|     0.0|[1.0,0.0,21.0,0.0...|[-0.5063684917057...|[0.37604522093222...|       1.0|\n",
      "|       0|     1|  male|             24.0|    0|    0|   79.2|     0.0|[1.0,0.0,24.0,0.0...|[-0.5000163743656...|[0.37753682076914...|       1.0|\n",
      "|       0|     1|  male|             29.0|    0|    0|   30.0|     0.0|[1.0,0.0,29.0,0.0...|[-0.1615623337462...|[0.45969704539401...|       1.0|\n",
      "|       0|     1|  male|29.69911764705882|    0|    0|  26.55|     0.0|[1.0,0.0,29.69911...|[-0.1231865060676...|[0.46924225915865...|       1.0|\n",
      "+--------+------+------+-----------------+-----+-----+-------+--------+--------------------+--------------------+--------------------+----------+\n",
      "only showing top 5 rows\n",
      "\n"
     ]
    }
   ],
   "source": [
    "# 모델 시험 :: 테스트 데이터 > 결과 확인 - 데이터의 답이 들어 있다 > 모델이 맞춘  y값\n",
    "predictions = lr_model.transform( test_data )\n",
    "predictions.show(5)"
   ]
  },
  {
   "cell_type": "code",
   "execution_count": 34,
   "id": "f049771e-92a6-4976-8519-01517401f36f",
   "metadata": {},
   "outputs": [
    {
     "data": {
      "text/plain": [
       "[Row(features=DenseVector([3.0, 0.0, 29.6991, 0.0, 0.0, 56.4958]), survived=1, prediction=0.0),\n",
       " Row(features=DenseVector([3.0, 0.0, 29.6991, 2.0, 0.0, 23.25]), survived=1, prediction=0.0),\n",
       " Row(features=DenseVector([3.0, 0.0, 31.0, 0.0, 0.0, 7.925]), survived=1, prediction=0.0),\n",
       " Row(features=DenseVector([3.0, 0.0, 32.0, 0.0, 0.0, 56.4958]), survived=1, prediction=0.0),\n",
       " Row(features=DenseVector([3.0, 0.0, 39.0, 0.0, 0.0, 7.925]), survived=1, prediction=0.0)]"
      ]
     },
     "execution_count": 34,
     "metadata": {},
     "output_type": "execute_result"
    }
   ],
   "source": [
    "predictions.select(\"features\", \"survived\", \"prediction\").tail(5)"
   ]
  },
  {
   "cell_type": "markdown",
   "id": "97aa79f0-85ca-46c1-8502-9c1e9e80dff5",
   "metadata": {},
   "source": [
    "## 정답갯수 확인"
   ]
  },
  {
   "cell_type": "code",
   "execution_count": 40,
   "id": "9e66462a-dd95-4431-8e69-62c9179ffda9",
   "metadata": {},
   "outputs": [],
   "source": [
    "from pyspark.sql.types import IntegerType\n",
    "from pyspark.sql.functions import expr\n"
   ]
  },
  {
   "cell_type": "code",
   "execution_count": 38,
   "id": "bf380456-c60e-479a-84bd-62bb15530730",
   "metadata": {},
   "outputs": [],
   "source": [
    "predictions = predictions.withColumn( \"survived\", col(\"survived\").cast(IntegerType()))\n",
    "predictions = predictions.withColumn( \"prediction\", col(\"prediction\").cast(IntegerType()))\n"
   ]
  },
  {
   "cell_type": "code",
   "execution_count": 42,
   "id": "82946b25-64b5-428e-ac6a-a472c1c9c841",
   "metadata": {},
   "outputs": [
    {
     "data": {
      "text/plain": [
       "28"
      ]
     },
     "execution_count": 42,
     "metadata": {},
     "output_type": "execute_result"
    }
   ],
   "source": [
    "# correct column 추가\n",
    "compare = predictions.withColumn( \"correct\", expr(\"case when survived=prediction then 1 else 0 end\") )\n",
    "compare.where('correct=0').count() #틀린 갯수 확인"
   ]
  },
  {
   "cell_type": "markdown",
   "id": "594d7f95-b6be-4701-bdff-d2176b114dcb",
   "metadata": {},
   "source": [
    "## 정확도 계산 > 모델의 점수\n"
   ]
  },
  {
   "cell_type": "code",
   "execution_count": 43,
   "id": "d5419541-9cf3-429d-b5ba-9cac3d00bd2f",
   "metadata": {},
   "outputs": [
    {
     "data": {
      "text/plain": [
       "0.8068965517241379"
      ]
     },
     "execution_count": 43,
     "metadata": {},
     "output_type": "execute_result"
    }
   ],
   "source": [
    "accu = compare.selectExpr(\"avg(correct) as accuracy\").collect()[0]['accuracy']\n",
    "accu"
   ]
  },
  {
   "cell_type": "markdown",
   "id": "7df7c1ef-d29a-47bf-96a8-c55fe3c55501",
   "metadata": {},
   "source": [
    "# 평가기 evaluator"
   ]
  },
  {
   "cell_type": "code",
   "execution_count": 44,
   "id": "3573c363-b7e7-4db5-a37c-590b377db481",
   "metadata": {},
   "outputs": [],
   "source": [
    "from pyspark.ml.evaluation import BinaryClassificationEvaluator"
   ]
  },
  {
   "cell_type": "code",
   "execution_count": 45,
   "id": "c93b8b8d-c3fa-4c86-bef4-963b81b26a65",
   "metadata": {},
   "outputs": [
    {
     "data": {
      "text/plain": [
       "BinaryClassificationEvaluator_8d57d90654bd"
      ]
     },
     "execution_count": 45,
     "metadata": {},
     "output_type": "execute_result"
    }
   ],
   "source": [
    "# 모델별로 평가지표, 메트릭\n",
    "# 분류모델의 평가지표 중에서 AUC 계산한다.\n",
    "\n",
    "evaluator = BinaryClassificationEvaluator(labelCol=\"survived\", rawPredictionCol='rawPrediction', metricName=\"areaUnderROC\")\n",
    "evaluator"
   ]
  },
  {
   "cell_type": "code",
   "execution_count": 46,
   "id": "f27f4e3a-2692-419a-91b5-9c56d9254c3f",
   "metadata": {},
   "outputs": [
    {
     "data": {
      "text/plain": [
       "0.8664129586260734"
      ]
     },
     "execution_count": 46,
     "metadata": {},
     "output_type": "execute_result"
    }
   ],
   "source": [
    "auc = evaluator.evaluate(predictions)\n",
    "auc"
   ]
  },
  {
   "cell_type": "code",
   "execution_count": 47,
   "id": "c2a8aab4-0974-404c-9cc6-f6b8224bb3ff",
   "metadata": {},
   "outputs": [],
   "source": [
    "spark.stop()"
   ]
  },
  {
   "cell_type": "code",
   "execution_count": null,
   "id": "2e9f68e7-1d37-427d-acfd-1097272dd2c9",
   "metadata": {},
   "outputs": [],
   "source": []
  },
  {
   "cell_type": "code",
   "execution_count": null,
   "id": "dcab6dd0-1ba5-4124-933b-5110ea2717cf",
   "metadata": {},
   "outputs": [],
   "source": []
  }
 ],
 "metadata": {
  "kernelspec": {
   "display_name": "Python(spark_start)",
   "language": "python",
   "name": "spark_start"
  },
  "language_info": {
   "codemirror_mode": {
    "name": "ipython",
    "version": 3
   },
   "file_extension": ".py",
   "mimetype": "text/x-python",
   "name": "python",
   "nbconvert_exporter": "python",
   "pygments_lexer": "ipython3",
   "version": "3.8.20"
  }
 },
 "nbformat": 4,
 "nbformat_minor": 5
}
