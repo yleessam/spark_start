{
 "cells": [
  {
   "cell_type": "code",
   "execution_count": 1,
   "id": "b1553e07-4504-4c64-a020-2d01daf44fb1",
   "metadata": {},
   "outputs": [
    {
     "name": "stderr",
     "output_type": "stream",
     "text": [
      "24/12/11 15:27:02 WARN NativeCodeLoader: Unable to load native-hadoop library for your platform... using builtin-java classes where applicable\n",
      "Using Spark's default log4j profile: org/apache/spark/log4j-defaults.properties\n",
      "Setting default log level to \"WARN\".\n",
      "To adjust logging level use sc.setLogLevel(newLevel). For SparkR, use setLogLevel(newLevel).\n"
     ]
    }
   ],
   "source": [
    "from pyspark.sql import SparkSession\n",
    "spark = SparkSession.builder.appName(\"241211_02_SparkSQL\").getOrCreate()"
   ]
  },
  {
   "cell_type": "code",
   "execution_count": 2,
   "id": "7e5a8006-940c-4a87-87b0-86a6e7a9368f",
   "metadata": {},
   "outputs": [
    {
     "name": "stderr",
     "output_type": "stream",
     "text": [
      "                                                                                \r"
     ]
    }
   ],
   "source": [
    "trips_df = spark.read.csv('data/fhvhv_tripdata_2020-03.csv', inferSchema=True, header=True)"
   ]
  },
  {
   "cell_type": "code",
   "execution_count": 3,
   "id": "8c5d82b3-a9b6-4ca0-abb0-1a468adc8915",
   "metadata": {},
   "outputs": [
    {
     "name": "stdout",
     "output_type": "stream",
     "text": [
      "+-----------------+--------------------+-------------------+-------------------+------------+------------+-------+\n",
      "|hvfhs_license_num|dispatching_base_num|    pickup_datetime|   dropoff_datetime|PULocationID|DOLocationID|SR_Flag|\n",
      "+-----------------+--------------------+-------------------+-------------------+------------+------------+-------+\n",
      "|           HV0005|              B02510|2020-03-01 00:03:40|2020-03-01 00:23:39|          81|         159|   null|\n",
      "|           HV0005|              B02510|2020-03-01 00:28:05|2020-03-01 00:38:57|         168|         119|   null|\n",
      "|           HV0003|              B02764|2020-03-01 00:03:07|2020-03-01 00:15:04|         137|         209|      1|\n",
      "|           HV0003|              B02764|2020-03-01 00:18:42|2020-03-01 00:38:42|         209|          80|   null|\n",
      "|           HV0003|              B02764|2020-03-01 00:44:24|2020-03-01 00:58:44|         256|         226|   null|\n",
      "+-----------------+--------------------+-------------------+-------------------+------------+------------+-------+\n",
      "only showing top 5 rows\n",
      "\n"
     ]
    }
   ],
   "source": [
    "trips_df.show(5)"
   ]
  },
  {
   "cell_type": "code",
   "execution_count": 4,
   "id": "b0a4521c-1601-4273-9d72-243ca56dd78a",
   "metadata": {},
   "outputs": [],
   "source": [
    "trips_df.createOrReplaceTempView('mobility_data')"
   ]
  },
  {
   "cell_type": "code",
   "execution_count": 5,
   "id": "4d91c1ca-554c-4515-bde2-c0583326a085",
   "metadata": {},
   "outputs": [
    {
     "name": "stdout",
     "output_type": "stream",
     "text": [
      "+-----------------+--------------------+-------------------+-------------------+------------+------------+-------+\n",
      "|hvfhs_license_num|dispatching_base_num|    pickup_datetime|   dropoff_datetime|PULocationID|DOLocationID|SR_Flag|\n",
      "+-----------------+--------------------+-------------------+-------------------+------------+------------+-------+\n",
      "|           HV0005|              B02510|2020-03-01 00:03:40|2020-03-01 00:23:39|          81|         159|   null|\n",
      "|           HV0005|              B02510|2020-03-01 00:28:05|2020-03-01 00:38:57|         168|         119|   null|\n",
      "|           HV0003|              B02764|2020-03-01 00:03:07|2020-03-01 00:15:04|         137|         209|      1|\n",
      "|           HV0003|              B02764|2020-03-01 00:18:42|2020-03-01 00:38:42|         209|          80|   null|\n",
      "|           HV0003|              B02764|2020-03-01 00:44:24|2020-03-01 00:58:44|         256|         226|   null|\n",
      "+-----------------+--------------------+-------------------+-------------------+------------+------------+-------+\n",
      "\n"
     ]
    }
   ],
   "source": [
    "query = '''\n",
    "select *\n",
    "from mobility_data\n",
    "limit 5\n",
    "'''\n",
    "spark.sql(query).show()"
   ]
  },
  {
   "cell_type": "code",
   "execution_count": null,
   "id": "389152d7-bdfb-4187-b3d7-6cec7c84b3de",
   "metadata": {},
   "outputs": [],
   "source": []
  },
  {
   "cell_type": "code",
   "execution_count": 7,
   "id": "a6cfd4db-84d7-4d09-912a-0092cc2fb592",
   "metadata": {},
   "outputs": [],
   "source": [
    "query_1 = '''\n",
    "select split(pickup_datetime, ' ')[0] as pickup_date, count(*) as trips\n",
    "from mobility_data\n",
    "group by pickup_date\n",
    "'''"
   ]
  },
  {
   "cell_type": "code",
   "execution_count": 8,
   "id": "7f2b7b61-6d2b-48f9-b4ce-15d9f7f0a9b4",
   "metadata": {},
   "outputs": [
    {
     "name": "stderr",
     "output_type": "stream",
     "text": [
      "                                                                                \r"
     ]
    },
    {
     "name": "stdout",
     "output_type": "stream",
     "text": [
      "+-----------+------+\n",
      "|pickup_date| trips|\n",
      "+-----------+------+\n",
      "| 2020-03-16|391518|\n",
      "| 2020-03-03|697880|\n",
      "| 2020-03-06|872012|\n",
      "| 2020-03-26|141607|\n",
      "| 2020-03-05|731165|\n",
      "| 2020-03-02|648986|\n",
      "| 2020-03-25|141088|\n",
      "| 2020-03-20|261900|\n",
      "| 2020-03-24|141686|\n",
      "| 2020-03-04|707879|\n",
      "| 2020-03-10|626474|\n",
      "| 2020-03-12|643257|\n",
      "| 2020-03-11|628601|\n",
      "| 2020-03-13|660914|\n",
      "| 2020-03-27|159339|\n",
      "| 2020-03-22|162165|\n",
      "| 2020-03-28|138456|\n",
      "| 2020-03-01|784246|\n",
      "| 2020-03-19|252773|\n",
      "| 2020-03-09|628940|\n",
      "+-----------+------+\n",
      "only showing top 20 rows\n",
      "\n"
     ]
    }
   ],
   "source": [
    "spark.sql(query_1).show()"
   ]
  },
  {
   "cell_type": "code",
   "execution_count": 9,
   "id": "f52cd364-ffab-4511-86af-5f7441a83cb1",
   "metadata": {},
   "outputs": [],
   "source": [
    "query_2 = '''\n",
    "SELECT \n",
    "    pickup_date, \n",
    "    count(*) as trips\n",
    "FROM ( SELECT\n",
    "  split(pickup_datetime, ' ')[0] as pickup_date\n",
    "  FROM mobility_data )\n",
    "group by pickup_date\n",
    "'''"
   ]
  },
  {
   "cell_type": "code",
   "execution_count": 10,
   "id": "2fe5a861-ebae-4c87-a87b-8bce5c6999f8",
   "metadata": {},
   "outputs": [
    {
     "name": "stderr",
     "output_type": "stream",
     "text": [
      "                                                                                \r"
     ]
    },
    {
     "name": "stdout",
     "output_type": "stream",
     "text": [
      "+-----------+------+\n",
      "|pickup_date| trips|\n",
      "+-----------+------+\n",
      "| 2020-03-16|391518|\n",
      "| 2020-03-03|697880|\n",
      "| 2020-03-06|872012|\n",
      "| 2020-03-26|141607|\n",
      "| 2020-03-05|731165|\n",
      "| 2020-03-02|648986|\n",
      "| 2020-03-25|141088|\n",
      "| 2020-03-20|261900|\n",
      "| 2020-03-24|141686|\n",
      "| 2020-03-04|707879|\n",
      "| 2020-03-10|626474|\n",
      "| 2020-03-12|643257|\n",
      "| 2020-03-11|628601|\n",
      "| 2020-03-13|660914|\n",
      "| 2020-03-27|159339|\n",
      "| 2020-03-22|162165|\n",
      "| 2020-03-28|138456|\n",
      "| 2020-03-01|784246|\n",
      "| 2020-03-19|252773|\n",
      "| 2020-03-09|628940|\n",
      "+-----------+------+\n",
      "only showing top 20 rows\n",
      "\n"
     ]
    }
   ],
   "source": [
    "spark.sql(query_2).show()"
   ]
  },
  {
   "cell_type": "code",
   "execution_count": 11,
   "id": "0b2be296-9168-483f-8154-0e19265c6d57",
   "metadata": {},
   "outputs": [
    {
     "name": "stdout",
     "output_type": "stream",
     "text": [
      "== Parsed Logical Plan ==\n",
      "'Aggregate ['pickup_date], ['split('pickup_datetime,  )[0] AS pickup_date#144, 'count(1) AS trips#145]\n",
      "+- 'UnresolvedRelation [mobility_data], [], false\n",
      "\n",
      "== Analyzed Logical Plan ==\n",
      "pickup_date: string, trips: bigint\n",
      "Aggregate [split(pickup_datetime#18,  , -1)[0]], [split(pickup_datetime#18,  , -1)[0] AS pickup_date#144, count(1) AS trips#145L]\n",
      "+- SubqueryAlias mobility_data\n",
      "   +- Relation[hvfhs_license_num#16,dispatching_base_num#17,pickup_datetime#18,dropoff_datetime#19,PULocationID#20,DOLocationID#21,SR_Flag#22] csv\n",
      "\n",
      "== Optimized Logical Plan ==\n",
      "Aggregate [split(pickup_datetime#18,  , -1)[0]], [split(pickup_datetime#18,  , -1)[0] AS pickup_date#144, count(1) AS trips#145L]\n",
      "+- Project [pickup_datetime#18]\n",
      "   +- Relation[hvfhs_license_num#16,dispatching_base_num#17,pickup_datetime#18,dropoff_datetime#19,PULocationID#20,DOLocationID#21,SR_Flag#22] csv\n",
      "\n",
      "== Physical Plan ==\n",
      "*(2) HashAggregate(keys=[split(pickup_datetime#18,  , -1)[0]#149], functions=[count(1)], output=[pickup_date#144, trips#145L])\n",
      "+- Exchange hashpartitioning(split(pickup_datetime#18,  , -1)[0]#149, 200), ENSURE_REQUIREMENTS, [id=#126]\n",
      "   +- *(1) HashAggregate(keys=[split(pickup_datetime#18,  , -1)[0] AS split(pickup_datetime#18,  , -1)[0]#149], functions=[partial_count(1)], output=[split(pickup_datetime#18,  , -1)[0]#149, count#151L])\n",
      "      +- FileScan csv [pickup_datetime#18] Batched: false, DataFilters: [], Format: CSV, Location: InMemoryFileIndex[file:/home/tutor/src/data/fhvhv_tripdata_2020-03.csv], PartitionFilters: [], PushedFilters: [], ReadSchema: struct<pickup_datetime:string>\n",
      "\n"
     ]
    }
   ],
   "source": [
    "spark.sql(query_1).explain(True)"
   ]
  },
  {
   "cell_type": "code",
   "execution_count": 12,
   "id": "ff46845a-bf7d-4a6e-bbba-749e25cf4a6e",
   "metadata": {},
   "outputs": [
    {
     "name": "stdout",
     "output_type": "stream",
     "text": [
      "== Parsed Logical Plan ==\n",
      "'Aggregate ['pickup_date], ['pickup_date, 'count(1) AS trips#153]\n",
      "+- 'SubqueryAlias __auto_generated_subquery_name\n",
      "   +- 'Project ['split('pickup_datetime,  )[0] AS pickup_date#152]\n",
      "      +- 'UnresolvedRelation [mobility_data], [], false\n",
      "\n",
      "== Analyzed Logical Plan ==\n",
      "pickup_date: string, trips: bigint\n",
      "Aggregate [pickup_date#152], [pickup_date#152, count(1) AS trips#153L]\n",
      "+- SubqueryAlias __auto_generated_subquery_name\n",
      "   +- Project [split(pickup_datetime#18,  , -1)[0] AS pickup_date#152]\n",
      "      +- SubqueryAlias mobility_data\n",
      "         +- Relation[hvfhs_license_num#16,dispatching_base_num#17,pickup_datetime#18,dropoff_datetime#19,PULocationID#20,DOLocationID#21,SR_Flag#22] csv\n",
      "\n",
      "== Optimized Logical Plan ==\n",
      "Aggregate [pickup_date#152], [pickup_date#152, count(1) AS trips#153L]\n",
      "+- Project [split(pickup_datetime#18,  , -1)[0] AS pickup_date#152]\n",
      "   +- Relation[hvfhs_license_num#16,dispatching_base_num#17,pickup_datetime#18,dropoff_datetime#19,PULocationID#20,DOLocationID#21,SR_Flag#22] csv\n",
      "\n",
      "== Physical Plan ==\n",
      "*(2) HashAggregate(keys=[pickup_date#152], functions=[count(1)], output=[pickup_date#152, trips#153L])\n",
      "+- Exchange hashpartitioning(pickup_date#152, 200), ENSURE_REQUIREMENTS, [id=#148]\n",
      "   +- *(1) HashAggregate(keys=[pickup_date#152], functions=[partial_count(1)], output=[pickup_date#152, count#158L])\n",
      "      +- *(1) Project [split(pickup_datetime#18,  , -1)[0] AS pickup_date#152]\n",
      "         +- FileScan csv [pickup_datetime#18] Batched: false, DataFilters: [], Format: CSV, Location: InMemoryFileIndex[file:/home/tutor/src/data/fhvhv_tripdata_2020-03.csv], PartitionFilters: [], PushedFilters: [], ReadSchema: struct<pickup_datetime:string>\n",
      "\n"
     ]
    }
   ],
   "source": [
    "spark.sql(query_2).explain(True)"
   ]
  },
  {
   "cell_type": "code",
   "execution_count": null,
   "id": "09b071ab-46f8-4b20-8a20-4fbee3a5cab7",
   "metadata": {},
   "outputs": [],
   "source": []
  },
  {
   "cell_type": "code",
   "execution_count": 15,
   "id": "cd65d495-fe80-46e3-b153-39d0bb4a5333",
   "metadata": {},
   "outputs": [],
   "source": [
    "spark.stop()"
   ]
  },
  {
   "cell_type": "code",
   "execution_count": null,
   "id": "a1ed0b4d-8499-4d7c-9483-9ccfe9187764",
   "metadata": {},
   "outputs": [],
   "source": []
  }
 ],
 "metadata": {
  "kernelspec": {
   "display_name": "Python(spark_start)",
   "language": "python",
   "name": "spark_start"
  },
  "language_info": {
   "codemirror_mode": {
    "name": "ipython",
    "version": 3
   },
   "file_extension": ".py",
   "mimetype": "text/x-python",
   "name": "python",
   "nbconvert_exporter": "python",
   "pygments_lexer": "ipython3",
   "version": "3.8.20"
  }
 },
 "nbformat": 4,
 "nbformat_minor": 5
}
