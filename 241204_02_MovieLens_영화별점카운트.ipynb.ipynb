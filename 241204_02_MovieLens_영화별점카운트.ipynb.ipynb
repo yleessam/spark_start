{
 "cells": [
  {
   "cell_type": "code",
   "execution_count": null,
   "id": "35f06b05-61c2-4011-b445-896924056733",
   "metadata": {},
   "outputs": [],
   "source": [
    "user_id: 사용자의 고유 ID.\n",
    "movie_id: 영화의 고유 ID.\n",
    "rating: 사용자가 영화에 준 평점.\n",
    "timestamp: 평점이 기록된 시간."
   ]
  },
  {
   "cell_type": "code",
   "execution_count": null,
   "id": "c478bbff-643f-40d7-8c28-9627be30da4f",
   "metadata": {},
   "outputs": [],
   "source": [
    "#별점 1,2,3, 별로 카운트"
   ]
  },
  {
   "cell_type": "code",
   "execution_count": 1,
   "id": "42305760-c6a8-4cb1-90c4-68082eb5f0ab",
   "metadata": {},
   "outputs": [
    {
     "name": "stderr",
     "output_type": "stream",
     "text": [
      "24/12/04 15:34:20 WARN NativeCodeLoader: Unable to load native-hadoop library for your platform... using builtin-java classes where applicable\n",
      "Using Spark's default log4j profile: org/apache/spark/log4j-defaults.properties\n",
      "Setting default log level to \"WARN\".\n",
      "To adjust logging level use sc.setLogLevel(newLevel). For SparkR, use setLogLevel(newLevel).\n",
      "24/12/04 15:34:21 WARN Utils: Service 'SparkUI' could not bind on port 4040. Attempting port 4041.\n"
     ]
    }
   ],
   "source": [
    "from pyspark import SparkConf, SparkContext\n",
    "from collections import OrderedDict\n",
    "conf = SparkConf().setMaster(\"local\").setAppName(\"241204_02_MovieLens\")\n",
    "sc = SparkContext(conf=conf)"
   ]
  },
  {
   "cell_type": "code",
   "execution_count": 2,
   "id": "f7df0739-a6e5-476b-babd-932af485f2de",
   "metadata": {},
   "outputs": [],
   "source": [
    "import os\n",
    "directory = os.path.join(os.getcwd(), \"data\")  # 현재 디렉토리의 data 폴더\n",
    "filename  = \"u.data\"\n",
    "file_path = os.path.join(directory, filename)"
   ]
  },
  {
   "cell_type": "code",
   "execution_count": 3,
   "id": "884862b2-5944-4947-8f7c-90467c0f9f4d",
   "metadata": {},
   "outputs": [],
   "source": [
    "lines = sc.textFile(\"file:///\" + file_path.replace(\"\\\\\", \"/\"))"
   ]
  },
  {
   "cell_type": "code",
   "execution_count": 4,
   "id": "51db5d39-f39a-4a69-bbe5-0927ba506424",
   "metadata": {},
   "outputs": [
    {
     "name": "stderr",
     "output_type": "stream",
     "text": [
      "                                                                                \r"
     ]
    },
    {
     "data": {
      "text/plain": [
       "['196\\t242\\t3\\t881250949',\n",
       " '186\\t302\\t3\\t891717742',\n",
       " '22\\t377\\t1\\t878887116',\n",
       " '244\\t51\\t2\\t880606923',\n",
       " '166\\t346\\t1\\t886397596']"
      ]
     },
     "execution_count": 4,
     "metadata": {},
     "output_type": "execute_result"
    }
   ],
   "source": [
    "lines.collect()[:5]"
   ]
  },
  {
   "cell_type": "code",
   "execution_count": 5,
   "id": "07f66b7f-169e-455b-8adb-5e1a6d1a82a6",
   "metadata": {},
   "outputs": [
    {
     "name": "stderr",
     "output_type": "stream",
     "text": [
      "                                                                                \r"
     ]
    },
    {
     "data": {
      "text/plain": [
       "['3', '3', '1', '2', '1']"
      ]
     },
     "execution_count": 5,
     "metadata": {},
     "output_type": "execute_result"
    }
   ],
   "source": [
    "ratings = lines.map(lambda x: x.split('\\t')[2])\n",
    "ratings.collect()[:5]"
   ]
  },
  {
   "cell_type": "code",
   "execution_count": 7,
   "id": "0990ea3d-e7f8-4db9-927d-41e5f4abcf08",
   "metadata": {},
   "outputs": [
    {
     "data": {
      "text/plain": [
       "defaultdict(int, {'3': 27145, '1': 6110, '2': 11370, '4': 34174, '5': 21201})"
      ]
     },
     "execution_count": 7,
     "metadata": {},
     "output_type": "execute_result"
    }
   ],
   "source": [
    "result = ratings.countByValue()\n",
    "result"
   ]
  },
  {
   "cell_type": "code",
   "execution_count": null,
   "id": "3b2c5a26-b00e-4933-9309-b5cb02f98b3f",
   "metadata": {},
   "outputs": [],
   "source": [
    "#3점이상인 영화의 평균 평점 계산하기"
   ]
  },
  {
   "cell_type": "code",
   "execution_count": 8,
   "id": "dc6b16de-9a83-462b-a50c-09193997d060",
   "metadata": {},
   "outputs": [
    {
     "data": {
      "text/plain": [
       "[['196', '242', '3', '881250949'],\n",
       " ['186', '302', '3', '891717742'],\n",
       " ['298', '474', '4', '884182806'],\n",
       " ['253', '465', '5', '891628467'],\n",
       " ['305', '451', '3', '886324817']]"
      ]
     },
     "execution_count": 8,
     "metadata": {},
     "output_type": "execute_result"
    }
   ],
   "source": [
    "#전체 파싱 > 3점이상 데이터 추출\n",
    "high_rating_rdd = lines.map(lambda x:x.split()).filter(lambda row: int(row[2]) >= 3)\n",
    "high_rating_rdd.take(5)\n"
   ]
  },
  {
   "cell_type": "code",
   "execution_count": null,
   "id": "88b6eff2-f375-47aa-a721-937e2142cffb",
   "metadata": {},
   "outputs": [],
   "source": [
    "#영화별 평균 평점 계산"
   ]
  },
  {
   "cell_type": "code",
   "execution_count": 9,
   "id": "92d5c72a-b30c-4ad0-ae2a-f347641abb32",
   "metadata": {},
   "outputs": [
    {
     "data": {
      "text/plain": [
       "[('242', (3, 1)), ('302', (3, 1)), ('474', (4, 1))]"
      ]
     },
     "execution_count": 9,
     "metadata": {},
     "output_type": "execute_result"
    }
   ],
   "source": [
    "movie_ratings = high_rating_rdd.map(lambda x: (x[1], (int(x[2]), 1)))\n",
    "movie_ratings.take(3)"
   ]
  },
  {
   "cell_type": "code",
   "execution_count": 10,
   "id": "ce0543d6-453b-4360-a5c5-7d0cf40a7591",
   "metadata": {},
   "outputs": [
    {
     "name": "stderr",
     "output_type": "stream",
     "text": [
      "                                                                                \r"
     ]
    },
    {
     "data": {
      "text/plain": [
       "[('242', (453, 108)), ('302', (1214, 285)), ('474', (813, 188))]"
      ]
     },
     "execution_count": 10,
     "metadata": {},
     "output_type": "execute_result"
    }
   ],
   "source": [
    "#key(id) 별로 3점,4점,5점 합산, 카운트 누적\n",
    "movie_total = movie_ratings.reduceByKey(lambda a,b: (a[0]+b[0], a[1]+b[1]))\n",
    "movie_total.take(3)"
   ]
  },
  {
   "cell_type": "code",
   "execution_count": 11,
   "id": "c6f60d1d-d160-4629-9f3e-523b52e23bb3",
   "metadata": {},
   "outputs": [
    {
     "data": {
      "text/plain": [
       "[('242', 4.194444444444445),\n",
       " ('302', 4.2596491228070175),\n",
       " ('474', 4.324468085106383)]"
      ]
     },
     "execution_count": 11,
     "metadata": {},
     "output_type": "execute_result"
    }
   ],
   "source": [
    "#평균\n",
    "movie_avg = movie_total.mapValues(lambda x: x[0]/x[1])\n",
    "movie_avg.take(3)"
   ]
  },
  {
   "cell_type": "code",
   "execution_count": null,
   "id": "538e7ed3-f37a-4c9c-b599-aadb07b2f3a4",
   "metadata": {},
   "outputs": [],
   "source": []
  },
  {
   "cell_type": "code",
   "execution_count": null,
   "id": "d3d39f74-b309-4264-b90b-3238372a687d",
   "metadata": {},
   "outputs": [],
   "source": []
  },
  {
   "cell_type": "code",
   "execution_count": 12,
   "id": "cb8fbc78-f84a-4af9-b306-75706461d87d",
   "metadata": {},
   "outputs": [],
   "source": [
    "sc.stop()"
   ]
  }
 ],
 "metadata": {
  "kernelspec": {
   "display_name": "Python(spark_start)",
   "language": "python",
   "name": "spark_start"
  },
  "language_info": {
   "codemirror_mode": {
    "name": "ipython",
    "version": 3
   },
   "file_extension": ".py",
   "mimetype": "text/x-python",
   "name": "python",
   "nbconvert_exporter": "python",
   "pygments_lexer": "ipython3",
   "version": "3.8.20"
  }
 },
 "nbformat": 4,
 "nbformat_minor": 5
}
