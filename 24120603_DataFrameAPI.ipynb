{
 "cells": [
  {
   "cell_type": "code",
   "execution_count": 1,
   "id": "65667af3-2f72-48cf-8359-08e9f930eb3f",
   "metadata": {},
   "outputs": [
    {
     "name": "stderr",
     "output_type": "stream",
     "text": [
      "24/12/06 15:56:02 WARN NativeCodeLoader: Unable to load native-hadoop library for your platform... using builtin-java classes where applicable\n",
      "Using Spark's default log4j profile: org/apache/spark/log4j-defaults.properties\n",
      "Setting default log level to \"WARN\".\n",
      "To adjust logging level use sc.setLogLevel(newLevel). For SparkR, use setLogLevel(newLevel).\n"
     ]
    }
   ],
   "source": [
    "from pyspark.sql import SparkSession\n",
    "spark = SparkSession.builder.appName(\"FirstSparkSessionApp\").getOrCreate()"
   ]
  },
  {
   "cell_type": "code",
   "execution_count": 2,
   "id": "8da3bbd5-79bc-4e95-b5d5-4e7a6026f552",
   "metadata": {},
   "outputs": [
    {
     "name": "stderr",
     "output_type": "stream",
     "text": [
      "                                                                                \r"
     ]
    }
   ],
   "source": [
    "df = spark.read.format('json').load('data/2015-summary.json')#, inferSchema=True, header=True)"
   ]
  },
  {
   "cell_type": "code",
   "execution_count": 3,
   "id": "9a2c7122-650b-419a-84e5-9ed20c907cc1",
   "metadata": {},
   "outputs": [
    {
     "data": {
      "text/plain": [
       "StructType(List(StructField(DEST_COUNTRY_NAME,StringType,true),StructField(ORIGIN_COUNTRY_NAME,StringType,true),StructField(count,LongType,true)))"
      ]
     },
     "execution_count": 3,
     "metadata": {},
     "output_type": "execute_result"
    }
   ],
   "source": [
    "df.schema"
   ]
  },
  {
   "cell_type": "code",
   "execution_count": 4,
   "id": "b4bb78e9-c0ca-4db7-af1f-402dd0d9e706",
   "metadata": {},
   "outputs": [
    {
     "name": "stdout",
     "output_type": "stream",
     "text": [
      "root\n",
      " |-- DEST_COUNTRY_NAME: string (nullable = true)\n",
      " |-- ORIGIN_COUNTRY_NAME: string (nullable = true)\n",
      " |-- count: long (nullable = true)\n",
      "\n"
     ]
    }
   ],
   "source": [
    "df.printSchema()"
   ]
  },
  {
   "cell_type": "code",
   "execution_count": null,
   "id": "7d80d704-490d-4c7e-9deb-0d639e869b4c",
   "metadata": {},
   "outputs": [],
   "source": [
    "df.take(5)"
   ]
  },
  {
   "cell_type": "code",
   "execution_count": 19,
   "id": "e504050e-c628-41d5-bdc4-efe27cf38c05",
   "metadata": {},
   "outputs": [
    {
     "name": "stdout",
     "output_type": "stream",
     "text": [
      "+-----------------+-------------------+-----+\n",
      "|DEST_COUNTRY_NAME|ORIGIN_COUNTRY_NAME|count|\n",
      "+-----------------+-------------------+-----+\n",
      "|    United States|            Romania|   15|\n",
      "|    United States|            Croatia|    1|\n",
      "|    United States|            Ireland|  344|\n",
      "|            Egypt|      United States|   15|\n",
      "|    United States|              India|   62|\n",
      "+-----------------+-------------------+-----+\n",
      "only showing top 5 rows\n",
      "\n"
     ]
    }
   ],
   "source": [
    "df.show(5)"
   ]
  },
  {
   "cell_type": "code",
   "execution_count": 5,
   "id": "8262f09e-131c-4ede-816d-f9258f17117c",
   "metadata": {},
   "outputs": [
    {
     "name": "stdout",
     "output_type": "stream",
     "text": [
      "+-----------------+\n",
      "|DEST_COUNTRY_NAME|\n",
      "+-----------------+\n",
      "|    United States|\n",
      "|    United States|\n",
      "|    United States|\n",
      "|            Egypt|\n",
      "|    United States|\n",
      "+-----------------+\n",
      "only showing top 5 rows\n",
      "\n"
     ]
    }
   ],
   "source": [
    "#spark DataTable\n",
    "df.select(\"DEST_COUNTRY_NAME\").show(5)"
   ]
  },
  {
   "cell_type": "code",
   "execution_count": 23,
   "id": "d1b4e425-e961-4a3e-96db-8526b13348ad",
   "metadata": {},
   "outputs": [
    {
     "data": {
      "text/plain": [
       "256"
      ]
     },
     "execution_count": 23,
     "metadata": {},
     "output_type": "execute_result"
    }
   ],
   "source": [
    "df.count()"
   ]
  },
  {
   "cell_type": "code",
   "execution_count": 18,
   "id": "15174025-6c41-48c0-98b2-22da4320945c",
   "metadata": {},
   "outputs": [],
   "source": [
    "df_dup2 = df.select('DEST_COUNTRY_NAME').dropDuplicates()\n"
   ]
  },
  {
   "cell_type": "code",
   "execution_count": 20,
   "id": "73fadd55-cc40-4ad1-bf32-e2958dde1ceb",
   "metadata": {},
   "outputs": [
    {
     "name": "stdout",
     "output_type": "stream",
     "text": [
      "+--------------------+\n",
      "|   DEST_COUNTRY_NAME|\n",
      "+--------------------+\n",
      "|            Anguilla|\n",
      "|              Russia|\n",
      "|            Paraguay|\n",
      "|             Senegal|\n",
      "|              Sweden|\n",
      "|            Kiribati|\n",
      "|              Guyana|\n",
      "|         Philippines|\n",
      "|            Djibouti|\n",
      "|            Malaysia|\n",
      "|           Singapore|\n",
      "|                Fiji|\n",
      "|              Turkey|\n",
      "|                Iraq|\n",
      "|             Germany|\n",
      "|              Jordan|\n",
      "|               Palau|\n",
      "|Turks and Caicos ...|\n",
      "|              France|\n",
      "|              Greece|\n",
      "+--------------------+\n",
      "only showing top 20 rows\n",
      "\n"
     ]
    }
   ],
   "source": [
    "df_dup2.show()"
   ]
  },
  {
   "cell_type": "code",
   "execution_count": 16,
   "id": "49d2fdb5-c742-4531-bd6c-011ee8d7b016",
   "metadata": {},
   "outputs": [
    {
     "name": "stdout",
     "output_type": "stream",
     "text": [
      "+--------------------+\n",
      "|   DEST_COUNTRY_NAME|\n",
      "+--------------------+\n",
      "|            Anguilla|\n",
      "|              Russia|\n",
      "|            Paraguay|\n",
      "|             Senegal|\n",
      "|              Sweden|\n",
      "|            Kiribati|\n",
      "|              Guyana|\n",
      "|         Philippines|\n",
      "|            Djibouti|\n",
      "|            Malaysia|\n",
      "|           Singapore|\n",
      "|                Fiji|\n",
      "|              Turkey|\n",
      "|                Iraq|\n",
      "|             Germany|\n",
      "|              Jordan|\n",
      "|               Palau|\n",
      "|Turks and Caicos ...|\n",
      "|              France|\n",
      "|              Greece|\n",
      "+--------------------+\n",
      "only showing top 20 rows\n",
      "\n"
     ]
    }
   ],
   "source": [
    "df_dup1.show()"
   ]
  },
  {
   "cell_type": "code",
   "execution_count": 21,
   "id": "6cbfd700-31ea-4929-aa9e-e74f91bfe02c",
   "metadata": {},
   "outputs": [
    {
     "name": "stderr",
     "output_type": "stream",
     "text": [
      "24/12/06 16:06:24 WARN CacheManager: Asked to cache already cached data.\n"
     ]
    },
    {
     "name": "stdout",
     "output_type": "stream",
     "text": [
      "+--------------------+\n",
      "|   DEST_COUNTRY_NAME|\n",
      "+--------------------+\n",
      "|            Anguilla|\n",
      "|              Russia|\n",
      "|            Paraguay|\n",
      "|             Senegal|\n",
      "|              Sweden|\n",
      "|            Kiribati|\n",
      "|              Guyana|\n",
      "|         Philippines|\n",
      "|            Djibouti|\n",
      "|            Malaysia|\n",
      "|           Singapore|\n",
      "|                Fiji|\n",
      "|              Turkey|\n",
      "|                Iraq|\n",
      "|             Germany|\n",
      "|              Jordan|\n",
      "|               Palau|\n",
      "|Turks and Caicos ...|\n",
      "|              France|\n",
      "|              Greece|\n",
      "+--------------------+\n",
      "only showing top 20 rows\n",
      "\n"
     ]
    }
   ],
   "source": [
    "df_dup3= df.select('DEST_COUNTRY_NAME').dropDuplicates().cache()\n",
    "df_dup3.show()"
   ]
  },
  {
   "cell_type": "code",
   "execution_count": 15,
   "id": "9abf5f9a-f057-4dcb-ac8e-391c0978d45a",
   "metadata": {},
   "outputs": [
    {
     "name": "stdout",
     "output_type": "stream",
     "text": [
      "+--------------------+\n",
      "|   DEST_COUNTRY_NAME|\n",
      "+--------------------+\n",
      "|            Anguilla|\n",
      "|              Russia|\n",
      "|            Paraguay|\n",
      "|             Senegal|\n",
      "|              Sweden|\n",
      "|            Kiribati|\n",
      "|              Guyana|\n",
      "|         Philippines|\n",
      "|            Djibouti|\n",
      "|            Malaysia|\n",
      "|           Singapore|\n",
      "|                Fiji|\n",
      "|              Turkey|\n",
      "|                Iraq|\n",
      "|             Germany|\n",
      "|              Jordan|\n",
      "|               Palau|\n",
      "|Turks and Caicos ...|\n",
      "|              France|\n",
      "|              Greece|\n",
      "+--------------------+\n",
      "only showing top 20 rows\n",
      "\n"
     ]
    }
   ],
   "source": [
    "df_dup2.show()"
   ]
  },
  {
   "cell_type": "code",
   "execution_count": 28,
   "id": "f42ad8eb-8aae-47c6-9e1b-984513f640d8",
   "metadata": {},
   "outputs": [
    {
     "name": "stderr",
     "output_type": "stream",
     "text": [
      "                                                                                \r"
     ]
    },
    {
     "data": {
      "text/plain": [
       "132"
      ]
     },
     "execution_count": 28,
     "metadata": {},
     "output_type": "execute_result"
    }
   ],
   "source": [
    "df_dup.count()"
   ]
  },
  {
   "cell_type": "code",
   "execution_count": 31,
   "id": "14d1356a-db58-4e5d-b7f6-8ed7f720e926",
   "metadata": {},
   "outputs": [
    {
     "name": "stderr",
     "output_type": "stream",
     "text": [
      "                                                                                \r"
     ]
    },
    {
     "data": {
      "text/plain": [
       "132"
      ]
     },
     "execution_count": 31,
     "metadata": {},
     "output_type": "execute_result"
    }
   ],
   "source": [
    "df_dup.distinct().count()"
   ]
  },
  {
   "cell_type": "code",
   "execution_count": 26,
   "id": "e3502cbd-6989-4a59-9f67-7cdd486d0498",
   "metadata": {},
   "outputs": [
    {
     "data": {
      "text/plain": [
       "132"
      ]
     },
     "execution_count": 26,
     "metadata": {},
     "output_type": "execute_result"
    }
   ],
   "source": [
    "df_dup1.count()"
   ]
  },
  {
   "cell_type": "code",
   "execution_count": 27,
   "id": "8c94dcdb-e480-4101-872f-5fc7e604c8d4",
   "metadata": {},
   "outputs": [
    {
     "data": {
      "text/plain": [
       "132"
      ]
     },
     "execution_count": 27,
     "metadata": {},
     "output_type": "execute_result"
    }
   ],
   "source": [
    "df_dup3.count()"
   ]
  },
  {
   "cell_type": "code",
   "execution_count": 28,
   "id": "62df3ef4-bb42-42ab-8344-decaefe02a8f",
   "metadata": {},
   "outputs": [
    {
     "name": "stdout",
     "output_type": "stream",
     "text": [
      "+--------------------+-------------------+-----+\n",
      "|   DEST_COUNTRY_NAME|ORIGIN_COUNTRY_NAME|count|\n",
      "+--------------------+-------------------+-----+\n",
      "|             Algeria|      United States|    4|\n",
      "|              Angola|      United States|   15|\n",
      "|            Anguilla|      United States|   41|\n",
      "| Antigua and Barbuda|      United States|  126|\n",
      "|           Argentina|      United States|  180|\n",
      "|               Aruba|      United States|  346|\n",
      "|           Australia|      United States|  329|\n",
      "|             Austria|      United States|   62|\n",
      "|          Azerbaijan|      United States|   21|\n",
      "|             Bahrain|      United States|   19|\n",
      "|            Barbados|      United States|  154|\n",
      "|             Belgium|      United States|  259|\n",
      "|              Belize|      United States|  188|\n",
      "|             Bermuda|      United States|  183|\n",
      "|             Bolivia|      United States|   30|\n",
      "|Bonaire, Sint Eus...|      United States|   58|\n",
      "|              Brazil|      United States|  853|\n",
      "|British Virgin Is...|      United States|  107|\n",
      "|            Bulgaria|      United States|    3|\n",
      "|        Burkina Faso|      United States|    1|\n",
      "+--------------------+-------------------+-----+\n",
      "only showing top 20 rows\n",
      "\n"
     ]
    }
   ],
   "source": [
    "df.sort('DEST_COUNTRY_NAME').show()"
   ]
  },
  {
   "cell_type": "code",
   "execution_count": 29,
   "id": "7bd1de25-ac9e-41aa-a454-1a4add275649",
   "metadata": {},
   "outputs": [],
   "source": [
    "from pyspark.sql.functions import expr"
   ]
  },
  {
   "cell_type": "code",
   "execution_count": 33,
   "id": "2b55d8e1-77e8-4be1-a8c0-fdc934379b83",
   "metadata": {},
   "outputs": [],
   "source": [
    "df3 = df.withColumn('withInCountry', expr('ORIGIN_COUNTRY_NAME==DEST_COUNTRY_NAME'))"
   ]
  },
  {
   "cell_type": "code",
   "execution_count": 34,
   "id": "f015095f-86cb-42a3-8b39-2acbce812f4a",
   "metadata": {},
   "outputs": [
    {
     "name": "stdout",
     "output_type": "stream",
     "text": [
      "+-----------------+-------------------+-----+-------------+\n",
      "|DEST_COUNTRY_NAME|ORIGIN_COUNTRY_NAME|count|withInCountry|\n",
      "+-----------------+-------------------+-----+-------------+\n",
      "|    United States|            Romania|   15|        false|\n",
      "|    United States|            Croatia|    1|        false|\n",
      "+-----------------+-------------------+-----+-------------+\n",
      "only showing top 2 rows\n",
      "\n"
     ]
    }
   ],
   "source": [
    "df3.show(2)"
   ]
  },
  {
   "cell_type": "code",
   "execution_count": 35,
   "id": "f7304f68-728a-4f33-b326-1aac0e85cd0f",
   "metadata": {},
   "outputs": [],
   "source": [
    "#SQL 구문 CASE WHEN > 수치형 변수 > 명목형 변수로 변환\n",
    "df4 = df.withColumn('category', expr('CASE WHEN count<10 THEN \"under\" WHEN count>=10 THEN \"upper\" END'))"
   ]
  },
  {
   "cell_type": "code",
   "execution_count": 36,
   "id": "ed5e6f84-beac-4a14-aa57-786c64084577",
   "metadata": {},
   "outputs": [
    {
     "name": "stdout",
     "output_type": "stream",
     "text": [
      "+-----------------+-------------------+-----+--------+\n",
      "|DEST_COUNTRY_NAME|ORIGIN_COUNTRY_NAME|count|category|\n",
      "+-----------------+-------------------+-----+--------+\n",
      "|    United States|            Romania|   15|   upper|\n",
      "|    United States|            Croatia|    1|   under|\n",
      "|    United States|            Ireland|  344|   upper|\n",
      "|            Egypt|      United States|   15|   upper|\n",
      "|    United States|              India|   62|   upper|\n",
      "+-----------------+-------------------+-----+--------+\n",
      "only showing top 5 rows\n",
      "\n"
     ]
    }
   ],
   "source": [
    "df4.show(5)"
   ]
  },
  {
   "cell_type": "code",
   "execution_count": null,
   "id": "14a32245-cd22-47b8-976a-e0eb2df86015",
   "metadata": {},
   "outputs": [],
   "source": [
    "# count 2배 해보세요\n"
   ]
  },
  {
   "cell_type": "code",
   "execution_count": 37,
   "id": "674b72b6-5027-4380-bcd9-2bca27f1d6e6",
   "metadata": {},
   "outputs": [],
   "source": [
    "df5 = df4.withColumn('withInCountry', expr('ORIGIN_COUNTRY_NAME==DEST_COUNTRY_NAME'))"
   ]
  },
  {
   "cell_type": "code",
   "execution_count": 38,
   "id": "902952e5-c235-458b-b864-5324129e8ed2",
   "metadata": {},
   "outputs": [
    {
     "name": "stdout",
     "output_type": "stream",
     "text": [
      "+-----------------+-------------------+-----+--------+-------------+\n",
      "|DEST_COUNTRY_NAME|ORIGIN_COUNTRY_NAME|count|category|withInCountry|\n",
      "+-----------------+-------------------+-----+--------+-------------+\n",
      "|    United States|            Romania|   15|   upper|        false|\n",
      "|    United States|            Croatia|    1|   under|        false|\n",
      "|    United States|            Ireland|  344|   upper|        false|\n",
      "|            Egypt|      United States|   15|   upper|        false|\n",
      "|    United States|              India|   62|   upper|        false|\n",
      "+-----------------+-------------------+-----+--------+-------------+\n",
      "only showing top 5 rows\n",
      "\n"
     ]
    }
   ],
   "source": [
    "df5.show(5)"
   ]
  },
  {
   "cell_type": "code",
   "execution_count": 39,
   "id": "ccb36cc8-9ec7-44c4-8f05-1db82423d78a",
   "metadata": {},
   "outputs": [
    {
     "name": "stdout",
     "output_type": "stream",
     "text": [
      "+-------------+-----+\n",
      "|withInCountry|count|\n",
      "+-------------+-----+\n",
      "|         true|    1|\n",
      "|        false|  255|\n",
      "+-------------+-----+\n",
      "\n"
     ]
    }
   ],
   "source": [
    "df5.groupBy(\"withInCountry\").count().show()"
   ]
  },
  {
   "cell_type": "markdown",
   "id": "8e742607-ec96-4cf1-be7f-69721fef3a66",
   "metadata": {},
   "source": [
    "## Projection 과 Filter\n",
    "\n",
    "```\n",
    "select a,b,c from TableA  # projection > column > Transformation\n",
    "where a>10  #filter > Row >Transformation\n",
    "```\n"
   ]
  },
  {
   "cell_type": "code",
   "execution_count": 41,
   "id": "b7523143-b12e-4f43-8f6c-6149d01aff1c",
   "metadata": {},
   "outputs": [],
   "source": [
    "df6 = df5.where('count<5' )"
   ]
  },
  {
   "cell_type": "code",
   "execution_count": 42,
   "id": "ecd5b980-c145-4283-b49d-37f4dc129a89",
   "metadata": {},
   "outputs": [
    {
     "name": "stdout",
     "output_type": "stream",
     "text": [
      "+--------------------+-------------------+-----+--------+-------------+\n",
      "|   DEST_COUNTRY_NAME|ORIGIN_COUNTRY_NAME|count|category|withInCountry|\n",
      "+--------------------+-------------------+-----+--------+-------------+\n",
      "|       United States|            Croatia|    1|   under|        false|\n",
      "|       United States|          Singapore|    1|   under|        false|\n",
      "|             Moldova|      United States|    1|   under|        false|\n",
      "|               Malta|      United States|    1|   under|        false|\n",
      "|             Algeria|      United States|    4|   under|        false|\n",
      "|       United States|          Gibraltar|    1|   under|        false|\n",
      "|Saint Vincent and...|      United States|    1|   under|        false|\n",
      "|            Suriname|      United States|    1|   under|        false|\n",
      "|       United States|             Cyprus|    1|   under|        false|\n",
      "|       United States|           Malaysia|    3|   under|        false|\n",
      "|            Thailand|      United States|    3|   under|        false|\n",
      "|             Liberia|      United States|    2|   under|        false|\n",
      "|             Hungary|      United States|    2|   under|        false|\n",
      "|       United States|            Vietnam|    2|   under|        false|\n",
      "|        Burkina Faso|      United States|    1|   under|        false|\n",
      "|            Djibouti|      United States|    1|   under|        false|\n",
      "|       United States|            Estonia|    1|   under|        false|\n",
      "|       United States|            Hungary|    3|   under|        false|\n",
      "|              Zambia|      United States|    1|   under|        false|\n",
      "|            Malaysia|      United States|    2|   under|        false|\n",
      "+--------------------+-------------------+-----+--------+-------------+\n",
      "only showing top 20 rows\n",
      "\n"
     ]
    }
   ],
   "source": [
    "df6.show()"
   ]
  },
  {
   "cell_type": "code",
   "execution_count": 43,
   "id": "5ea098ef-cc26-4be1-9d0f-3ae7f5ca661e",
   "metadata": {},
   "outputs": [
    {
     "data": {
      "text/plain": [
       "46"
      ]
     },
     "execution_count": 43,
     "metadata": {},
     "output_type": "execute_result"
    }
   ],
   "source": [
    "df6.count()"
   ]
  },
  {
   "cell_type": "markdown",
   "id": "fbc87d0d-ca6f-4cbf-a37a-ee87f854bfa0",
   "metadata": {},
   "source": [
    "where a>10 and b!=1 "
   ]
  },
  {
   "cell_type": "code",
   "execution_count": 47,
   "id": "c42f86aa-ea4f-4a28-8135-102da182de6c",
   "metadata": {},
   "outputs": [
    {
     "name": "stdout",
     "output_type": "stream",
     "text": [
      "+-----------------+-------------------+-----+--------+-------------+\n",
      "|DEST_COUNTRY_NAME|ORIGIN_COUNTRY_NAME|count|category|withInCountry|\n",
      "+-----------------+-------------------+-----+--------+-------------+\n",
      "|    United States|            Croatia|    1|   under|        false|\n",
      "|    United States|          Singapore|    1|   under|        false|\n",
      "|    United States|          Gibraltar|    1|   under|        false|\n",
      "|    United States|             Cyprus|    1|   under|        false|\n",
      "|    United States|           Malaysia|    3|   under|        false|\n",
      "|    United States|            Vietnam|    2|   under|        false|\n",
      "|    United States|            Estonia|    1|   under|        false|\n",
      "|    United States|            Hungary|    3|   under|        false|\n",
      "|    United States|           Thailand|    4|   under|        false|\n",
      "|    United States|            Liberia|    2|   under|        false|\n",
      "|    United States|              Malta|    2|   under|        false|\n",
      "|    United States|          Lithuania|    1|   under|        false|\n",
      "|    United States|           Bulgaria|    1|   under|        false|\n",
      "|    United States|            Georgia|    1|   under|        false|\n",
      "|    United States|            Bahrain|    1|   under|        false|\n",
      "|    United States|   Papua New Guinea|    1|   under|        false|\n",
      "|    United States|          Greenland|    4|   under|        false|\n",
      "|    United States|          Indonesia|    2|   under|        false|\n",
      "|    United States|         Montenegro|    1|   under|        false|\n",
      "|    United States|            Namibia|    1|   under|        false|\n",
      "+-----------------+-------------------+-----+--------+-------------+\n",
      "\n"
     ]
    }
   ],
   "source": [
    "df7 = df5.where('count<5' ).where('ORIGIN_COUNTRY_NAME != \"United States\"')\n",
    "df7.show()"
   ]
  },
  {
   "cell_type": "code",
   "execution_count": null,
   "id": "0b58ab84-08d1-4ef4-93fc-1738fab36241",
   "metadata": {},
   "outputs": [],
   "source": [
    "#프로젝션, 필터링 연습을 진행해 봅니다."
   ]
  },
  {
   "cell_type": "code",
   "execution_count": 53,
   "id": "b862132c-26e0-4ffc-9f24-f7d45c338cdf",
   "metadata": {},
   "outputs": [
    {
     "name": "stdout",
     "output_type": "stream",
     "text": [
      "+-------------+-----+\n",
      "|withInCountry|count|\n",
      "+-------------+-----+\n",
      "|         true|    1|\n",
      "|        false|  255|\n",
      "+-------------+-----+\n",
      "\n"
     ]
    }
   ],
   "source": [
    "df5.groupBy('withInCountry').count().show()"
   ]
  },
  {
   "cell_type": "code",
   "execution_count": 54,
   "id": "f8d14a98-e6a8-4c31-9455-c11afe33730e",
   "metadata": {},
   "outputs": [
    {
     "name": "stdout",
     "output_type": "stream",
     "text": [
      "+-----------------+-------------------+------+--------+-------------+\n",
      "|DEST_COUNTRY_NAME|ORIGIN_COUNTRY_NAME| count|category|withInCountry|\n",
      "+-----------------+-------------------+------+--------+-------------+\n",
      "|    United States|      United States|370002|   upper|         true|\n",
      "+-----------------+-------------------+------+--------+-------------+\n",
      "\n"
     ]
    }
   ],
   "source": [
    "#국내 여행 카운트를 확인합니다.\n",
    "df5.where('withInCountry==true').show()"
   ]
  },
  {
   "cell_type": "code",
   "execution_count": null,
   "id": "ef0b2006-e880-4d5c-b1f9-dfeb890e1080",
   "metadata": {},
   "outputs": [],
   "source": [
    "#upper 인 ORIGIN_COUNTRY_NAME별 평균 카운트"
   ]
  },
  {
   "cell_type": "code",
   "execution_count": null,
   "id": "c0b609d5-f9dc-4caf-8221-b85975bd9cfc",
   "metadata": {},
   "outputs": [],
   "source": [
    "#카운트가 200 이상인 ORIGIN_COUNTRY_NAME"
   ]
  },
  {
   "cell_type": "code",
   "execution_count": null,
   "id": "6364d579-d0be-4d6d-9b8f-49beb39229c9",
   "metadata": {},
   "outputs": [],
   "source": [
    "#국내 여행이 아니면서 가장 횟수가 많은 ORIGIN_COUNTRY_NAME top 10을  추출해보세요"
   ]
  },
  {
   "cell_type": "code",
   "execution_count": null,
   "id": "0ad32bae-1118-4d41-b43d-f4fb01681ef5",
   "metadata": {},
   "outputs": [],
   "source": [
    "#국내 여행이 아니면서 가장 횟수가 적은 ORIGIN_COUNTRY_NAME top 10을  추출해보세요"
   ]
  },
  {
   "cell_type": "code",
   "execution_count": null,
   "id": "0cbfdc88-8a8a-467b-99ab-43b81496fbbe",
   "metadata": {},
   "outputs": [],
   "source": [
    "#도착국가별 count 총합이 가장 많은 top10을 추출해 보세요"
   ]
  },
  {
   "cell_type": "code",
   "execution_count": null,
   "id": "e980e2ac-8385-49a7-8aff-ae22d788b886",
   "metadata": {},
   "outputs": [],
   "source": []
  },
  {
   "cell_type": "code",
   "execution_count": null,
   "id": "cfc7152c-8540-400f-bce9-616713b7b672",
   "metadata": {},
   "outputs": [],
   "source": []
  },
  {
   "cell_type": "code",
   "execution_count": null,
   "id": "fd121977-c127-40e5-91b7-55c0b530b2ba",
   "metadata": {},
   "outputs": [],
   "source": []
  },
  {
   "cell_type": "code",
   "execution_count": 22,
   "id": "e8547854-10c4-4607-b517-45cbef3ef568",
   "metadata": {},
   "outputs": [
    {
     "name": "stdout",
     "output_type": "stream",
     "text": [
      "+-----------------+-------------------+-----+\n",
      "|DEST_COUNTRY_NAME|ORIGIN_COUNTRY_NAME|count|\n",
      "+-----------------+-------------------+-----+\n",
      "|    United States|            Romania|   15|\n",
      "|    United States|            Croatia|    1|\n",
      "|    United States|            Ireland|  344|\n",
      "|            Egypt|      United States|   15|\n",
      "|    United States|              India|   62|\n",
      "+-----------------+-------------------+-----+\n",
      "only showing top 5 rows\n",
      "\n"
     ]
    }
   ],
   "source": [
    "#spark SQL\n",
    "spark.sql(\"select * from mobility_data\").show(5)"
   ]
  },
  {
   "cell_type": "code",
   "execution_count": null,
   "id": "5fd80a0a-19ed-4dd9-aea0-a7df588aecd8",
   "metadata": {},
   "outputs": [],
   "source": [
    "# groupby 집계"
   ]
  },
  {
   "cell_type": "code",
   "execution_count": null,
   "id": "daa626bf-387b-4858-9440-e66f4ea1135f",
   "metadata": {},
   "outputs": [],
   "source": [
    "\"\"\"select * from mobility_data\n",
    "group by pi\n",
    "\"\"\""
   ]
  },
  {
   "cell_type": "code",
   "execution_count": null,
   "id": "aea0e6df-482e-4ecc-a8be-96ab2618499d",
   "metadata": {},
   "outputs": [],
   "source": [
    "df."
   ]
  }
 ],
 "metadata": {
  "kernelspec": {
   "display_name": "Python(spark_start)",
   "language": "python",
   "name": "spark_start"
  },
  "language_info": {
   "codemirror_mode": {
    "name": "ipython",
    "version": 3
   },
   "file_extension": ".py",
   "mimetype": "text/x-python",
   "name": "python",
   "nbconvert_exporter": "python",
   "pygments_lexer": "ipython3",
   "version": "3.8.20"
  }
 },
 "nbformat": 4,
 "nbformat_minor": 5
}
