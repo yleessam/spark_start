{
 "cells": [
  {
   "cell_type": "code",
   "execution_count": 2,
   "id": "5ed0d50d-1c8c-41d5-8387-b7f09628e868",
   "metadata": {},
   "outputs": [
    {
     "name": "stderr",
     "output_type": "stream",
     "text": [
      "24/12/05 10:26:54 WARN NativeCodeLoader: Unable to load native-hadoop library for your platform... using builtin-java classes where applicable\n",
      "Using Spark's default log4j profile: org/apache/spark/log4j-defaults.properties\n",
      "Setting default log level to \"WARN\".\n",
      "To adjust logging level use sc.setLogLevel(newLevel). For SparkR, use setLogLevel(newLevel).\n",
      "24/12/05 10:26:55 WARN Utils: Service 'SparkUI' could not bind on port 4040. Attempting port 4041.\n",
      "24/12/05 10:26:55 WARN Utils: Service 'SparkUI' could not bind on port 4041. Attempting port 4042.\n"
     ]
    }
   ],
   "source": [
    "from pyspark import SparkConf, SparkContext\n",
    "# 스파크 환경 설정 객체 생성\n",
    "conf = SparkConf().setMaster(\"local\").setAppName(\"restaurant-review-average\")\n",
    "spark = SparkContext(conf=conf).getOrCreate()"
   ]
  },
  {
   "cell_type": "code",
   "execution_count": 3,
   "id": "a243ca89-e2b9-4653-9948-d7005e70e575",
   "metadata": {},
   "outputs": [
    {
     "data": {
      "text/plain": [
       "ParallelCollectionRDD[0] at readRDDFromFile at PythonRDD.scala:274"
      ]
     },
     "execution_count": 3,
     "metadata": {},
     "output_type": "execute_result"
    }
   ],
   "source": [
    "data = [\n",
    "    (0, \"짜장면\", \"중식\", 125),\n",
    "    (1, \"짬뽕\", \"중식\", 235),\n",
    "    (2, \"김밥\", \"분식\", 32),\n",
    "    (3, \"떡볶이\", \"분식\", 534),\n",
    "    (4, \"라멘\", \"일식\", 223),\n",
    "    (5, \"돈가스\", \"일식\", 52),\n",
    "    (6, \"우동\", \"일식\", 12),\n",
    "    (7, \"쌀국수\", \"아시안\", 312),\n",
    "    (8, \"햄버거\", \"패스트푸드\", 12),\n",
    "    (9, \"치킨\", \"패스트푸드\", 23),\n",
    "]\n",
    "rdd = spark.parallelize(data)\n",
    "rdd"
   ]
  },
  {
   "cell_type": "code",
   "execution_count": 4,
   "id": "12026f24-0f0c-43ba-8faf-b67035a8e982",
   "metadata": {},
   "outputs": [
    {
     "data": {
      "text/plain": [
       "file:////home/tutor/src/data/restaurant_reviews.csv MapPartitionsRDD[2] at textFile at NativeMethodAccessorImpl.java:0"
      ]
     },
     "execution_count": 4,
     "metadata": {},
     "output_type": "execute_result"
    }
   ],
   "source": [
    "import os\n",
    "directory = os.path.join(os.getcwd(), \"data\")\n",
    "filename = \"restaurant_reviews.csv\"\n",
    "filepath = os.path.join(directory, filename)\n",
    "lines = spark.textFile(\"file:///\"+filepath.replace(\"\\\\\", \"/\"))\n",
    "lines"
   ]
  },
  {
   "cell_type": "code",
   "execution_count": 5,
   "id": "1b07b4e4-9e35-4f25-bcfc-0df300849d49",
   "metadata": {},
   "outputs": [
    {
     "name": "stderr",
     "output_type": "stream",
     "text": [
      "                                                                                \r"
     ]
    }
   ],
   "source": [
    "header = lines.first()"
   ]
  },
  {
   "cell_type": "code",
   "execution_count": 6,
   "id": "9aaea926-6b39-40ab-b677-05456f107fd6",
   "metadata": {},
   "outputs": [],
   "source": [
    "filtered_lines = lines.filter(lambda row : row != header)"
   ]
  },
  {
   "cell_type": "code",
   "execution_count": 7,
   "id": "dea890c4-7649-46ac-8f23-9cb645a7f3b5",
   "metadata": {},
   "outputs": [
    {
     "data": {
      "text/plain": [
       "['0,짜장면,중식,125,',\n",
       " '1,짬뽕,중식,235,',\n",
       " '2,김밥,분식,32,',\n",
       " '3,떡볶이,분식,534,',\n",
       " '4,라멘,일식,223,']"
      ]
     },
     "execution_count": 7,
     "metadata": {},
     "output_type": "execute_result"
    }
   ],
   "source": [
    "filtered_lines.take(5)"
   ]
  },
  {
   "cell_type": "code",
   "execution_count": 12,
   "id": "4289de8f-fbdf-4901-a91d-129048a074c1",
   "metadata": {},
   "outputs": [],
   "source": [
    "def parse(row):\n",
    "    fields = row.split(\",\")\n",
    "    category = fields[2]\n",
    "    reviews = int(fields[3])\n",
    "    return category, reviews"
   ]
  },
  {
   "cell_type": "code",
   "execution_count": 13,
   "id": "48fd3e20-c303-4420-aee0-5682744dd548",
   "metadata": {},
   "outputs": [],
   "source": [
    "result1 = filtered_lines.map(parse).collect()"
   ]
  },
  {
   "cell_type": "code",
   "execution_count": 15,
   "id": "ffe425c5-0b0b-43e0-85db-3409fbcad0b7",
   "metadata": {},
   "outputs": [],
   "source": [
    "result2 = filtered_lines.map(parse).take(5)"
   ]
  },
  {
   "cell_type": "code",
   "execution_count": 16,
   "id": "060d964f-61f1-440f-9668-077ef352b1ff",
   "metadata": {},
   "outputs": [
    {
     "data": {
      "text/plain": [
       "[('중식', 125),\n",
       " ('중식', 235),\n",
       " ('분식', 32),\n",
       " ('분식', 534),\n",
       " ('일식', 223),\n",
       " ('일식', 52),\n",
       " ('일식', 12),\n",
       " ('아시안', 312),\n",
       " ('패스트푸드', 12),\n",
       " ('패스트푸드', 23)]"
      ]
     },
     "execution_count": 16,
     "metadata": {},
     "output_type": "execute_result"
    }
   ],
   "source": [
    "result1"
   ]
  },
  {
   "cell_type": "code",
   "execution_count": 17,
   "id": "f18e585e-6b0e-46c4-bafb-20a1c197be9f",
   "metadata": {},
   "outputs": [
    {
     "data": {
      "text/plain": [
       "[('중식', 125), ('중식', 235), ('분식', 32), ('분식', 534), ('일식', 223)]"
      ]
     },
     "execution_count": 17,
     "metadata": {},
     "output_type": "execute_result"
    }
   ],
   "source": [
    "result2"
   ]
  },
  {
   "cell_type": "code",
   "execution_count": 18,
   "id": "25fb9924-a378-4fd6-ae21-70975d0aaee2",
   "metadata": {},
   "outputs": [
    {
     "data": {
      "text/plain": [
       "PythonRDD[8] at RDD at PythonRDD.scala:53"
      ]
     },
     "execution_count": 18,
     "metadata": {},
     "output_type": "execute_result"
    }
   ],
   "source": [
    "cat_reviews = filtered_lines.map(parse).persist()\n",
    "cat_reviews"
   ]
  },
  {
   "cell_type": "code",
   "execution_count": 20,
   "id": "1804e71d-163f-472f-850b-1755d4d6c731",
   "metadata": {},
   "outputs": [],
   "source": [
    "result11 = cat_reviews.take(10)\n",
    "result12 = cat_reviews.collect()"
   ]
  },
  {
   "cell_type": "code",
   "execution_count": 22,
   "id": "b18d3999-a473-4209-91b3-242b9020f27a",
   "metadata": {},
   "outputs": [
    {
     "data": {
      "text/plain": [
       "[('중식', 125),\n",
       " ('중식', 235),\n",
       " ('분식', 32),\n",
       " ('분식', 534),\n",
       " ('일식', 223),\n",
       " ('일식', 52),\n",
       " ('일식', 12),\n",
       " ('아시안', 312),\n",
       " ('패스트푸드', 12),\n",
       " ('패스트푸드', 23)]"
      ]
     },
     "execution_count": 22,
     "metadata": {},
     "output_type": "execute_result"
    }
   ],
   "source": [
    "result11"
   ]
  },
  {
   "cell_type": "code",
   "execution_count": 23,
   "id": "752a3689-e09f-47a0-9a56-78d6edafa6c5",
   "metadata": {},
   "outputs": [
    {
     "data": {
      "text/plain": [
       "[('중식', 125),\n",
       " ('중식', 235),\n",
       " ('분식', 32),\n",
       " ('분식', 534),\n",
       " ('일식', 223),\n",
       " ('일식', 52),\n",
       " ('일식', 12),\n",
       " ('아시안', 312),\n",
       " ('패스트푸드', 12),\n",
       " ('패스트푸드', 23)]"
      ]
     },
     "execution_count": 23,
     "metadata": {},
     "output_type": "execute_result"
    }
   ],
   "source": [
    "result12"
   ]
  },
  {
   "cell_type": "code",
   "execution_count": null,
   "id": "c71d9dbb-f9b0-4af0-9a3d-bc53763c0591",
   "metadata": {},
   "outputs": [],
   "source": []
  },
  {
   "cell_type": "code",
   "execution_count": 24,
   "id": "e8a4b0ee-5522-4fae-b4c6-e36f24c0a6cb",
   "metadata": {},
   "outputs": [],
   "source": [
    "spark.stop()"
   ]
  },
  {
   "cell_type": "code",
   "execution_count": null,
   "id": "d1c06ab5-31f4-43de-aef2-13dce6cadff9",
   "metadata": {},
   "outputs": [],
   "source": []
  },
  {
   "cell_type": "code",
   "execution_count": null,
   "id": "38088ef5-9daa-4fe4-918d-d023bc8cd3ab",
   "metadata": {},
   "outputs": [],
   "source": []
  }
 ],
 "metadata": {
  "kernelspec": {
   "display_name": "Python(spark_start)",
   "language": "python",
   "name": "spark_start"
  },
  "language_info": {
   "codemirror_mode": {
    "name": "ipython",
    "version": 3
   },
   "file_extension": ".py",
   "mimetype": "text/x-python",
   "name": "python",
   "nbconvert_exporter": "python",
   "pygments_lexer": "ipython3",
   "version": "3.8.20"
  }
 },
 "nbformat": 4,
 "nbformat_minor": 5
}
