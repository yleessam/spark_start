{
 "cells": [
  {
   "cell_type": "code",
   "execution_count": 8,
   "id": "c5a049a2-7101-4b3e-8cc5-80d6bfa56a47",
   "metadata": {},
   "outputs": [],
   "source": [
    "# 전처리 > 모델 학습 > 예측"
   ]
  },
  {
   "cell_type": "code",
   "execution_count": 1,
   "id": "74de9828-94ae-4971-a789-dd2aea30a787",
   "metadata": {},
   "outputs": [
    {
     "name": "stderr",
     "output_type": "stream",
     "text": [
      "24/12/13 13:38:05 WARN NativeCodeLoader: Unable to load native-hadoop library for your platform... using builtin-java classes where applicable\n",
      "Using Spark's default log4j profile: org/apache/spark/log4j-defaults.properties\n",
      "Setting default log level to \"WARN\".\n",
      "To adjust logging level use sc.setLogLevel(newLevel). For SparkR, use setLogLevel(newLevel).\n"
     ]
    }
   ],
   "source": [
    "from pyspark.sql import SparkSession\n",
    "\n",
    "spark = SparkSession.builder.appName(\"241212_01_MLlib_clustering\").getOrCreate()"
   ]
  },
  {
   "cell_type": "code",
   "execution_count": 2,
   "id": "ee0ba5b9-d96d-471e-b02f-59364ead500e",
   "metadata": {},
   "outputs": [],
   "source": [
    "# 데이터 생성\n",
    "data = [\n",
    "    (0, 0, 4.0),  # user 0 rated item 0 with 4.0\n",
    "    (0, 1, 2.0),\n",
    "    (1, 1, 3.0),\n",
    "    (1, 2, 1.0),\n",
    "    (2, 0, 5.0),\n",
    "    (2, 2, 4.0)\n",
    "]\n",
    "\n",
    "columns = [\"user_id\", \"item_id\", \"rating\"] #cluster"
   ]
  },
  {
   "cell_type": "markdown",
   "id": "65746061-e585-41bc-b655-eb62a09fcea8",
   "metadata": {},
   "source": [
    "# 피처선택"
   ]
  },
  {
   "cell_type": "code",
   "execution_count": 3,
   "id": "28c26663-accf-489d-8c64-045b93bda19e",
   "metadata": {},
   "outputs": [
    {
     "name": "stderr",
     "output_type": "stream",
     "text": [
      "[Stage 0:>                                                          (0 + 1) / 1]\r"
     ]
    },
    {
     "name": "stdout",
     "output_type": "stream",
     "text": [
      "+-------+-------+------+\n",
      "|user_id|item_id|rating|\n",
      "+-------+-------+------+\n",
      "|      0|      0|   4.0|\n",
      "|      0|      1|   2.0|\n",
      "|      1|      1|   3.0|\n",
      "|      1|      2|   1.0|\n",
      "|      2|      0|   5.0|\n",
      "|      2|      2|   4.0|\n",
      "+-------+-------+------+\n",
      "\n"
     ]
    },
    {
     "name": "stderr",
     "output_type": "stream",
     "text": [
      "                                                                                \r"
     ]
    }
   ],
   "source": [
    "rating_df = spark.createDataFrame(data, columns)\n",
    "rating_df.show()"
   ]
  },
  {
   "cell_type": "code",
   "execution_count": null,
   "id": "7a303139-cd40-4c8d-be92-f50488021651",
   "metadata": {},
   "outputs": [],
   "source": [
    "# user, item - rating 정보를 >> 사용자 그룹을 만든다. > 모델 > 예측 결과 - 그룹"
   ]
  },
  {
   "cell_type": "markdown",
   "id": "ccc61fad-9a85-4210-a5f4-dd1ce80e0ab6",
   "metadata": {},
   "source": [
    "# 전처리 "
   ]
  },
  {
   "cell_type": "code",
   "execution_count": 4,
   "id": "b14b778f-0383-4ad4-a4b6-4098e20f24a5",
   "metadata": {},
   "outputs": [
    {
     "name": "stderr",
     "output_type": "stream",
     "text": [
      "                                                                                \r"
     ]
    }
   ],
   "source": [
    "user_item_matrix = rating_df.groupBy(\"user_id\").pivot(\"item_id\").avg(\"rating\").fillna(0)"
   ]
  },
  {
   "cell_type": "code",
   "execution_count": 5,
   "id": "88de9c88-17f7-4025-a291-9d5a5896701f",
   "metadata": {},
   "outputs": [
    {
     "name": "stderr",
     "output_type": "stream",
     "text": [
      "                                                                                \r"
     ]
    },
    {
     "name": "stdout",
     "output_type": "stream",
     "text": [
      "+-------+---+---+---+\n",
      "|user_id|  0|  1|  2|\n",
      "+-------+---+---+---+\n",
      "|      0|4.0|2.0|0.0|\n",
      "|      1|0.0|3.0|1.0|\n",
      "|      2|5.0|0.0|4.0|\n",
      "+-------+---+---+---+\n",
      "\n"
     ]
    }
   ],
   "source": [
    "user_item_matrix.show()"
   ]
  },
  {
   "cell_type": "markdown",
   "id": "69d73920-ca37-4fdd-ad75-73aacdaf6984",
   "metadata": {},
   "source": [
    "# 피처 벡처 "
   ]
  },
  {
   "cell_type": "code",
   "execution_count": 6,
   "id": "b8c01839-f71c-46bd-9983-2cdaaa779bf3",
   "metadata": {},
   "outputs": [],
   "source": [
    "from pyspark.ml.feature import VectorAssembler"
   ]
  },
  {
   "cell_type": "code",
   "execution_count": 7,
   "id": "c18f6cae-853a-4df8-92e1-5e89d6b86280",
   "metadata": {},
   "outputs": [],
   "source": [
    "assembler = VectorAssembler(inputCols=[\"0\",\"1\",\"2\"], outputCol=\"features\")"
   ]
  },
  {
   "cell_type": "code",
   "execution_count": 9,
   "id": "c539f8d1-89e2-489e-a85f-e2f66d173daa",
   "metadata": {},
   "outputs": [
    {
     "name": "stderr",
     "output_type": "stream",
     "text": [
      "                                                                                \r"
     ]
    },
    {
     "name": "stdout",
     "output_type": "stream",
     "text": [
      "+-------+---+---+---+-------------+\n",
      "|user_id|  0|  1|  2|     features|\n",
      "+-------+---+---+---+-------------+\n",
      "|      0|4.0|2.0|0.0|[4.0,2.0,0.0]|\n",
      "|      1|0.0|3.0|1.0|[0.0,3.0,1.0]|\n",
      "|      2|5.0|0.0|4.0|[5.0,0.0,4.0]|\n",
      "+-------+---+---+---+-------------+\n",
      "\n"
     ]
    }
   ],
   "source": [
    "user_features = assembler.transform(user_item_matrix)\n",
    "user_features.show()"
   ]
  },
  {
   "cell_type": "markdown",
   "id": "fa2b4a38-4a7a-470f-a351-a1daa073c869",
   "metadata": {},
   "source": [
    "# 모델 생성 > 학습"
   ]
  },
  {
   "cell_type": "code",
   "execution_count": 12,
   "id": "569ba257-65d9-42e8-a769-9f756f8675d3",
   "metadata": {},
   "outputs": [
    {
     "data": {
      "text/plain": [
       "KMeans_1957d2633047"
      ]
     },
     "execution_count": 12,
     "metadata": {},
     "output_type": "execute_result"
    }
   ],
   "source": [
    "from pyspark.ml.clustering import KMeans\n",
    "\n",
    "#모델 생성\n",
    "kmeans = KMeans(k=2, seed=1, featuresCol=\"features\", predictionCol=\"cluster\")\n",
    "kmeans"
   ]
  },
  {
   "cell_type": "code",
   "execution_count": 13,
   "id": "dcd63862-19fc-4641-8e0d-e8bc0c43557e",
   "metadata": {},
   "outputs": [
    {
     "name": "stderr",
     "output_type": "stream",
     "text": [
      "24/12/13 14:09:26 WARN BLAS: Failed to load implementation from: com.github.fommil.netlib.NativeSystemBLAS\n",
      "24/12/13 14:09:26 WARN BLAS: Failed to load implementation from: com.github.fommil.netlib.NativeRefBLAS\n",
      "                                                                                \r"
     ]
    },
    {
     "data": {
      "text/plain": [
       "KMeansModel: uid=KMeans_1957d2633047, k=2, distanceMeasure=euclidean, numFeatures=3"
      ]
     },
     "execution_count": 13,
     "metadata": {},
     "output_type": "execute_result"
    }
   ],
   "source": [
    "#모델 학습\n",
    "model = kmeans.fit(user_features)\n",
    "model"
   ]
  },
  {
   "cell_type": "code",
   "execution_count": null,
   "id": "36c589f7-99e8-4b0b-b97a-0b595b5fc3d7",
   "metadata": {},
   "outputs": [],
   "source": []
  },
  {
   "cell_type": "code",
   "execution_count": 14,
   "id": "eeb1323f-0372-4d45-bab6-a50e7c0a89b2",
   "metadata": {},
   "outputs": [],
   "source": [
    "#모델을 이용한 예측\n",
    "clusters = model.transform(user_features)"
   ]
  },
  {
   "cell_type": "code",
   "execution_count": 15,
   "id": "04c2d81b-af9f-497e-b73b-38b3acce2d19",
   "metadata": {},
   "outputs": [
    {
     "name": "stderr",
     "output_type": "stream",
     "text": [
      "                                                                                \r"
     ]
    },
    {
     "name": "stdout",
     "output_type": "stream",
     "text": [
      "+-------+---+---+---+-------------+-------+\n",
      "|user_id|  0|  1|  2|     features|cluster|\n",
      "+-------+---+---+---+-------------+-------+\n",
      "|      0|4.0|2.0|0.0|[4.0,2.0,0.0]|      0|\n",
      "|      1|0.0|3.0|1.0|[0.0,3.0,1.0]|      0|\n",
      "|      2|5.0|0.0|4.0|[5.0,0.0,4.0]|      1|\n",
      "+-------+---+---+---+-------------+-------+\n",
      "\n"
     ]
    }
   ],
   "source": [
    "# 유저의 클러스터링 결과\n",
    "clusters.show()"
   ]
  },
  {
   "cell_type": "code",
   "execution_count": null,
   "id": "b2b109ae-c17d-4125-9f6b-1e7ec7333c6c",
   "metadata": {},
   "outputs": [],
   "source": [
    "## 사용자 그룹화 : 유사한 취향의 사용자끼리 그룹으로 묶어주는 것.\n",
    "## 아이템 그룹화 : 아이템 간의 군집화를 통해 사용자에게 추천해 줄 수 있음."
   ]
  },
  {
   "cell_type": "code",
   "execution_count": 16,
   "id": "f09789bc-dff1-4109-92d4-17a9a20cf43f",
   "metadata": {},
   "outputs": [],
   "source": [
    "spark.stop()"
   ]
  },
  {
   "cell_type": "code",
   "execution_count": null,
   "id": "8e4d1057-b564-4853-8215-8371f2c54f25",
   "metadata": {},
   "outputs": [],
   "source": []
  }
 ],
 "metadata": {
  "kernelspec": {
   "display_name": "Python(spark_start)",
   "language": "python",
   "name": "spark_start"
  },
  "language_info": {
   "codemirror_mode": {
    "name": "ipython",
    "version": 3
   },
   "file_extension": ".py",
   "mimetype": "text/x-python",
   "name": "python",
   "nbconvert_exporter": "python",
   "pygments_lexer": "ipython3",
   "version": "3.8.20"
  }
 },
 "nbformat": 4,
 "nbformat_minor": 5
}
