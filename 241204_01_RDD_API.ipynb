{
 "cells": [
  {
   "cell_type": "code",
   "execution_count": 1,
   "id": "bddf1600-231c-465e-a538-8554a6e99045",
   "metadata": {},
   "outputs": [
    {
     "name": "stderr",
     "output_type": "stream",
     "text": [
      "24/12/04 11:31:03 WARN NativeCodeLoader: Unable to load native-hadoop library for your platform... using builtin-java classes where applicable\n",
      "Using Spark's default log4j profile: org/apache/spark/log4j-defaults.properties\n",
      "Setting default log level to \"WARN\".\n",
      "To adjust logging level use sc.setLogLevel(newLevel). For SparkR, use setLogLevel(newLevel).\n",
      "24/12/04 11:31:05 WARN Utils: Service 'SparkUI' could not bind on port 4040. Attempting port 4041.\n"
     ]
    },
    {
     "data": {
      "text/html": [
       "\n",
       "        <div>\n",
       "            <p><b>SparkContext</b></p>\n",
       "\n",
       "            <p><a href=\"http://ip-172-31-5-211.ap-northeast-3.compute.internal:4041\">Spark UI</a></p>\n",
       "\n",
       "            <dl>\n",
       "              <dt>Version</dt>\n",
       "                <dd><code>v3.1.2</code></dd>\n",
       "              <dt>Master</dt>\n",
       "                <dd><code>local</code></dd>\n",
       "              <dt>AppName</dt>\n",
       "                <dd><code>241204_01_RDD_API</code></dd>\n",
       "            </dl>\n",
       "        </div>\n",
       "        "
      ],
      "text/plain": [
       "<SparkContext master=local appName=241204_01_RDD_API>"
      ]
     },
     "execution_count": 1,
     "metadata": {},
     "output_type": "execute_result"
    }
   ],
   "source": [
    "from pyspark import SparkConf, SparkContext\n",
    "# 스파크 환경 설정 객체 생성\n",
    "conf = SparkConf().setMaster(\"local\").setAppName(\"241204_01_RDD_API\")\n",
    "spark = SparkContext(conf=conf).getOrCreate()\n",
    "spark"
   ]
  },
  {
   "cell_type": "code",
   "execution_count": 2,
   "id": "3f824f73-4323-433e-a28f-7b49d5082b28",
   "metadata": {},
   "outputs": [
    {
     "data": {
      "text/plain": [
       "ParallelCollectionRDD[0] at readRDDFromFile at PythonRDD.scala:274"
      ]
     },
     "execution_count": 2,
     "metadata": {},
     "output_type": "execute_result"
    }
   ],
   "source": [
    "foods = spark.parallelize([ \"짜장면\", \"마라탕\", \"짬뽕\", \"떡볶이\", \"쌀국수\", \"짬뽕\", \"짜장면\", \"짜장면\", \"짜장면\", \"라면\", \"우동\", \"라면\" ] )\n",
    "foods"
   ]
  },
  {
   "cell_type": "code",
   "execution_count": 3,
   "id": "c4513fa6-313f-4e8e-a6da-8fe20b8287ae",
   "metadata": {},
   "outputs": [
    {
     "name": "stderr",
     "output_type": "stream",
     "text": [
      "                                                                                \r"
     ]
    },
    {
     "data": {
      "text/plain": [
       "['짜장면', '마라탕', '짬뽕', '떡볶이', '쌀국수', '짬뽕', '짜장면', '짜장면', '짜장면', '라면', '우동', '라면']"
      ]
     },
     "execution_count": 3,
     "metadata": {},
     "output_type": "execute_result"
    }
   ],
   "source": [
    "#모두 메모리에 올립니다.\n",
    "foods.collect() #take() show()"
   ]
  },
  {
   "cell_type": "code",
   "execution_count": 4,
   "id": "d0d8c288-9ee4-4625-afc8-9d24e5f66e71",
   "metadata": {},
   "outputs": [
    {
     "name": "stderr",
     "output_type": "stream",
     "text": [
      "                                                                                \r"
     ]
    },
    {
     "data": {
      "text/plain": [
       "defaultdict(int,\n",
       "            {'짜장면': 4,\n",
       "             '마라탕': 1,\n",
       "             '짬뽕': 2,\n",
       "             '떡볶이': 1,\n",
       "             '쌀국수': 1,\n",
       "             '라면': 2,\n",
       "             '우동': 1})"
      ]
     },
     "execution_count": 4,
     "metadata": {},
     "output_type": "execute_result"
    }
   ],
   "source": [
    "#값을 기준으로 카운트 : 음식별 개수 세기\n",
    "foods.countByValue()"
   ]
  },
  {
   "cell_type": "code",
   "execution_count": 5,
   "id": "7efd9d78-a7bb-4f48-8366-999e32e1f8ae",
   "metadata": {},
   "outputs": [
    {
     "data": {
      "text/plain": [
       "['짜장면', '마라탕', '짬뽕']"
      ]
     },
     "execution_count": 5,
     "metadata": {},
     "output_type": "execute_result"
    }
   ],
   "source": [
    "#상위 3개만 가져와\n",
    "foods.take(3)"
   ]
  },
  {
   "cell_type": "code",
   "execution_count": 6,
   "id": "4c743aeb-bf6d-4d64-ad64-e68556417588",
   "metadata": {},
   "outputs": [
    {
     "data": {
      "text/plain": [
       "'짜장면'"
      ]
     },
     "execution_count": 6,
     "metadata": {},
     "output_type": "execute_result"
    }
   ],
   "source": [
    "#처음 1개 가져오기\n",
    "foods.first()"
   ]
  },
  {
   "cell_type": "code",
   "execution_count": 7,
   "id": "a06d49a0-a2e2-4c1b-9dde-158c69fbc8c4",
   "metadata": {},
   "outputs": [
    {
     "data": {
      "text/plain": [
       "12"
      ]
     },
     "execution_count": 7,
     "metadata": {},
     "output_type": "execute_result"
    }
   ],
   "source": [
    "#RDD 갯수\n",
    "foods.count()"
   ]
  },
  {
   "cell_type": "code",
   "execution_count": 8,
   "id": "2b52493f-9e32-428b-8e18-e43b7a7cd48b",
   "metadata": {},
   "outputs": [
    {
     "data": {
      "text/plain": [
       "PythonRDD[9] at RDD at PythonRDD.scala:53"
      ]
     },
     "execution_count": 8,
     "metadata": {},
     "output_type": "execute_result"
    }
   ],
   "source": [
    "#중복 제거한 목록\n",
    "#Transformation 연산\n",
    "fd_dist = foods.distinct()\n",
    "fd_dist"
   ]
  },
  {
   "cell_type": "code",
   "execution_count": 9,
   "id": "121183bb-1357-4684-b772-1e2dc362084c",
   "metadata": {},
   "outputs": [
    {
     "data": {
      "text/plain": [
       "['짜장면', '마라탕', '짬뽕', '떡볶이', '쌀국수', '라면', '우동']"
      ]
     },
     "execution_count": 9,
     "metadata": {},
     "output_type": "execute_result"
    }
   ],
   "source": [
    "#action 연산 : Result\n",
    "fd_dist.collect()"
   ]
  },
  {
   "cell_type": "code",
   "execution_count": 14,
   "id": "1ca967d8-ffc1-4f7b-82ab-704e334673fe",
   "metadata": {},
   "outputs": [
    {
     "name": "stderr",
     "output_type": "stream",
     "text": [
      "짜장면\n",
      "마라탕\n",
      "짬뽕\n",
      "떡볶이\n",
      "쌀국수\n",
      "짬뽕\n",
      "짜장면\n",
      "짜장면\n",
      "짜장면\n",
      "라면\n",
      "우동\n",
      "라면\n"
     ]
    }
   ],
   "source": [
    "#워커노드에서 실행하는 기능\n",
    "foods.foreach(lambda x : print(x))"
   ]
  },
  {
   "cell_type": "code",
   "execution_count": 15,
   "id": "9c1597de-8409-4d36-9eaf-b5f2880b2179",
   "metadata": {},
   "outputs": [],
   "source": [
    "foods.foreach(lambda x : x)"
   ]
  },
  {
   "cell_type": "markdown",
   "id": "1601c0cd-434b-445d-afa8-c23561dd24b3",
   "metadata": {},
   "source": [
    "# Narrow Operation  1:1 연산 \n",
    "filter(), map(), flatMap(), sample(), union()"
   ]
  },
  {
   "cell_type": "code",
   "execution_count": 17,
   "id": "a89559f7-7fdd-47fa-b0f0-3b5daef2639e",
   "metadata": {},
   "outputs": [],
   "source": [
    "sample_rdd = spark.parallelize([1,2,3,4,5])"
   ]
  },
  {
   "cell_type": "code",
   "execution_count": 18,
   "id": "dfb287b6-6fc0-430f-873e-715b646d82ff",
   "metadata": {},
   "outputs": [],
   "source": [
    "sample_rdd2 = sample_rdd.map(lambda x : x+2) #d+2, 2+2, 3+2...."
   ]
  },
  {
   "cell_type": "code",
   "execution_count": 19,
   "id": "c3cf0a07-bffe-4e92-928e-49049e4351ef",
   "metadata": {},
   "outputs": [
    {
     "data": {
      "text/plain": [
       "[3, 4, 5, 6, 7]"
      ]
     },
     "execution_count": 19,
     "metadata": {},
     "output_type": "execute_result"
    }
   ],
   "source": [
    "sample_rdd2.collect()"
   ]
  },
  {
   "cell_type": "code",
   "execution_count": 21,
   "id": "f41f8053-09d7-463f-ae5c-0251f2ce33f6",
   "metadata": {},
   "outputs": [],
   "source": [
    "movies = [\n",
    "    \"그린 북\",\n",
    "    \"매트릭스\",\n",
    "    \"토이 스토리\",\n",
    "    \"캐스트 어웨이\",\n",
    "    \"포드 V 페라리\",\n",
    "    \"보헤미안 랩소디\",\n",
    "    \"빽 투 더 퓨처\",\n",
    "    \"반지의 제왕\",\n",
    "    \"죽은 시인의 사회\"\n",
    "]"
   ]
  },
  {
   "cell_type": "code",
   "execution_count": 22,
   "id": "a3dcc90d-e1ba-4f7c-adf6-7a4a5e21fcfa",
   "metadata": {},
   "outputs": [],
   "source": [
    "moviesRDD = spark.parallelize(movies)"
   ]
  },
  {
   "cell_type": "code",
   "execution_count": 23,
   "id": "2a0ad59e-7f3f-440c-aaa8-827304165bdd",
   "metadata": {},
   "outputs": [],
   "source": [
    "mapMovies = moviesRDD.map(lambda x: x.split(\" \"))"
   ]
  },
  {
   "cell_type": "code",
   "execution_count": 24,
   "id": "81b10b0e-00c8-4f56-89f1-c84e6734e285",
   "metadata": {
    "scrolled": true
   },
   "outputs": [
    {
     "data": {
      "text/plain": [
       "[['그린', '북'],\n",
       " ['매트릭스'],\n",
       " ['토이', '스토리'],\n",
       " ['캐스트', '어웨이'],\n",
       " ['포드', 'V', '페라리'],\n",
       " ['보헤미안', '랩소디'],\n",
       " ['빽', '투', '더', '퓨처'],\n",
       " ['반지의', '제왕'],\n",
       " ['죽은', '시인의', '사회']]"
      ]
     },
     "execution_count": 24,
     "metadata": {},
     "output_type": "execute_result"
    }
   ],
   "source": [
    "mapMovies.collect()"
   ]
  },
  {
   "cell_type": "code",
   "execution_count": 25,
   "id": "04effbdc-0f63-443d-bd65-74bd661d2832",
   "metadata": {
    "scrolled": true
   },
   "outputs": [
    {
     "data": {
      "text/plain": [
       "['그린',\n",
       " '북',\n",
       " '매트릭스',\n",
       " '토이',\n",
       " '스토리',\n",
       " '캐스트',\n",
       " '어웨이',\n",
       " '포드',\n",
       " 'V',\n",
       " '페라리',\n",
       " '보헤미안',\n",
       " '랩소디',\n",
       " '빽',\n",
       " '투',\n",
       " '더',\n",
       " '퓨처',\n",
       " '반지의',\n",
       " '제왕',\n",
       " '죽은',\n",
       " '시인의',\n",
       " '사회']"
      ]
     },
     "execution_count": 25,
     "metadata": {},
     "output_type": "execute_result"
    }
   ],
   "source": [
    "flatMapMovies = moviesRDD.flatMap(lambda x:x.split(\" \") )\n",
    "flatMapMovies.collect()"
   ]
  },
  {
   "cell_type": "code",
   "execution_count": 29,
   "id": "d0b94647-21e1-4db0-85ea-62a37884aeab",
   "metadata": {
    "scrolled": true
   },
   "outputs": [
    {
     "data": {
      "text/plain": [
       "['그린',\n",
       " '북',\n",
       " '토이',\n",
       " '스토리',\n",
       " '캐스트',\n",
       " '어웨이',\n",
       " '포드',\n",
       " 'V',\n",
       " '페라리',\n",
       " '보헤미안',\n",
       " '랩소디',\n",
       " '빽',\n",
       " '투',\n",
       " '더',\n",
       " '퓨처',\n",
       " '반지의',\n",
       " '제왕',\n",
       " '죽은',\n",
       " '시인의',\n",
       " '사회']"
      ]
     },
     "execution_count": 29,
     "metadata": {},
     "output_type": "execute_result"
    }
   ],
   "source": [
    "filteredMovies = flatMapMovies.filter(lambda x: x!=\"매트릭스\")\n",
    "filteredMovies.collect()"
   ]
  },
  {
   "cell_type": "code",
   "execution_count": 30,
   "id": "a61d393d-d02b-4826-abcc-02f20e54599b",
   "metadata": {},
   "outputs": [],
   "source": [
    "#집합연산\n",
    "num1 = spark.parallelize([1,2,3,4,5])\n",
    "num2 = spark.parallelize([4,5,6,7,8,9,10])"
   ]
  },
  {
   "cell_type": "code",
   "execution_count": 31,
   "id": "5ce0d5e9-0a98-4f44-bc5c-df0fa5fc335e",
   "metadata": {},
   "outputs": [
    {
     "data": {
      "text/plain": [
       "[4, 5]"
      ]
     },
     "execution_count": 31,
     "metadata": {},
     "output_type": "execute_result"
    }
   ],
   "source": [
    "#intersection\n",
    "num1.intersection(num2).collect()"
   ]
  },
  {
   "cell_type": "code",
   "execution_count": null,
   "id": "526ee820-b445-4403-b981-88a225290c89",
   "metadata": {},
   "outputs": [],
   "source": [
    "#union, subtract"
   ]
  },
  {
   "cell_type": "code",
   "execution_count": null,
   "id": "f478dbf1-7d73-42c2-88ab-d17fbf8113d0",
   "metadata": {},
   "outputs": [],
   "source": []
  },
  {
   "cell_type": "markdown",
   "id": "155ca95f-6919-4944-8416-59c701a4bba2",
   "metadata": {},
   "source": [
    "# sample(withReplacement, fraction, seed)\n",
    "\n",
    "일부를 샘플링해서 추출한다.\n",
    "```\n",
    "withReplacement : 비복원, 복원 추출\n",
    "fraction : 기대값\n",
    "seed : 난수추출을 위한 시드값 - 재현 가능\n",
    "```"
   ]
  },
  {
   "cell_type": "code",
   "execution_count": 32,
   "id": "e2e35ebf-6699-4db5-884e-10f9b314d4f8",
   "metadata": {},
   "outputs": [
    {
     "data": {
      "text/plain": [
       "[1, 2, 3, 4, 5, 4, 5, 6, 7, 8, 9, 10]"
      ]
     },
     "execution_count": 32,
     "metadata": {},
     "output_type": "execute_result"
    }
   ],
   "source": [
    "numlist = num1.union(num2)\n",
    "numlist.collect()"
   ]
  },
  {
   "cell_type": "code",
   "execution_count": 33,
   "id": "a0c77050-f332-4f8b-8268-9c4686d596bd",
   "metadata": {},
   "outputs": [
    {
     "data": {
      "text/plain": [
       "[1, 1, 5, 5, 4, 6, 8]"
      ]
     },
     "execution_count": 33,
     "metadata": {},
     "output_type": "execute_result"
    }
   ],
   "source": [
    "numlist.sample(True, 0.5).collect()"
   ]
  },
  {
   "cell_type": "code",
   "execution_count": 43,
   "id": "4527ceb8-188b-474d-af29-a769a13ddab6",
   "metadata": {},
   "outputs": [
    {
     "data": {
      "text/plain": [
       "[4, 4, 5, 6, 6]"
      ]
     },
     "execution_count": 43,
     "metadata": {},
     "output_type": "execute_result"
    }
   ],
   "source": [
    "numlist.sample(True, 0.3).collect()"
   ]
  },
  {
   "cell_type": "code",
   "execution_count": 40,
   "id": "0872ec3e-7fb8-4f28-b54a-3c66b9d42d89",
   "metadata": {},
   "outputs": [
    {
     "data": {
      "text/plain": [
       "[2, 3, 4, 5, 6, 8, 9, 10]"
      ]
     },
     "execution_count": 40,
     "metadata": {},
     "output_type": "execute_result"
    }
   ],
   "source": [
    "numlist.sample(False, 0.7).collect() #재현이 안되는 샘플"
   ]
  },
  {
   "cell_type": "code",
   "execution_count": 42,
   "id": "21e73f36-591b-4315-a147-6fc8830bc204",
   "metadata": {},
   "outputs": [
    {
     "data": {
      "text/plain": [
       "[5, 6, 6]"
      ]
     },
     "execution_count": 42,
     "metadata": {},
     "output_type": "execute_result"
    }
   ],
   "source": [
    "numlist.sample(True, 0.5, seed=42).collect() #재현 가능한 샘플"
   ]
  },
  {
   "cell_type": "markdown",
   "id": "c1874c9b-40e9-4987-8737-689a8783f802",
   "metadata": {},
   "source": [
    "# wide transformation\n",
    "groupby reduce.. "
   ]
  },
  {
   "cell_type": "code",
   "execution_count": 44,
   "id": "b002d447-8099-4710-9b38-53d4dd515de8",
   "metadata": {},
   "outputs": [
    {
     "data": {
      "text/plain": [
       "['짜장면', '마라탕', '짬뽕', '떡볶이', '쌀국수', '짬뽕', '짜장면', '짜장면', '짜장면', '라면', '우동', '라면']"
      ]
     },
     "execution_count": 44,
     "metadata": {},
     "output_type": "execute_result"
    }
   ],
   "source": [
    "foods.collect()"
   ]
  },
  {
   "cell_type": "code",
   "execution_count": 46,
   "id": "6f80904d-2d1e-49aa-910b-25cc6daa9025",
   "metadata": {},
   "outputs": [],
   "source": [
    "foodsGroup = foods.groupBy(lambda x: x[0])\n",
    "res = foodsGroup.collect()"
   ]
  },
  {
   "cell_type": "code",
   "execution_count": 48,
   "id": "8132af61-39fa-4bd9-b80c-a157c2ea1bb3",
   "metadata": {},
   "outputs": [
    {
     "name": "stdout",
     "output_type": "stream",
     "text": [
      "짜 ['짜장면', '짜장면', '짜장면', '짜장면']\n",
      "마 ['마라탕']\n",
      "짬 ['짬뽕', '짬뽕']\n",
      "떡 ['떡볶이']\n",
      "쌀 ['쌀국수']\n",
      "라 ['라면', '라면']\n",
      "우 ['우동']\n"
     ]
    }
   ],
   "source": [
    "for (k,v) in res:\n",
    "    print(k, list(v))"
   ]
  },
  {
   "cell_type": "code",
   "execution_count": 49,
   "id": "a738620f-cd4f-4623-bbf7-6233a8b8f765",
   "metadata": {},
   "outputs": [],
   "source": [
    "spark.stop()"
   ]
  },
  {
   "cell_type": "code",
   "execution_count": null,
   "id": "34d718ad-162d-421d-beab-c5cf51edc262",
   "metadata": {},
   "outputs": [],
   "source": []
  },
  {
   "cell_type": "code",
   "execution_count": null,
   "id": "30b33566-cd92-4b93-8a9d-50858fd1b07f",
   "metadata": {},
   "outputs": [],
   "source": []
  },
  {
   "cell_type": "code",
   "execution_count": 26,
   "id": "41479d1c-a648-40b1-8e6f-7b5fe5f34caf",
   "metadata": {},
   "outputs": [],
   "source": [
    "movies = [\n",
    "\"The Shawshank Redemption\", \"The Godfather\", \"The Dark Knight\", \"12 Angry Men\",\n",
    "\"Schindler's List\", \"The Lord of the Rings: The Return of the King\", \"Pulp Fiction\",\n",
    "\"The Good, the Bad and the Ugly\", \"Fight Club\", \"Forrest Gump\", \"Inception\",\n",
    "\"Star Wars: Episode V - The Empire Strikes Back\", \"The Matrix\", \"Goodfellas\",\n",
    "\"One Flew Over the Cuckoo's Nest\", \"Se7en\", \"It's a Wonderful Life\", \"Seven Samurai\",\n",
    "\"The Silence of the Lambs\", \"City of God\", \"Saving Private Ryan\", \"Interstellar\",\n",
    "\"The Green Mile\", \"Spirited Away\", \"Parasite\", \"Léon: The Professional\",\n",
    "\"The Usual Suspects\", \"Harakiri\", \"The Lion King\", \"Back to the Future\",\n",
    "\"The Pianist\", \"Terminator 2: Judgment Day\", \"American History X\", \"Modern Times\",\n",
    "\"Psycho\", \"Gladiator\", \"City Lights\", \"The Departed\", \"The Intouchables\",\n",
    "\"Whiplash\", \"The Prestige\", \"Casablanca\", \"Once Upon a Time in the West\",\n",
    "\"Rear Window\", \"Cinema Paradiso\", \"Alien\", \"Apocalypse Now\", \"Memento\",\n",
    "\"Indiana Jones and the Raiders of the Lost Ark\", \"The Great Dictator\",\n",
    "\"The Lives of Others\", \"Django Unchained\", \"Paths of Glory\", \"The Shining\",\n",
    "\"WALL·E\", \"Sunset Blvd.\", \"Witness for the Prosecution\", \"Oldboy\", \"Princess Mononoke\",\n",
    "\"Dr. Strangelove\", \"The Dark Knight Rises\", \"Once Upon a Time in America\",\n",
    "\"Aliens\", \"Coco\", \"Avengers: Infinity War\", \"American Beauty\", \"Braveheart\",\n",
    "\"Das Boot\", \"3 Idiots\", \"Toy Story\", \"Amadeus\", \"Inglourious Basterds\",\n",
    "\"Good Will Hunting\", \"Star Wars: Episode IV - A New Hope\", \"Reservoir Dogs\",\n",
    "\"2001: A Space Odyssey\", \"Vertigo\", \"M\", \"Citizen Kane\", \"Requiem for a Dream\",\n",
    "\"The Hunt\", \"Eternal Sunshine of the Spotless Mind\", \"Full Metal Jacket\",\n",
    "\"A Clockwork Orange\", \"Taxi Driver\", \"Lawrence of Arabia\", \"Double Indemnity\",\n",
    "\"Amélie\", \"Like Stars on Earth\", \"Singin' in the Rain\", \"Bicycle Thieves\",\n",
    "\"Snatch\", \"Scarface\", \"3 Idiots\", \"Toy Story 3\", \"The Sting\", \"Metropolis\",\n",
    "\"For a Few Dollars More\", \"L.A. Confidential\", \"Rashomon\", \"Monty Python and the Holy Grail\",\n",
    "\"The Shawshank Redemption\", \"The Godfather\", \"The Dark Knight\", \"12 Angry Men\",\n",
    "\"Schindler's List\", \"The Lord of the Rings: The Return of the King\", \"Pulp Fiction\",\n",
    "\"The Good, the Bad and the Ugly\", \"Fight Club\", \"Forrest Gump\", \"Inception\",\n",
    "\"Star Wars: Episode V - The Empire Strikes Back\", \"The Matrix\", \"Goodfellas\",\n",
    "\"One Flew Over the Cuckoo's Nest\", \"Se7en\", \"It's a Wonderful Life\", \"Seven Samurai\",\n",
    "\"The Silence of the Lambs\", \"City of God\", \"Saving Private Ryan\", \"Interstellar\",\n",
    "\"The Green Mile\", \"Spirited Away\", \"Parasite\", \"Léon: The Professional\",\n",
    "\"The Usual Suspects\", \"Harakiri\", \"The Lion King\", \"Back to the Future\",\n",
    "\"The Pianist\", \"Terminator 2: Judgment Day\", \"American History X\", \"Modern Times\",\n",
    "\"Psycho\", \"Gladiator\", \"City Lights\", \"The Departed\", \"The Intouchables\",\n",
    "\"Whiplash\", \"The Prestige\", \"Casablanca\", \"Once Upon a Time in the West\",\n",
    "\"Rear Window\", \"Cinema Paradiso\", \"Alien\", \"Apocalypse Now\", \"Memento\",\n",
    "\"Indiana Jones and the Raiders of the Lost Ark\", \"The Great Dictator\",\n",
    "\"The Lives of Others\", \"Django Unchained\", \"Paths of Glory\", \"The Shining\",\n",
    "\"WALL·E\", \"Sunset Blvd.\", \"Witness for the Prosecution\", \"Oldboy\", \"Princess Mononoke\",\n",
    "\"Dr. Strangelove\", \"The Dark Knight Rises\", \"Once Upon a Time in America\",\n",
    "\"Aliens\", \"Coco\", \"Avengers: Infinity War\", \"American Beauty\", \"Braveheart\",\n",
    "\"Das Boot\", \"3 Idiots\", \"Toy Story\", \"Amadeus\", \"Inglourious Basterds\",\n",
    "\"Good Will Hunting\", \"Star Wars: Episode IV - A New Hope\", \"Reservoir Dogs\",\n",
    "\"2001: A Space Odyssey\", \"Vertigo\", \"M\", \"Citizen Kane\", \"Requiem for a Dream\",\n",
    "\"The Hunt\", \"Eternal Sunshine of the Spotless Mind\", \"Full Metal Jacket\",\n",
    "\"A Clockwork Orange\", \"Taxi Driver\", \"Lawrence of Arabia\", \"Double Indemnity\",\n",
    "\"Amélie\", \"Like Stars on Earth\", \"Singin' in the Rain\", \"Bicycle Thieves\",\n",
    "\"Snatch\", \"Scarface\", \"3 Idiots\", \"Toy Story 3\", \"The Sting\", \"Metropolis\",\n",
    "\"For a Few Dollars More\", \"L.A. Confidential\", \"Rashomon\", \"Monty Python and the Holy Grail\",\"The Shawshank Redemption\", \"The Godfather\", \"The Dark Knight\", \"12 Angry Men\",\n",
    "\"Schindler's List\", \"The Lord of the Rings: The Return of the King\", \"Pulp Fiction\",\n",
    "\"The Good, the Bad and the Ugly\", \"Fight Club\", \"Forrest Gump\", \"Inception\",\n",
    "\"Star Wars: Episode V - The Empire Strikes Back\", \"The Matrix\", \"Goodfellas\",\n",
    "\"One Flew Over the Cuckoo's Nest\", \"Se7en\", \"It's a Wonderful Life\", \"Seven Samurai\",\n",
    "\"The Silence of the Lambs\", \"City of God\", \"Saving Private Ryan\", \"Interstellar\",\n",
    "\"The Green Mile\", \"Spirited Away\", \"Parasite\", \"Léon: The Professional\",\n",
    "\"The Usual Suspects\", \"Harakiri\", \"The Lion King\", \"Back to the Future\",\n",
    "\"The Pianist\", \"Terminator 2: Judgment Day\", \"American History X\", \"Modern Times\",\n",
    "\"Psycho\", \"Gladiator\", \"City Lights\", \"The Departed\", \"The Intouchables\",\n",
    "\"Whiplash\", \"The Prestige\", \"Casablanca\", \"Once Upon a Time in the West\",\n",
    "\"Rear Window\", \"Cinema Paradiso\", \"Alien\", \"Apocalypse Now\", \"Memento\",\n",
    "\"Indiana Jones and the Raiders of the Lost Ark\", \"The Great Dictator\",\n",
    "\"The Lives of Others\", \"Django Unchained\", \"Paths of Glory\", \"The Shining\",\n",
    "\"WALL·E\", \"Sunset Blvd.\", \"Witness for the Prosecution\", \"Oldboy\", \"Princess Mononoke\",\n",
    "\"Dr. Strangelove\", \"The Dark Knight Rises\", \"Once Upon a Time in America\",\n",
    "\"Aliens\", \"Coco\", \"Avengers: Infinity War\", \"American Beauty\", \"Braveheart\",\n",
    "\"Das Boot\", \"3 Idiots\", \"Toy Story\", \"Amadeus\", \"Inglourious Basterds\",\n",
    "\"Good Will Hunting\", \"Star Wars: Episode IV - A New Hope\", \"Reservoir Dogs\",\n",
    "\"2001: A Space Odyssey\", \"Vertigo\", \"M\", \"Citizen Kane\", \"Requiem for a Dream\",\n",
    "\"The Hunt\", \"Eternal Sunshine of the Spotless Mind\", \"Full Metal Jacket\",\n",
    "\"A Clockwork Orange\", \"Taxi Driver\", \"Lawrence of Arabia\", \"Double Indemnity\",\n",
    "\"Amélie\", \"Like Stars on Earth\", \"Singin' in the Rain\", \"Bicycle Thieves\",\n",
    "\"Snatch\", \"Scarface\", \"3 Idiots\", \"Toy Story 3\", \"The Sting\", \"Metropolis\",\n",
    "\"For a Few Dollars More\", \"L.A. Confidential\", \"Rashomon\", \"Monty Python and the Holy Grail\",\"The Shawshank Redemption\", \"The Godfather\", \"The Dark Knight\", \"12 Angry Men\",\n",
    "\"Schindler's List\", \"The Lord of the Rings: The Return of the King\", \"Pulp Fiction\",\n",
    "\"The Good, the Bad and the Ugly\", \"Fight Club\", \"Forrest Gump\", \"Inception\",\n",
    "\"Star Wars: Episode V - The Empire Strikes Back\", \"The Matrix\", \"Goodfellas\",\n",
    "\"One Flew Over the Cuckoo's Nest\", \"Se7en\", \"It's a Wonderful Life\", \"Seven Samurai\",\n",
    "\"The Silence of the Lambs\", \"City of God\", \"Saving Private Ryan\", \"Interstellar\",\n",
    "\"The Green Mile\", \"Spirited Away\", \"Parasite\", \"Léon: The Professional\",\n",
    "\"The Usual Suspects\", \"Harakiri\", \"The Lion King\", \"Back to the Future\",\n",
    "\"The Pianist\", \"Terminator 2: Judgment Day\", \"American History X\", \"Modern Times\",\n",
    "\"Psycho\", \"Gladiator\", \"City Lights\", \"The Departed\", \"The Intouchables\",\n",
    "\"Whiplash\", \"The Prestige\", \"Casablanca\", \"Once Upon a Time in the West\",\n",
    "\"Rear Window\", \"Cinema Paradiso\", \"Alien\", \"Apocalypse Now\", \"Memento\",\n",
    "\"Indiana Jones and the Raiders of the Lost Ark\", \"The Great Dictator\",\n",
    "\"The Lives of Others\", \"Django Unchained\", \"Paths of Glory\", \"The Shining\",\n",
    "\"WALL·E\", \"Sunset Blvd.\", \"Witness for the Prosecution\", \"Oldboy\", \"Princess Mononoke\",\n",
    "\"Dr. Strangelove\", \"The Dark Knight Rises\", \"Once Upon a Time in America\",\n",
    "\"Aliens\", \"Coco\", \"Avengers: Infinity War\", \"American Beauty\", \"Braveheart\",\n",
    "\"Das Boot\", \"3 Idiots\", \"Toy Story\", \"Amadeus\", \"Inglourious Basterds\",\n",
    "\"Good Will Hunting\", \"Star Wars: Episode IV - A New Hope\", \"Reservoir Dogs\",\n",
    "\"2001: A Space Odyssey\", \"Vertigo\", \"M\", \"Citizen Kane\", \"Requiem for a Dream\",\n",
    "\"The Hunt\", \"Eternal Sunshine of the Spotless Mind\", \"Full Metal Jacket\",\n",
    "\"A Clockwork Orange\", \"Taxi Driver\", \"Lawrence of Arabia\", \"Double Indemnity\",\n",
    "\"Amélie\", \"Like Stars on Earth\", \"Singin' in the Rain\", \"Bicycle Thieves\",\n",
    "\"Snatch\", \"Scarface\", \"3 Idiots\", \"Toy Story 3\", \"The Sting\", \"Metropolis\",\n",
    "\"For a Few Dollars More\", \"L.A. Confidential\", \"Rashomon\", \"Monty Python and the Holy Grail\"    \n",
    "]"
   ]
  },
  {
   "cell_type": "code",
   "execution_count": 27,
   "id": "58258f05-68e6-44ef-ba38-441f8ffb5621",
   "metadata": {},
   "outputs": [
    {
     "data": {
      "text/plain": [
       "ParallelCollectionRDD[18] at readRDDFromFile at PythonRDD.scala:274"
      ]
     },
     "execution_count": 27,
     "metadata": {},
     "output_type": "execute_result"
    }
   ],
   "source": [
    "moviesRDD = spark.parallelize(movies)\n",
    "moviesRDD"
   ]
  },
  {
   "cell_type": "code",
   "execution_count": 28,
   "id": "45ca000a-a04a-4252-a1ba-58505a56a1c5",
   "metadata": {},
   "outputs": [
    {
     "data": {
      "text/plain": [
       "['The Shawshank Redemption',\n",
       " 'The Godfather',\n",
       " 'The Dark Knight',\n",
       " '12 Angry Men',\n",
       " \"Schindler's List\",\n",
       " 'The Lord of the Rings: The Return of the King',\n",
       " 'Pulp Fiction',\n",
       " 'The Good, the Bad and the Ugly',\n",
       " 'Fight Club',\n",
       " 'Forrest Gump',\n",
       " 'Inception',\n",
       " 'Star Wars: Episode V - The Empire Strikes Back',\n",
       " 'The Matrix',\n",
       " 'Goodfellas',\n",
       " \"One Flew Over the Cuckoo's Nest\",\n",
       " 'Se7en',\n",
       " \"It's a Wonderful Life\",\n",
       " 'Seven Samurai',\n",
       " 'The Silence of the Lambs',\n",
       " 'City of God',\n",
       " 'Saving Private Ryan',\n",
       " 'Interstellar',\n",
       " 'The Green Mile',\n",
       " 'Spirited Away',\n",
       " 'Parasite',\n",
       " 'Léon: The Professional',\n",
       " 'The Usual Suspects',\n",
       " 'Harakiri',\n",
       " 'The Lion King',\n",
       " 'Back to the Future',\n",
       " 'The Pianist',\n",
       " 'Terminator 2: Judgment Day',\n",
       " 'American History X',\n",
       " 'Modern Times',\n",
       " 'Psycho',\n",
       " 'Gladiator',\n",
       " 'City Lights',\n",
       " 'The Departed',\n",
       " 'The Intouchables',\n",
       " 'Whiplash',\n",
       " 'The Prestige',\n",
       " 'Casablanca',\n",
       " 'Once Upon a Time in the West',\n",
       " 'Rear Window',\n",
       " 'Cinema Paradiso',\n",
       " 'Alien',\n",
       " 'Apocalypse Now',\n",
       " 'Memento',\n",
       " 'Indiana Jones and the Raiders of the Lost Ark',\n",
       " 'The Great Dictator',\n",
       " 'The Lives of Others',\n",
       " 'Django Unchained',\n",
       " 'Paths of Glory',\n",
       " 'The Shining',\n",
       " 'WALL·E',\n",
       " 'Sunset Blvd.',\n",
       " 'Witness for the Prosecution',\n",
       " 'Oldboy',\n",
       " 'Princess Mononoke',\n",
       " 'Dr. Strangelove',\n",
       " 'The Dark Knight Rises',\n",
       " 'Once Upon a Time in America',\n",
       " 'Aliens',\n",
       " 'Coco',\n",
       " 'Avengers: Infinity War',\n",
       " 'American Beauty',\n",
       " 'Braveheart',\n",
       " 'Das Boot',\n",
       " '3 Idiots',\n",
       " 'Toy Story',\n",
       " 'Amadeus',\n",
       " 'Inglourious Basterds',\n",
       " 'Good Will Hunting',\n",
       " 'Star Wars: Episode IV - A New Hope',\n",
       " 'Reservoir Dogs',\n",
       " '2001: A Space Odyssey',\n",
       " 'Vertigo',\n",
       " 'M',\n",
       " 'Citizen Kane',\n",
       " 'Requiem for a Dream',\n",
       " 'The Hunt',\n",
       " 'Eternal Sunshine of the Spotless Mind',\n",
       " 'Full Metal Jacket',\n",
       " 'A Clockwork Orange',\n",
       " 'Taxi Driver',\n",
       " 'Lawrence of Arabia',\n",
       " 'Double Indemnity',\n",
       " 'Amélie',\n",
       " 'Like Stars on Earth',\n",
       " \"Singin' in the Rain\",\n",
       " 'Bicycle Thieves',\n",
       " 'Snatch',\n",
       " 'Scarface',\n",
       " '3 Idiots',\n",
       " 'Toy Story 3',\n",
       " 'The Sting',\n",
       " 'Metropolis',\n",
       " 'For a Few Dollars More',\n",
       " 'L.A. Confidential',\n",
       " 'Rashomon',\n",
       " 'Monty Python and the Holy Grail',\n",
       " 'The Shawshank Redemption',\n",
       " 'The Godfather',\n",
       " 'The Dark Knight',\n",
       " '12 Angry Men',\n",
       " \"Schindler's List\",\n",
       " 'The Lord of the Rings: The Return of the King',\n",
       " 'Pulp Fiction',\n",
       " 'The Good, the Bad and the Ugly',\n",
       " 'Fight Club',\n",
       " 'Forrest Gump',\n",
       " 'Inception',\n",
       " 'Star Wars: Episode V - The Empire Strikes Back',\n",
       " 'The Matrix',\n",
       " 'Goodfellas',\n",
       " \"One Flew Over the Cuckoo's Nest\",\n",
       " 'Se7en',\n",
       " \"It's a Wonderful Life\",\n",
       " 'Seven Samurai',\n",
       " 'The Silence of the Lambs',\n",
       " 'City of God',\n",
       " 'Saving Private Ryan',\n",
       " 'Interstellar',\n",
       " 'The Green Mile',\n",
       " 'Spirited Away',\n",
       " 'Parasite',\n",
       " 'Léon: The Professional',\n",
       " 'The Usual Suspects',\n",
       " 'Harakiri',\n",
       " 'The Lion King',\n",
       " 'Back to the Future',\n",
       " 'The Pianist',\n",
       " 'Terminator 2: Judgment Day',\n",
       " 'American History X',\n",
       " 'Modern Times',\n",
       " 'Psycho',\n",
       " 'Gladiator',\n",
       " 'City Lights',\n",
       " 'The Departed',\n",
       " 'The Intouchables',\n",
       " 'Whiplash',\n",
       " 'The Prestige',\n",
       " 'Casablanca',\n",
       " 'Once Upon a Time in the West',\n",
       " 'Rear Window',\n",
       " 'Cinema Paradiso',\n",
       " 'Alien',\n",
       " 'Apocalypse Now',\n",
       " 'Memento',\n",
       " 'Indiana Jones and the Raiders of the Lost Ark',\n",
       " 'The Great Dictator',\n",
       " 'The Lives of Others',\n",
       " 'Django Unchained',\n",
       " 'Paths of Glory',\n",
       " 'The Shining',\n",
       " 'WALL·E',\n",
       " 'Sunset Blvd.',\n",
       " 'Witness for the Prosecution',\n",
       " 'Oldboy',\n",
       " 'Princess Mononoke',\n",
       " 'Dr. Strangelove',\n",
       " 'The Dark Knight Rises',\n",
       " 'Once Upon a Time in America',\n",
       " 'Aliens',\n",
       " 'Coco',\n",
       " 'Avengers: Infinity War',\n",
       " 'American Beauty',\n",
       " 'Braveheart',\n",
       " 'Das Boot',\n",
       " '3 Idiots',\n",
       " 'Toy Story',\n",
       " 'Amadeus',\n",
       " 'Inglourious Basterds',\n",
       " 'Good Will Hunting',\n",
       " 'Star Wars: Episode IV - A New Hope',\n",
       " 'Reservoir Dogs',\n",
       " '2001: A Space Odyssey',\n",
       " 'Vertigo',\n",
       " 'M',\n",
       " 'Citizen Kane',\n",
       " 'Requiem for a Dream',\n",
       " 'The Hunt',\n",
       " 'Eternal Sunshine of the Spotless Mind',\n",
       " 'Full Metal Jacket',\n",
       " 'A Clockwork Orange',\n",
       " 'Taxi Driver',\n",
       " 'Lawrence of Arabia',\n",
       " 'Double Indemnity',\n",
       " 'Amélie',\n",
       " 'Like Stars on Earth',\n",
       " \"Singin' in the Rain\",\n",
       " 'Bicycle Thieves',\n",
       " 'Snatch',\n",
       " 'Scarface',\n",
       " '3 Idiots',\n",
       " 'Toy Story 3',\n",
       " 'The Sting',\n",
       " 'Metropolis',\n",
       " 'For a Few Dollars More',\n",
       " 'L.A. Confidential',\n",
       " 'Rashomon',\n",
       " 'Monty Python and the Holy Grail',\n",
       " 'The Shawshank Redemption',\n",
       " 'The Godfather',\n",
       " 'The Dark Knight',\n",
       " '12 Angry Men',\n",
       " \"Schindler's List\",\n",
       " 'The Lord of the Rings: The Return of the King',\n",
       " 'Pulp Fiction',\n",
       " 'The Good, the Bad and the Ugly',\n",
       " 'Fight Club',\n",
       " 'Forrest Gump',\n",
       " 'Inception',\n",
       " 'Star Wars: Episode V - The Empire Strikes Back',\n",
       " 'The Matrix',\n",
       " 'Goodfellas',\n",
       " \"One Flew Over the Cuckoo's Nest\",\n",
       " 'Se7en',\n",
       " \"It's a Wonderful Life\",\n",
       " 'Seven Samurai',\n",
       " 'The Silence of the Lambs',\n",
       " 'City of God',\n",
       " 'Saving Private Ryan',\n",
       " 'Interstellar',\n",
       " 'The Green Mile',\n",
       " 'Spirited Away',\n",
       " 'Parasite',\n",
       " 'Léon: The Professional',\n",
       " 'The Usual Suspects',\n",
       " 'Harakiri',\n",
       " 'The Lion King',\n",
       " 'Back to the Future',\n",
       " 'The Pianist',\n",
       " 'Terminator 2: Judgment Day',\n",
       " 'American History X',\n",
       " 'Modern Times',\n",
       " 'Psycho',\n",
       " 'Gladiator',\n",
       " 'City Lights',\n",
       " 'The Departed',\n",
       " 'The Intouchables',\n",
       " 'Whiplash',\n",
       " 'The Prestige',\n",
       " 'Casablanca',\n",
       " 'Once Upon a Time in the West',\n",
       " 'Rear Window',\n",
       " 'Cinema Paradiso',\n",
       " 'Alien',\n",
       " 'Apocalypse Now',\n",
       " 'Memento',\n",
       " 'Indiana Jones and the Raiders of the Lost Ark',\n",
       " 'The Great Dictator',\n",
       " 'The Lives of Others',\n",
       " 'Django Unchained',\n",
       " 'Paths of Glory',\n",
       " 'The Shining',\n",
       " 'WALL·E',\n",
       " 'Sunset Blvd.',\n",
       " 'Witness for the Prosecution',\n",
       " 'Oldboy',\n",
       " 'Princess Mononoke',\n",
       " 'Dr. Strangelove',\n",
       " 'The Dark Knight Rises',\n",
       " 'Once Upon a Time in America',\n",
       " 'Aliens',\n",
       " 'Coco',\n",
       " 'Avengers: Infinity War',\n",
       " 'American Beauty',\n",
       " 'Braveheart',\n",
       " 'Das Boot',\n",
       " '3 Idiots',\n",
       " 'Toy Story',\n",
       " 'Amadeus',\n",
       " 'Inglourious Basterds',\n",
       " 'Good Will Hunting',\n",
       " 'Star Wars: Episode IV - A New Hope',\n",
       " 'Reservoir Dogs',\n",
       " '2001: A Space Odyssey',\n",
       " 'Vertigo',\n",
       " 'M',\n",
       " 'Citizen Kane',\n",
       " 'Requiem for a Dream',\n",
       " 'The Hunt',\n",
       " 'Eternal Sunshine of the Spotless Mind',\n",
       " 'Full Metal Jacket',\n",
       " 'A Clockwork Orange',\n",
       " 'Taxi Driver',\n",
       " 'Lawrence of Arabia',\n",
       " 'Double Indemnity',\n",
       " 'Amélie',\n",
       " 'Like Stars on Earth',\n",
       " \"Singin' in the Rain\",\n",
       " 'Bicycle Thieves',\n",
       " 'Snatch',\n",
       " 'Scarface',\n",
       " '3 Idiots',\n",
       " 'Toy Story 3',\n",
       " 'The Sting',\n",
       " 'Metropolis',\n",
       " 'For a Few Dollars More',\n",
       " 'L.A. Confidential',\n",
       " 'Rashomon',\n",
       " 'Monty Python and the Holy Grail',\n",
       " 'The Shawshank Redemption',\n",
       " 'The Godfather',\n",
       " 'The Dark Knight',\n",
       " '12 Angry Men',\n",
       " \"Schindler's List\",\n",
       " 'The Lord of the Rings: The Return of the King',\n",
       " 'Pulp Fiction',\n",
       " 'The Good, the Bad and the Ugly',\n",
       " 'Fight Club',\n",
       " 'Forrest Gump',\n",
       " 'Inception',\n",
       " 'Star Wars: Episode V - The Empire Strikes Back',\n",
       " 'The Matrix',\n",
       " 'Goodfellas',\n",
       " \"One Flew Over the Cuckoo's Nest\",\n",
       " 'Se7en',\n",
       " \"It's a Wonderful Life\",\n",
       " 'Seven Samurai',\n",
       " 'The Silence of the Lambs',\n",
       " 'City of God',\n",
       " 'Saving Private Ryan',\n",
       " 'Interstellar',\n",
       " 'The Green Mile',\n",
       " 'Spirited Away',\n",
       " 'Parasite',\n",
       " 'Léon: The Professional',\n",
       " 'The Usual Suspects',\n",
       " 'Harakiri',\n",
       " 'The Lion King',\n",
       " 'Back to the Future',\n",
       " 'The Pianist',\n",
       " 'Terminator 2: Judgment Day',\n",
       " 'American History X',\n",
       " 'Modern Times',\n",
       " 'Psycho',\n",
       " 'Gladiator',\n",
       " 'City Lights',\n",
       " 'The Departed',\n",
       " 'The Intouchables',\n",
       " 'Whiplash',\n",
       " 'The Prestige',\n",
       " 'Casablanca',\n",
       " 'Once Upon a Time in the West',\n",
       " 'Rear Window',\n",
       " 'Cinema Paradiso',\n",
       " 'Alien',\n",
       " 'Apocalypse Now',\n",
       " 'Memento',\n",
       " 'Indiana Jones and the Raiders of the Lost Ark',\n",
       " 'The Great Dictator',\n",
       " 'The Lives of Others',\n",
       " 'Django Unchained',\n",
       " 'Paths of Glory',\n",
       " 'The Shining',\n",
       " 'WALL·E',\n",
       " 'Sunset Blvd.',\n",
       " 'Witness for the Prosecution',\n",
       " 'Oldboy',\n",
       " 'Princess Mononoke',\n",
       " 'Dr. Strangelove',\n",
       " 'The Dark Knight Rises',\n",
       " 'Once Upon a Time in America',\n",
       " 'Aliens',\n",
       " 'Coco',\n",
       " 'Avengers: Infinity War',\n",
       " 'American Beauty',\n",
       " 'Braveheart',\n",
       " 'Das Boot',\n",
       " '3 Idiots',\n",
       " 'Toy Story',\n",
       " 'Amadeus',\n",
       " 'Inglourious Basterds',\n",
       " 'Good Will Hunting',\n",
       " 'Star Wars: Episode IV - A New Hope',\n",
       " 'Reservoir Dogs',\n",
       " '2001: A Space Odyssey',\n",
       " 'Vertigo',\n",
       " 'M',\n",
       " 'Citizen Kane',\n",
       " 'Requiem for a Dream',\n",
       " 'The Hunt',\n",
       " 'Eternal Sunshine of the Spotless Mind',\n",
       " 'Full Metal Jacket',\n",
       " 'A Clockwork Orange',\n",
       " 'Taxi Driver',\n",
       " 'Lawrence of Arabia',\n",
       " 'Double Indemnity',\n",
       " 'Amélie',\n",
       " 'Like Stars on Earth',\n",
       " \"Singin' in the Rain\",\n",
       " 'Bicycle Thieves',\n",
       " 'Snatch',\n",
       " 'Scarface',\n",
       " '3 Idiots',\n",
       " 'Toy Story 3',\n",
       " 'The Sting',\n",
       " 'Metropolis',\n",
       " 'For a Few Dollars More',\n",
       " 'L.A. Confidential',\n",
       " 'Rashomon',\n",
       " 'Monty Python and the Holy Grail']"
      ]
     },
     "execution_count": 28,
     "metadata": {},
     "output_type": "execute_result"
    }
   ],
   "source": [
    "moviesRDD.collect()"
   ]
  },
  {
   "cell_type": "code",
   "execution_count": 50,
   "id": "681f8227-4af2-4d4b-ac92-9ad3936c6392",
   "metadata": {},
   "outputs": [],
   "source": [
    "spark.stop()"
   ]
  }
 ],
 "metadata": {
  "kernelspec": {
   "display_name": "Python(spark_start)",
   "language": "python",
   "name": "spark_start"
  },
  "language_info": {
   "codemirror_mode": {
    "name": "ipython",
    "version": 3
   },
   "file_extension": ".py",
   "mimetype": "text/x-python",
   "name": "python",
   "nbconvert_exporter": "python",
   "pygments_lexer": "ipython3",
   "version": "3.8.20"
  }
 },
 "nbformat": 4,
 "nbformat_minor": 5
}
