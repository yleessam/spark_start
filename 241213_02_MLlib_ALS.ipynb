{
 "cells": [
  {
   "cell_type": "markdown",
   "id": "62fe475c-97a5-438e-b98f-1332c1197205",
   "metadata": {},
   "source": [
    "잠재요인기반 추천시스템 ALS 모델 만들기"
   ]
  },
  {
   "cell_type": "code",
   "execution_count": 4,
   "id": "82766ef0-3a3d-43b9-81f1-85f94ed95c51",
   "metadata": {},
   "outputs": [],
   "source": [
    "from pyspark.sql import SparkSession\n",
    "\n",
    "MAX_MEMORY = '5g'\n",
    "spark = SparkSession.builder.appName(\"241212_01_MLlib_als\")\\\n",
    "            .config(\"spark.executor.memory\", MAX_MEMORY) \\\n",
    "            .config(\"spark.driver.memory\", MAX_MEMORY) \\\n",
    "            .getOrCreate()"
   ]
  },
  {
   "cell_type": "code",
   "execution_count": 3,
   "id": "13b97e84-ef3c-4be4-ab8e-7165c5fb7922",
   "metadata": {},
   "outputs": [],
   "source": [
    "spark.stop()"
   ]
  },
  {
   "cell_type": "markdown",
   "id": "9e89d3a5-c3b0-421a-99de-53ea2b12aebc",
   "metadata": {},
   "source": [
    "# data 적재"
   ]
  },
  {
   "cell_type": "code",
   "execution_count": 5,
   "id": "dc08317b-4dfe-4308-bc87-60ca4f75521f",
   "metadata": {},
   "outputs": [
    {
     "name": "stderr",
     "output_type": "stream",
     "text": [
      "                                                                                \r"
     ]
    }
   ],
   "source": [
    "rating_df = spark.read.format(\"csv\")\\\n",
    "    .option(\"header\", 'true')\\\n",
    "    .option('inferSchema', 'true')\\\n",
    "    .load('data/ratings.csv')"
   ]
  },
  {
   "cell_type": "code",
   "execution_count": 6,
   "id": "89f7e85d-7da4-4e34-861a-9f8d6bdedc8d",
   "metadata": {},
   "outputs": [
    {
     "name": "stdout",
     "output_type": "stream",
     "text": [
      "root\n",
      " |-- userId: integer (nullable = true)\n",
      " |-- movieId: integer (nullable = true)\n",
      " |-- rating: double (nullable = true)\n",
      " |-- timestamp: integer (nullable = true)\n",
      "\n"
     ]
    }
   ],
   "source": [
    "rating_df.printSchema()"
   ]
  },
  {
   "cell_type": "code",
   "execution_count": 7,
   "id": "7185d98b-55b2-40aa-b11d-7d726d59c88f",
   "metadata": {},
   "outputs": [
    {
     "name": "stdout",
     "output_type": "stream",
     "text": [
      "+------+-------+------+----------+\n",
      "|userId|movieId|rating| timestamp|\n",
      "+------+-------+------+----------+\n",
      "|     1|    296|   5.0|1147880044|\n",
      "|     1|    306|   3.5|1147868817|\n",
      "|     1|    307|   5.0|1147868828|\n",
      "|     1|    665|   5.0|1147878820|\n",
      "|     1|    899|   3.5|1147868510|\n",
      "|     1|   1088|   4.0|1147868495|\n",
      "|     1|   1175|   3.5|1147868826|\n",
      "|     1|   1217|   3.5|1147878326|\n",
      "|     1|   1237|   5.0|1147868839|\n",
      "|     1|   1250|   4.0|1147868414|\n",
      "|     1|   1260|   3.5|1147877857|\n",
      "|     1|   1653|   4.0|1147868097|\n",
      "|     1|   2011|   2.5|1147868079|\n",
      "|     1|   2012|   2.5|1147868068|\n",
      "|     1|   2068|   2.5|1147869044|\n",
      "|     1|   2161|   3.5|1147868609|\n",
      "|     1|   2351|   4.5|1147877957|\n",
      "|     1|   2573|   4.0|1147878923|\n",
      "|     1|   2632|   5.0|1147878248|\n",
      "|     1|   2692|   5.0|1147869100|\n",
      "+------+-------+------+----------+\n",
      "only showing top 20 rows\n",
      "\n"
     ]
    }
   ],
   "source": [
    "rating_df.show()"
   ]
  },
  {
   "cell_type": "markdown",
   "id": "e412af69-9661-4608-a97e-16e540acfe4a",
   "metadata": {},
   "source": [
    "# 전처리 \n",
    "\n",
    "- timestamp 제거"
   ]
  },
  {
   "cell_type": "code",
   "execution_count": 8,
   "id": "99f46a6e-8cf5-438b-b969-f0b16bbc9d2a",
   "metadata": {},
   "outputs": [],
   "source": [
    "rating_df = rating_df.select(['userId', 'movieId', 'rating'])"
   ]
  },
  {
   "cell_type": "code",
   "execution_count": 13,
   "id": "87d71674-70b1-4151-9e34-4465c0b2f3f3",
   "metadata": {},
   "outputs": [
    {
     "name": "stdout",
     "output_type": "stream",
     "text": [
      "+------+-------+------+\n",
      "|userId|movieId|rating|\n",
      "+------+-------+------+\n",
      "|     1|    296|   5.0|\n",
      "|     1|    306|   3.5|\n",
      "|     1|    307|   5.0|\n",
      "|     1|    665|   5.0|\n",
      "|     1|    899|   3.5|\n",
      "+------+-------+------+\n",
      "only showing top 5 rows\n",
      "\n"
     ]
    }
   ],
   "source": [
    "rating_df.show(5)"
   ]
  },
  {
   "cell_type": "markdown",
   "id": "85759d28-94e9-4288-b1b3-90c274ce0c1f",
   "metadata": {},
   "source": [
    "# 데이터 세트 분할"
   ]
  },
  {
   "cell_type": "code",
   "execution_count": 9,
   "id": "4f2da97b-4f85-4560-bd57-8d1c1a9b7b59",
   "metadata": {},
   "outputs": [],
   "source": [
    "train_ratio = 0.8\n",
    "test_ratio = 0.2\n",
    "\n",
    "train_df, test_df = rating_df.randomSplit([train_ratio, test_ratio], seed=42)"
   ]
  },
  {
   "cell_type": "code",
   "execution_count": null,
   "id": "b79c5353-b6ee-4b61-b3f9-ee141a5e1bbb",
   "metadata": {},
   "outputs": [],
   "source": []
  },
  {
   "cell_type": "markdown",
   "id": "804841f8-94e6-4b8b-8ec3-2d2b69423e0c",
   "metadata": {},
   "source": [
    "# ALS 모델 객체 생성"
   ]
  },
  {
   "cell_type": "code",
   "execution_count": 22,
   "id": "cd208edc-9e19-49cb-afb6-04e00089f51a",
   "metadata": {},
   "outputs": [],
   "source": [
    "from pyspark.ml.recommendation import ALS\n",
    "\n",
    "als = ALS(\n",
    "    maxIter=5,\n",
    "    regParam=0.1,\n",
    "    userCol=\"userId\",\n",
    "    itemCol=\"movieId\",\n",
    "    ratingCol=\"rating\",\n",
    "    coldStartStrategy=\"drop\"\n",
    ")"
   ]
  },
  {
   "cell_type": "markdown",
   "id": "b8ebbe58-0296-44a1-8397-a5a63200941c",
   "metadata": {},
   "source": [
    "# 모델의 학습"
   ]
  },
  {
   "cell_type": "code",
   "execution_count": 23,
   "id": "c0312f40-d776-4f7c-849f-25a52a3fee32",
   "metadata": {},
   "outputs": [
    {
     "name": "stderr",
     "output_type": "stream",
     "text": [
      "                                                                                \r"
     ]
    }
   ],
   "source": [
    "als_model = als.fit(train_df)"
   ]
  },
  {
   "cell_type": "code",
   "execution_count": null,
   "id": "f0c6e620-a158-4346-8dfc-90d277567b36",
   "metadata": {},
   "outputs": [],
   "source": []
  },
  {
   "cell_type": "markdown",
   "id": "0555f4f0-619c-46b6-af8c-cb6ecd2cc7c3",
   "metadata": {},
   "source": [
    "# 예측 확인"
   ]
  },
  {
   "cell_type": "code",
   "execution_count": 25,
   "id": "90e05e01-3918-4a29-bc30-bfd29b301a04",
   "metadata": {},
   "outputs": [
    {
     "name": "stderr",
     "output_type": "stream",
     "text": [
      "[Stage 161:==================================================>  (192 + 2) / 200]\r"
     ]
    },
    {
     "name": "stdout",
     "output_type": "stream",
     "text": [
      "+------+-------+------+----------+\n",
      "|userId|movieId|rating|prediction|\n",
      "+------+-------+------+----------+\n",
      "| 26480|    148|   2.0| 1.9371556|\n",
      "|151614|    148|   1.0| 2.7611623|\n",
      "| 28229|    148|   1.0| 2.4541242|\n",
      "|  6491|    148|   4.0| 2.4168284|\n",
      "| 14831|    148|   3.0| 2.7606502|\n",
      "+------+-------+------+----------+\n",
      "only showing top 5 rows\n",
      "\n"
     ]
    },
    {
     "name": "stderr",
     "output_type": "stream",
     "text": [
      "                                                                                \r"
     ]
    }
   ],
   "source": [
    "#userid, movieid > rating \n",
    "predictions = als_model.transform(test_df)\n",
    "predictions.show(5)"
   ]
  },
  {
   "cell_type": "code",
   "execution_count": 27,
   "id": "1a0debbd-0f4f-4c82-bc61-e44e00b6b00d",
   "metadata": {},
   "outputs": [
    {
     "name": "stderr",
     "output_type": "stream",
     "text": [
      "[Stage 181:===================================================> (195 + 2) / 200]\r"
     ]
    },
    {
     "name": "stdout",
     "output_type": "stream",
     "text": [
      "+-------+------------------+------------------+\n",
      "|summary|            rating|        prediction|\n",
      "+-------+------------------+------------------+\n",
      "|  count|           4998109|           4998109|\n",
      "|   mean|3.5341648211353536|3.3860397680020453|\n",
      "| stddev|1.0609230261741123|0.6349173760838954|\n",
      "|    min|               0.5|         -3.052301|\n",
      "|    max|               5.0|          6.618273|\n",
      "+-------+------------------+------------------+\n",
      "\n"
     ]
    },
    {
     "name": "stderr",
     "output_type": "stream",
     "text": [
      "                                                                                \r"
     ]
    }
   ],
   "source": [
    "predictions.select(\"rating\", \"prediction\").describe().show()"
   ]
  },
  {
   "cell_type": "markdown",
   "id": "3cda8854-d809-419e-a1d1-9ed5044f9076",
   "metadata": {},
   "source": [
    "# ALS 모델의 하이퍼파라미터 조정\n",
    "\n",
    "coldStartStrategy = 'drop' > 예측에 충분한지 않은 컬럼의 데이터의 경우 'drop'\n",
    "\n",
    "학습한 모델의 속성을 변경 > 다시 예측을 한 경우에도 조정이 안됨 > 학습부터 다시 실행"
   ]
  },
  {
   "cell_type": "code",
   "execution_count": 19,
   "id": "b45e8a5e-ba99-4952-ad3d-562214faf186",
   "metadata": {},
   "outputs": [
    {
     "data": {
      "text/plain": [
       "ALS_6c14407100dc"
      ]
     },
     "execution_count": 19,
     "metadata": {},
     "output_type": "execute_result"
    }
   ],
   "source": [
    "als.setColdStartStrategy('drop')"
   ]
  },
  {
   "cell_type": "code",
   "execution_count": 20,
   "id": "fa83df62-2f55-45e3-8314-56cc03341bad",
   "metadata": {},
   "outputs": [
    {
     "name": "stderr",
     "output_type": "stream",
     "text": [
      "[Stage 91:=====================================================>(199 + 1) / 200]\r"
     ]
    },
    {
     "name": "stdout",
     "output_type": "stream",
     "text": [
      "+------+-------+------+----------+\n",
      "|userId|movieId|rating|prediction|\n",
      "+------+-------+------+----------+\n",
      "| 26480|    148|   2.0| 1.9371556|\n",
      "|151614|    148|   1.0| 2.7611623|\n",
      "| 28229|    148|   1.0| 2.4541242|\n",
      "|  6491|    148|   4.0| 2.4168284|\n",
      "| 14831|    148|   3.0| 2.7606502|\n",
      "+------+-------+------+----------+\n",
      "only showing top 5 rows\n",
      "\n"
     ]
    },
    {
     "name": "stderr",
     "output_type": "stream",
     "text": [
      "                                                                                \r"
     ]
    }
   ],
   "source": [
    "#userid, movieid > rating \n",
    "predictions = als_model.transform(test_df)\n",
    "predictions.show(5)"
   ]
  },
  {
   "cell_type": "code",
   "execution_count": 21,
   "id": "73600ebe-c57d-4497-b84a-fc9507fc2cb1",
   "metadata": {},
   "outputs": [
    {
     "name": "stderr",
     "output_type": "stream",
     "text": [
      "[Stage 110:====================================================>(198 + 2) / 200]\r"
     ]
    },
    {
     "name": "stdout",
     "output_type": "stream",
     "text": [
      "+-------+------------------+----------+\n",
      "|summary|            rating|prediction|\n",
      "+-------+------------------+----------+\n",
      "|  count|           5000974|   5000974|\n",
      "|   mean|3.5338406078495908|       NaN|\n",
      "| stddev|1.0610380809122413|       NaN|\n",
      "|    min|               0.5| -3.052301|\n",
      "|    max|               5.0|       NaN|\n",
      "+-------+------------------+----------+\n",
      "\n"
     ]
    },
    {
     "name": "stderr",
     "output_type": "stream",
     "text": [
      "                                                                                \r"
     ]
    }
   ],
   "source": [
    "predictions.select(\"rating\", \"prediction\").describe().show()"
   ]
  },
  {
   "cell_type": "markdown",
   "id": "5475dc86-2fa6-4488-adc4-a73f367fbe7c",
   "metadata": {},
   "source": [
    "# 평가\n",
    "\n",
    "RMSE 측정"
   ]
  },
  {
   "cell_type": "code",
   "execution_count": 26,
   "id": "8c6a2e96-1239-4eab-961b-9a3c8f4ee34d",
   "metadata": {},
   "outputs": [],
   "source": [
    "from pyspark.ml.evaluation import RegressionEvaluator\n",
    "\n",
    "evaluator = RegressionEvaluator(metricName='rmse', labelCol='rating', predictionCol='prediction')"
   ]
  },
  {
   "cell_type": "code",
   "execution_count": 28,
   "id": "9a43df96-f473-429a-aae0-4427c2542ce3",
   "metadata": {},
   "outputs": [
    {
     "name": "stderr",
     "output_type": "stream",
     "text": [
      "                                                                                \r"
     ]
    },
    {
     "data": {
      "text/plain": [
       "0.8171137812944954"
      ]
     },
     "execution_count": 28,
     "metadata": {},
     "output_type": "execute_result"
    }
   ],
   "source": [
    "rmse = evaluator.evaluate(predictions)\n",
    "rmse"
   ]
  },
  {
   "cell_type": "code",
   "execution_count": null,
   "id": "3e3c8511-5422-4ec1-adc8-44980d364aaa",
   "metadata": {},
   "outputs": [],
   "source": []
  },
  {
   "cell_type": "code",
   "execution_count": null,
   "id": "6dbec376-9174-4cfb-beef-129b829137ce",
   "metadata": {},
   "outputs": [],
   "source": [
    "# 활용\n",
    "\n",
    "1. 사용자id > 추천목록\n",
    "2. 영화id > 사용자목록"
   ]
  },
  {
   "cell_type": "code",
   "execution_count": null,
   "id": "c320e38e-7475-42b1-a6ae-5b0dab69a3fc",
   "metadata": {},
   "outputs": [],
   "source": [
    "als_model.getRecommentForAllUsers(3)  #user별로 추천할 영화 3개를 골라준다."
   ]
  },
  {
   "cell_type": "code",
   "execution_count": null,
   "id": "7a89a4a2-23dc-43d6-a9bf-30d0294a25b6",
   "metadata": {},
   "outputs": [],
   "source": [
    "als_model.recommandForAllItems(3) #item별로 추천할 유저 3명을 골라준다"
   ]
  },
  {
   "cell_type": "code",
   "execution_count": 31,
   "id": "c8bd3722-2659-4319-bb71-fb6d71ad7a9b",
   "metadata": {},
   "outputs": [],
   "source": [
    "from pyspark.sql.types import IntegerType"
   ]
  },
  {
   "cell_type": "code",
   "execution_count": 34,
   "id": "642bfb37-1832-4664-8f1a-c5a63091d011",
   "metadata": {},
   "outputs": [
    {
     "name": "stdout",
     "output_type": "stream",
     "text": [
      "+------+\n",
      "|userId|\n",
      "+------+\n",
      "|    65|\n",
      "|    78|\n",
      "|    81|\n",
      "+------+\n",
      "\n"
     ]
    },
    {
     "name": "stderr",
     "output_type": "stream",
     "text": [
      "                                                                                \r"
     ]
    }
   ],
   "source": [
    "user_list = [65, 78, 81]\n",
    "user_df = spark.createDataFrame(user_list, IntegerType()).toDF(\"userId\")\n",
    "user_df.show()"
   ]
  },
  {
   "cell_type": "code",
   "execution_count": 36,
   "id": "91d9d62d-5216-409a-8dac-a8daa86472cd",
   "metadata": {},
   "outputs": [
    {
     "name": "stderr",
     "output_type": "stream",
     "text": [
      "                                                                                \r"
     ]
    },
    {
     "name": "stdout",
     "output_type": "stream",
     "text": [
      "+------+--------------------+\n",
      "|userId|     recommendations|\n",
      "+------+--------------------+\n",
      "|    65|[{194434, 7.40906...|\n",
      "|    78|[{177209, 7.09564...|\n",
      "|    81|[{134673, 4.64257...|\n",
      "+------+--------------------+\n",
      "\n"
     ]
    }
   ],
   "source": [
    "user_recommend_movies = als_model.recommendForUserSubset(user_df, 3)\n",
    "user_recommend_movies.show()"
   ]
  },
  {
   "cell_type": "code",
   "execution_count": null,
   "id": "5b963aa6-080a-48d5-a6f5-41b0ae2e7cc6",
   "metadata": {},
   "outputs": [],
   "source": [
    "# movie-list load"
   ]
  },
  {
   "cell_type": "code",
   "execution_count": 37,
   "id": "87b9738c-2649-4559-aa75-2ea46cf7087d",
   "metadata": {},
   "outputs": [],
   "source": [
    "movie_file = 'data/movies.csv'\n",
    "movies_df = spark.read.csv(movie_file, inferSchema=True, header=True)"
   ]
  },
  {
   "cell_type": "code",
   "execution_count": 38,
   "id": "25344a55-c8a4-4033-ba78-c3403d13fb43",
   "metadata": {},
   "outputs": [
    {
     "name": "stdout",
     "output_type": "stream",
     "text": [
      "+-------+--------------------+--------------------+\n",
      "|movieId|               title|              genres|\n",
      "+-------+--------------------+--------------------+\n",
      "|      1|    Toy Story (1995)|Adventure|Animati...|\n",
      "|      2|      Jumanji (1995)|Adventure|Childre...|\n",
      "|      3|Grumpier Old Men ...|      Comedy|Romance|\n",
      "+-------+--------------------+--------------------+\n",
      "only showing top 3 rows\n",
      "\n"
     ]
    }
   ],
   "source": [
    "movies_df.show(3)"
   ]
  },
  {
   "cell_type": "code",
   "execution_count": null,
   "id": "a8f800b2-bd75-4355-b3ab-c1d51c654b25",
   "metadata": {},
   "outputs": [],
   "source": []
  },
  {
   "cell_type": "code",
   "execution_count": 39,
   "id": "66edd34b-2605-43aa-965f-6fd9ee535f23",
   "metadata": {},
   "outputs": [
    {
     "name": "stderr",
     "output_type": "stream",
     "text": [
      "                                                                                \r"
     ]
    },
    {
     "data": {
      "text/plain": [
       "[Row(movieId=194434, rating=7.4090657234191895),\n",
       " Row(movieId=205277, rating=7.142080307006836),\n",
       " Row(movieId=120272, rating=6.9019389152526855)]"
      ]
     },
     "execution_count": 39,
     "metadata": {},
     "output_type": "execute_result"
    }
   ],
   "source": [
    "#65번 사용자의 추천영화목록\n",
    "movies_list = user_recommend_movies.collect()[0].recommendations\n",
    "movies_list"
   ]
  },
  {
   "cell_type": "code",
   "execution_count": 40,
   "id": "1b69a947-35e2-4f07-8e17-0d43a00ea734",
   "metadata": {},
   "outputs": [
    {
     "name": "stdout",
     "output_type": "stream",
     "text": [
      "+-------+------------------+\n",
      "|movieId|            rating|\n",
      "+-------+------------------+\n",
      "| 194434|7.4090657234191895|\n",
      "| 205277| 7.142080307006836|\n",
      "| 120272|6.9019389152526855|\n",
      "+-------+------------------+\n",
      "\n"
     ]
    }
   ],
   "source": [
    "rec_df = spark.createDataFrame(movies_list)\n",
    "rec_df.show()"
   ]
  },
  {
   "cell_type": "code",
   "execution_count": null,
   "id": "30793a1c-c2fc-4d1d-94b1-9c8fac765e97",
   "metadata": {},
   "outputs": [],
   "source": [
    "# 영화정보와 추천영화 목록을 조인"
   ]
  },
  {
   "cell_type": "code",
   "execution_count": 41,
   "id": "4f7107be-fa0c-4485-b231-4ca7b2a01909",
   "metadata": {},
   "outputs": [],
   "source": [
    "rec_df.createOrReplaceTempView('recommend')\n",
    "movies_df.createOrReplaceTempView('movies')"
   ]
  },
  {
   "cell_type": "code",
   "execution_count": 42,
   "id": "cc2bb190-1174-48da-a8d3-0afabf05d55c",
   "metadata": {},
   "outputs": [],
   "source": [
    "query = '''\n",
    "select * \n",
    "from movies join recommend on movies.movieId = recommend.movieId\n",
    "order by rating desc\n",
    "'''"
   ]
  },
  {
   "cell_type": "code",
   "execution_count": 43,
   "id": "95ec5ef5-d2f4-4e0a-9848-774e9f850183",
   "metadata": {},
   "outputs": [],
   "source": [
    "recommend_movies = spark.sql(query)"
   ]
  },
  {
   "cell_type": "code",
   "execution_count": 44,
   "id": "9d4144a9-b6c8-4d6a-b3b4-360d7ae145d7",
   "metadata": {},
   "outputs": [
    {
     "name": "stdout",
     "output_type": "stream",
     "text": [
      "+-------+-----------------+--------------------+-------+------------------+\n",
      "|movieId|            title|              genres|movieId|            rating|\n",
      "+-------+-----------------+--------------------+-------+------------------+\n",
      "| 194434|Adrenaline (1990)|  (no genres listed)| 194434|7.4090657234191895|\n",
      "| 205277|Inside Out (1991)|Comedy|Drama|Romance| 205277| 7.142080307006836|\n",
      "| 120272| Get Crazy (1983)|              Comedy| 120272|6.9019389152526855|\n",
      "+-------+-----------------+--------------------+-------+------------------+\n",
      "\n"
     ]
    }
   ],
   "source": [
    "recommend_movies.show()"
   ]
  },
  {
   "cell_type": "code",
   "execution_count": null,
   "id": "36c93325-69be-447d-8f7a-978a211ea1d3",
   "metadata": {},
   "outputs": [],
   "source": [
    "spark.stop()"
   ]
  }
 ],
 "metadata": {
  "kernelspec": {
   "display_name": "Python(spark_start)",
   "language": "python",
   "name": "spark_start"
  },
  "language_info": {
   "codemirror_mode": {
    "name": "ipython",
    "version": 3
   },
   "file_extension": ".py",
   "mimetype": "text/x-python",
   "name": "python",
   "nbconvert_exporter": "python",
   "pygments_lexer": "ipython3",
   "version": "3.8.20"
  }
 },
 "nbformat": 4,
 "nbformat_minor": 5
}
